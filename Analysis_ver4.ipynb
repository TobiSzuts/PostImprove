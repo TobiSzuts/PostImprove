{
 "cells": [
  {
   "cell_type": "markdown",
   "metadata": {},
   "source": [
    "# Analysis ver4"
   ]
  },
  {
   "cell_type": "markdown",
   "metadata": {},
   "source": [
    "Modifed from ver3 to create a better model.  Uses pipelines extensively."
   ]
  },
  {
   "cell_type": "code",
   "execution_count": 1,
   "metadata": {
    "collapsed": true
   },
   "outputs": [],
   "source": [
    "%matplotlib inline"
   ]
  },
  {
   "cell_type": "code",
   "execution_count": 2,
   "metadata": {},
   "outputs": [
    {
     "name": "stdout",
     "output_type": "stream",
     "text": [
      "/media/tobiszuts/Windows/Data/Work/Insight/project\n"
     ]
    }
   ],
   "source": [
    "cd /home/tobiszuts/insight/project"
   ]
  },
  {
   "cell_type": "code",
   "execution_count": 3,
   "metadata": {
    "collapsed": true
   },
   "outputs": [],
   "source": [
    "import pickle\n",
    "import pandas as pd\n",
    "import numpy as np\n",
    "import matplotlib.pyplot as plt"
   ]
  },
  {
   "cell_type": "markdown",
   "metadata": {},
   "source": [
    "# Data cleaning\n",
    "\n",
    "Get the data and start processing."
   ]
  },
  {
   "cell_type": "code",
   "execution_count": 4,
   "metadata": {
    "collapsed": true
   },
   "outputs": [],
   "source": [
    "file_load = \"Reddit_depression.p\"\n",
    "results = pickle.load( open(file_load, 'rb'))"
   ]
  },
  {
   "cell_type": "markdown",
   "metadata": {},
   "source": [
    "## Create Features"
   ]
  },
  {
   "cell_type": "code",
   "execution_count": 5,
   "metadata": {
    "collapsed": true
   },
   "outputs": [],
   "source": [
    "def PreProcessData_training(raw_data) :\n",
    "    \"\"\" This processes the post data, and can be used as \n",
    "    a template for the upload data.\n",
    "    \"\"\"\n",
    "    import pandas as pd\n",
    "    \n",
    "    data_raw = pd.DataFrame(raw_data)\n",
    "    # some of these columns aren't being used to create features yet\n",
    "    extract_keys = ['num_comments', 'created_utc', 'title', 'selftext']\n",
    "    data = data_raw[sorted(extract_keys)].copy()\n",
    "    \n",
    "    # remove all rows without any valid text\n",
    "    data = data[data.selftext.map(len) > 0]\n",
    "            \n",
    "    dates = pd.to_datetime(data.created_utc, unit=\"s\")\n",
    "    data['created_dayofweek'] = dates.dt.dayofweek\n",
    "    data['created_hour'] = dates.dt.hour\n",
    "    data['created_month'] = dates.dt.month\n",
    "    data['created_year'] = dates.dt.year\n",
    "    cut_off_year = 2011\n",
    "    data = data[ data.created_year > cut_off_year]\n",
    "    print('Removing all posts before 2011.')\n",
    "    \n",
    "    data['post_char_len'] = data.selftext.apply(lambda x: len(x))\n",
    "    data['post_num_qs'] = data.selftext.apply(lambda x: x.count('?'))\n",
    "    data['title_char_len'] = data.title.apply(lambda x: len(x))\n",
    "    data['title_num_qs'] = data.title.apply(lambda x: x.count('?'))\n",
    "    \n",
    "    def CountPostPunctuation(row) :\n",
    "        # count the number of punctuation in the selftext\n",
    "        import string\n",
    "        punc_set = set(string.punctuation)\n",
    "        num_punc = 0\n",
    "        for char in row['selftext'] :\n",
    "            if char in punc_set :\n",
    "                num_punc += 1\n",
    "        return num_punc\n",
    "    def CountTitlePunctuation(row) :\n",
    "        # count the number of punctuation in the selftext\n",
    "        import string\n",
    "        punc_set = set(string.punctuation)\n",
    "        num_punc = 0\n",
    "        for char in row['title'] :\n",
    "            if char in punc_set :\n",
    "                num_punc += 1\n",
    "        return num_punc\n",
    "\n",
    "    data['post_num_punc'] = data.apply(CountPostPunctuation, axis=1)\n",
    "    data['title_num_punc'] = data.apply(CountTitlePunctuation, axis=1)\n",
    "    data['post_perc_punc'] = data.post_num_punc / data.post_char_len\n",
    "    data['title_perc_punc'] = data.title_num_punc / data.title_char_len\n",
    "    data.post_perc_punc = data.post_perc_punc.fillna(0)\n",
    "    print('Earliest post = {}'.format(pd.to_datetime(data.created_utc.min(), unit=\"s\")))\n",
    "\n",
    "    # get rid of columns that aren't needed for the model\n",
    "    drop_cols = ['created_utc',]\n",
    "        \n",
    "    return data.drop(drop_cols, axis=1)"
   ]
  },
  {
   "cell_type": "markdown",
   "metadata": {},
   "source": [
    "The following function takes about 20 seconds to run on the whole data set."
   ]
  },
  {
   "cell_type": "code",
   "execution_count": 7,
   "metadata": {},
   "outputs": [
    {
     "name": "stdout",
     "output_type": "stream",
     "text": [
      "Removing all posts before 2011.\n",
      "Earliest post = 2012-01-01 00:41:48\n",
      "There are 73724 posts after processing.\n"
     ]
    },
    {
     "data": {
      "text/html": [
       "<div>\n",
       "<style>\n",
       "    .dataframe thead tr:only-child th {\n",
       "        text-align: right;\n",
       "    }\n",
       "\n",
       "    .dataframe thead th {\n",
       "        text-align: left;\n",
       "    }\n",
       "\n",
       "    .dataframe tbody tr th {\n",
       "        vertical-align: top;\n",
       "    }\n",
       "</style>\n",
       "<table border=\"1\" class=\"dataframe\">\n",
       "  <thead>\n",
       "    <tr style=\"text-align: right;\">\n",
       "      <th></th>\n",
       "      <th>num_comments</th>\n",
       "      <th>selftext</th>\n",
       "      <th>title</th>\n",
       "      <th>created_dayofweek</th>\n",
       "      <th>created_hour</th>\n",
       "      <th>created_month</th>\n",
       "      <th>created_year</th>\n",
       "      <th>post_char_len</th>\n",
       "      <th>post_num_qs</th>\n",
       "      <th>title_char_len</th>\n",
       "      <th>title_num_qs</th>\n",
       "      <th>post_num_punc</th>\n",
       "      <th>title_num_punc</th>\n",
       "      <th>post_perc_punc</th>\n",
       "      <th>title_perc_punc</th>\n",
       "    </tr>\n",
       "  </thead>\n",
       "  <tbody>\n",
       "    <tr>\n",
       "      <th>0</th>\n",
       "      <td>0</td>\n",
       "      <td>I can't think straight, I can't concentrate, I...</td>\n",
       "      <td>I feel like my brain doesn't work anymore.</td>\n",
       "      <td>4</td>\n",
       "      <td>14</td>\n",
       "      <td>2</td>\n",
       "      <td>2014</td>\n",
       "      <td>747</td>\n",
       "      <td>1</td>\n",
       "      <td>42</td>\n",
       "      <td>0</td>\n",
       "      <td>34</td>\n",
       "      <td>2</td>\n",
       "      <td>0.045515</td>\n",
       "      <td>0.047619</td>\n",
       "    </tr>\n",
       "    <tr>\n",
       "      <th>1</th>\n",
       "      <td>0</td>\n",
       "      <td>There is this amazing girl that i've known sin...</td>\n",
       "      <td>She's the girl i was always looking for... But...</td>\n",
       "      <td>4</td>\n",
       "      <td>14</td>\n",
       "      <td>2</td>\n",
       "      <td>2014</td>\n",
       "      <td>789</td>\n",
       "      <td>5</td>\n",
       "      <td>72</td>\n",
       "      <td>0</td>\n",
       "      <td>43</td>\n",
       "      <td>4</td>\n",
       "      <td>0.054499</td>\n",
       "      <td>0.055556</td>\n",
       "    </tr>\n",
       "    <tr>\n",
       "      <th>2</th>\n",
       "      <td>1</td>\n",
       "      <td>I've been struggling with depression since hig...</td>\n",
       "      <td>I don't have anyone and I don't know why</td>\n",
       "      <td>4</td>\n",
       "      <td>14</td>\n",
       "      <td>2</td>\n",
       "      <td>2014</td>\n",
       "      <td>771</td>\n",
       "      <td>0</td>\n",
       "      <td>40</td>\n",
       "      <td>0</td>\n",
       "      <td>25</td>\n",
       "      <td>2</td>\n",
       "      <td>0.032425</td>\n",
       "      <td>0.050000</td>\n",
       "    </tr>\n",
       "    <tr>\n",
       "      <th>3</th>\n",
       "      <td>0</td>\n",
       "      <td>i burn myself..... i heat up a knife and hold ...</td>\n",
       "      <td>how often do you guys inflict self harm?</td>\n",
       "      <td>4</td>\n",
       "      <td>13</td>\n",
       "      <td>2</td>\n",
       "      <td>2014</td>\n",
       "      <td>337</td>\n",
       "      <td>1</td>\n",
       "      <td>40</td>\n",
       "      <td>1</td>\n",
       "      <td>19</td>\n",
       "      <td>1</td>\n",
       "      <td>0.056380</td>\n",
       "      <td>0.025000</td>\n",
       "    </tr>\n",
       "    <tr>\n",
       "      <th>4</th>\n",
       "      <td>0</td>\n",
       "      <td>I’m scared\\n        Of myself\\n       ...</td>\n",
       "      <td>All I do is hide</td>\n",
       "      <td>4</td>\n",
       "      <td>12</td>\n",
       "      <td>2</td>\n",
       "      <td>2014</td>\n",
       "      <td>671</td>\n",
       "      <td>0</td>\n",
       "      <td>16</td>\n",
       "      <td>0</td>\n",
       "      <td>0</td>\n",
       "      <td>0</td>\n",
       "      <td>0.000000</td>\n",
       "      <td>0.000000</td>\n",
       "    </tr>\n",
       "  </tbody>\n",
       "</table>\n",
       "</div>"
      ],
      "text/plain": [
       "   num_comments                                           selftext  \\\n",
       "0             0  I can't think straight, I can't concentrate, I...   \n",
       "1             0  There is this amazing girl that i've known sin...   \n",
       "2             1  I've been struggling with depression since hig...   \n",
       "3             0  i burn myself..... i heat up a knife and hold ...   \n",
       "4             0          I’m scared\\n        Of myself\\n       ...   \n",
       "\n",
       "                                               title  created_dayofweek  \\\n",
       "0         I feel like my brain doesn't work anymore.                  4   \n",
       "1  She's the girl i was always looking for... But...                  4   \n",
       "2           I don't have anyone and I don't know why                  4   \n",
       "3           how often do you guys inflict self harm?                  4   \n",
       "4                                   All I do is hide                  4   \n",
       "\n",
       "   created_hour  created_month  created_year  post_char_len  post_num_qs  \\\n",
       "0            14              2          2014            747            1   \n",
       "1            14              2          2014            789            5   \n",
       "2            14              2          2014            771            0   \n",
       "3            13              2          2014            337            1   \n",
       "4            12              2          2014            671            0   \n",
       "\n",
       "   title_char_len  title_num_qs  post_num_punc  title_num_punc  \\\n",
       "0              42             0             34               2   \n",
       "1              72             0             43               4   \n",
       "2              40             0             25               2   \n",
       "3              40             1             19               1   \n",
       "4              16             0              0               0   \n",
       "\n",
       "   post_perc_punc  title_perc_punc  \n",
       "0        0.045515         0.047619  \n",
       "1        0.054499         0.055556  \n",
       "2        0.032425         0.050000  \n",
       "3        0.056380         0.025000  \n",
       "4        0.000000         0.000000  "
      ]
     },
     "execution_count": 7,
     "metadata": {},
     "output_type": "execute_result"
    }
   ],
   "source": [
    "data_clean = PreProcessData_training(results)\n",
    "print('There are {} posts after processing.'.format(len(data_clean)))\n",
    "data_clean.head()"
   ]
  },
  {
   "cell_type": "markdown",
   "metadata": {
    "collapsed": true
   },
   "source": [
    "# NLP pre-processing\n",
    "\n",
    "Create the corpus from the text post.  Limit to 20,000 to make processing easier."
   ]
  },
  {
   "cell_type": "code",
   "execution_count": 8,
   "metadata": {},
   "outputs": [],
   "source": [
    "data_clean = data_clean[:20000]"
   ]
  },
  {
   "cell_type": "markdown",
   "metadata": {},
   "source": [
    "All processing in one function."
   ]
  },
  {
   "cell_type": "code",
   "execution_count": 9,
   "metadata": {
    "collapsed": true
   },
   "outputs": [],
   "source": [
    "from gensim import corpora, models, similarities\n",
    "\n",
    "def CreateCorpus(raw_text) :\n",
    "    \"\"\" Create a corpus from an array of documents (each document\n",
    "        a string).  It expects it as a python object, not a pandas\n",
    "        one.  Returns an array of tokenized texts and the corpus dictionary.\n",
    "    \"\"\"\n",
    "    from gensim import corpora, models, similarities\n",
    "    from nltk.tokenize import WordPunctTokenizer\n",
    "    import string\n",
    "    from nltk.stem.snowball import SnowballStemmer\n",
    "    from nltk.corpus import stopwords\n",
    "\n",
    "    stop_words = set(stopwords.words('english'))\n",
    "    punctuation = set(string.punctuation)\n",
    "    word_punct_tokenizer = WordPunctTokenizer()\n",
    "    stemmer = SnowballStemmer(\"english\", ignore_stopwords=True)\n",
    "    \n",
    "    texts_proc = []\n",
    "    for text in raw_text :\n",
    "        words = word_punct_tokenizer.tokenize(text)\n",
    "        words = [w for w in words if (w not in stop_words)]\n",
    "        texts_proc.append([stemmer.stem(w.lower()) for w in words \n",
    "                                if not all(c in punctuation for c in w)])\n",
    "        \n",
    "    # create dictionary\n",
    "    corpus_dictionary = corpora.Dictionary(texts_proc)\n",
    "    corpus_dictionary.filter_extremes(no_below=3, no_above=0.5)\n",
    "    print(corpus_dictionary)\n",
    "    \n",
    "    return texts_proc, corpus_dictionary"
   ]
  },
  {
   "cell_type": "code",
   "execution_count": 10,
   "metadata": {},
   "outputs": [
    {
     "name": "stdout",
     "output_type": "stream",
     "text": [
      "Dictionary(11384 unique tokens: ['think', 'straight', 'concentr', 'feel', 'like']...)\n"
     ]
    }
   ],
   "source": [
    "# takes ~5 minutes to run\n",
    "posts_raw = list(data_clean.selftext)\n",
    "titles_raw = list(data_clean.title)\n",
    "(all_tokenized, all_dictionary) = CreateCorpus(posts_raw + titles_raw)\n",
    "posts_tokenized = all_tokenized[:len(posts_raw)]\n",
    "titles_tokenized = all_tokenized[len(posts_raw):]"
   ]
  },
  {
   "cell_type": "markdown",
   "metadata": {},
   "source": [
    "Previously (with stop words, no stemming, and extra punctuation, and all 90k posts), dictionary had 80k terms.  With all that filtering, it now has 20k terms.  With only 20k posts, it has 11k terms."
   ]
  },
  {
   "cell_type": "code",
   "execution_count": 11,
   "metadata": {
    "collapsed": true
   },
   "outputs": [],
   "source": [
    "posts_vec = [all_dictionary.doc2bow(post) for post in posts_tokenized]\n",
    "titles_vec = [all_dictionary.doc2bow(post) for post in titles_tokenized]"
   ]
  },
  {
   "cell_type": "markdown",
   "metadata": {},
   "source": [
    "Create a couple more features.  Note that the word tokenization here is pretty basic, just splitting on white space, and could definitely be improved."
   ]
  },
  {
   "cell_type": "code",
   "execution_count": 12,
   "metadata": {
    "collapsed": true
   },
   "outputs": [],
   "source": [
    "def AddWordFeatures(dataframe, posts_raw, posts_vec, titles_raw, titles_vec) :\n",
    "    \"\"\" Add some word related features to the dataframe.\n",
    "        Arguments: X_raw is the raw data without any process.  X_vec is the vectorized\n",
    "        version of that, which has stop words and punctuation removed.\n",
    "    \"\"\"\n",
    "    dataframe_new = dataframe.copy()\n",
    "    dataframe_new = dataframe_new.assign(post_word_len1 = [len(post.split()) for post in posts_raw] )\n",
    "    dataframe_new = dataframe_new.assign(post_word_len2 = [len(post) for post in posts_vec] )\n",
    "    \n",
    "    dataframe_new = dataframe_new.assign(title_word_len1 = [len(post.split()) for post in titles_raw] )\n",
    "    dataframe_new = dataframe_new.assign(title_word_len2 = [len(post) for post in titles_vec] )\n",
    "    return dataframe_new"
   ]
  },
  {
   "cell_type": "code",
   "execution_count": 13,
   "metadata": {
    "collapsed": true
   },
   "outputs": [],
   "source": [
    "data_clean = AddWordFeatures(data_clean, posts_raw, posts_vec, titles_raw, titles_vec)"
   ]
  },
  {
   "cell_type": "markdown",
   "metadata": {},
   "source": [
    "## Latent Semantic Analysis\n",
    "\n",
    "This is effectively PCA on the tfidf vectors to cluster them.  Use the Gensim implementation."
   ]
  },
  {
   "cell_type": "code",
   "execution_count": 14,
   "metadata": {},
   "outputs": [
    {
     "name": "stdout",
     "output_type": "stream",
     "text": [
      "Dictionary(11384 unique tokens: ['think', 'straight', 'concentr', 'feel', 'like']...)\n"
     ]
    }
   ],
   "source": [
    "from gensim.models import lsimodel\n",
    "num_lsi_topics = 400\n",
    "print(all_dictionary)"
   ]
  },
  {
   "cell_type": "code",
   "execution_count": 15,
   "metadata": {
    "collapsed": true
   },
   "outputs": [],
   "source": [
    "post_lsi = lsimodel.LsiModel(posts_vec, num_topics=num_lsi_topics, id2word=all_dictionary)\n",
    "title_lsi = lsimodel.LsiModel(titles_vec, num_topics=num_lsi_topics, id2word=all_dictionary)"
   ]
  },
  {
   "cell_type": "code",
   "execution_count": 16,
   "metadata": {
    "collapsed": true
   },
   "outputs": [],
   "source": [
    "def ComputeDocumentLSIs(documents, lsi, N, label_base = 'lsi') : \n",
    "    \" Compute the LSI representation of every document in the corpus\"\n",
    "    baseline = [0 for x in range(N)]\n",
    "    col_labels = ['{}_{}'.format(label_base, x) for x in range(N)]\n",
    "    new_features = pd.DataFrame([], columns=col_labels)\n",
    "    for (x, text) in enumerate(documents) :\n",
    "        if len(text) > 0:\n",
    "            lsi_temp = lsi[text]\n",
    "            if len(lsi_temp) == N :\n",
    "                temp = [y for (z,y) in lsi_temp]\n",
    "                new_features.loc[x] = temp\n",
    "            else :\n",
    "                #print(x, len(temp))\n",
    "                new_features.loc[x] = baseline\n",
    "        else :\n",
    "            new_features.loc[x] = baseline\n",
    "    return new_features"
   ]
  },
  {
   "cell_type": "markdown",
   "metadata": {},
   "source": [
    "The following has a funny issue: the title LSI features sometimes get returned as a vector with fewer dimensions than N.  For N=100, it goes as low as 93, primarily when the number of words, after stemming, is either 1 or 2."
   ]
  },
  {
   "cell_type": "code",
   "execution_count": 17,
   "metadata": {},
   "outputs": [
    {
     "name": "stdout",
     "output_type": "stream",
     "text": [
      "--- 952.9912796020508 seconds ---\n"
     ]
    },
    {
     "data": {
      "text/html": [
       "<div>\n",
       "<style>\n",
       "    .dataframe thead tr:only-child th {\n",
       "        text-align: right;\n",
       "    }\n",
       "\n",
       "    .dataframe thead th {\n",
       "        text-align: left;\n",
       "    }\n",
       "\n",
       "    .dataframe tbody tr th {\n",
       "        vertical-align: top;\n",
       "    }\n",
       "</style>\n",
       "<table border=\"1\" class=\"dataframe\">\n",
       "  <thead>\n",
       "    <tr style=\"text-align: right;\">\n",
       "      <th></th>\n",
       "      <th>post_lsi_0</th>\n",
       "      <th>post_lsi_1</th>\n",
       "      <th>post_lsi_2</th>\n",
       "      <th>post_lsi_3</th>\n",
       "      <th>post_lsi_4</th>\n",
       "      <th>post_lsi_5</th>\n",
       "      <th>post_lsi_6</th>\n",
       "      <th>post_lsi_7</th>\n",
       "      <th>post_lsi_8</th>\n",
       "      <th>post_lsi_9</th>\n",
       "      <th>...</th>\n",
       "      <th>post_lsi_390</th>\n",
       "      <th>post_lsi_391</th>\n",
       "      <th>post_lsi_392</th>\n",
       "      <th>post_lsi_393</th>\n",
       "      <th>post_lsi_394</th>\n",
       "      <th>post_lsi_395</th>\n",
       "      <th>post_lsi_396</th>\n",
       "      <th>post_lsi_397</th>\n",
       "      <th>post_lsi_398</th>\n",
       "      <th>post_lsi_399</th>\n",
       "    </tr>\n",
       "  </thead>\n",
       "  <tbody>\n",
       "    <tr>\n",
       "      <th>0</th>\n",
       "      <td>3.828536</td>\n",
       "      <td>0.633560</td>\n",
       "      <td>-1.490601</td>\n",
       "      <td>-0.309393</td>\n",
       "      <td>-0.148547</td>\n",
       "      <td>-0.246853</td>\n",
       "      <td>1.016618</td>\n",
       "      <td>0.834225</td>\n",
       "      <td>-0.186890</td>\n",
       "      <td>0.210056</td>\n",
       "      <td>...</td>\n",
       "      <td>0.242957</td>\n",
       "      <td>0.097501</td>\n",
       "      <td>-0.185518</td>\n",
       "      <td>0.074859</td>\n",
       "      <td>0.338405</td>\n",
       "      <td>0.104274</td>\n",
       "      <td>0.271242</td>\n",
       "      <td>-0.108324</td>\n",
       "      <td>-0.058139</td>\n",
       "      <td>0.032553</td>\n",
       "    </tr>\n",
       "    <tr>\n",
       "      <th>1</th>\n",
       "      <td>4.362322</td>\n",
       "      <td>0.512693</td>\n",
       "      <td>-1.459977</td>\n",
       "      <td>1.983097</td>\n",
       "      <td>-0.871054</td>\n",
       "      <td>-0.916573</td>\n",
       "      <td>-2.331113</td>\n",
       "      <td>0.057649</td>\n",
       "      <td>-1.021594</td>\n",
       "      <td>1.260495</td>\n",
       "      <td>...</td>\n",
       "      <td>0.005695</td>\n",
       "      <td>0.287778</td>\n",
       "      <td>-0.103324</td>\n",
       "      <td>0.227939</td>\n",
       "      <td>0.171481</td>\n",
       "      <td>-0.103904</td>\n",
       "      <td>0.442327</td>\n",
       "      <td>0.047107</td>\n",
       "      <td>-0.261836</td>\n",
       "      <td>0.098854</td>\n",
       "    </tr>\n",
       "    <tr>\n",
       "      <th>2</th>\n",
       "      <td>4.866837</td>\n",
       "      <td>0.810612</td>\n",
       "      <td>1.073467</td>\n",
       "      <td>-0.588028</td>\n",
       "      <td>-1.392558</td>\n",
       "      <td>-4.053789</td>\n",
       "      <td>-0.383829</td>\n",
       "      <td>0.494963</td>\n",
       "      <td>2.520055</td>\n",
       "      <td>-3.845573</td>\n",
       "      <td>...</td>\n",
       "      <td>0.029837</td>\n",
       "      <td>0.259457</td>\n",
       "      <td>-0.152136</td>\n",
       "      <td>-0.087605</td>\n",
       "      <td>-0.014549</td>\n",
       "      <td>0.054357</td>\n",
       "      <td>0.051598</td>\n",
       "      <td>-0.015356</td>\n",
       "      <td>0.289199</td>\n",
       "      <td>-0.002041</td>\n",
       "    </tr>\n",
       "    <tr>\n",
       "      <th>3</th>\n",
       "      <td>0.789656</td>\n",
       "      <td>0.135743</td>\n",
       "      <td>-0.020366</td>\n",
       "      <td>0.042346</td>\n",
       "      <td>0.303198</td>\n",
       "      <td>0.530269</td>\n",
       "      <td>-0.244226</td>\n",
       "      <td>-0.475025</td>\n",
       "      <td>0.432604</td>\n",
       "      <td>-0.126517</td>\n",
       "      <td>...</td>\n",
       "      <td>0.144476</td>\n",
       "      <td>0.001220</td>\n",
       "      <td>-0.238231</td>\n",
       "      <td>0.140315</td>\n",
       "      <td>0.005450</td>\n",
       "      <td>0.036857</td>\n",
       "      <td>-0.067330</td>\n",
       "      <td>0.129358</td>\n",
       "      <td>-0.119102</td>\n",
       "      <td>0.222290</td>\n",
       "    </tr>\n",
       "    <tr>\n",
       "      <th>4</th>\n",
       "      <td>5.406624</td>\n",
       "      <td>-2.138291</td>\n",
       "      <td>-6.856688</td>\n",
       "      <td>2.847849</td>\n",
       "      <td>0.412751</td>\n",
       "      <td>-1.484722</td>\n",
       "      <td>-3.382724</td>\n",
       "      <td>0.734145</td>\n",
       "      <td>-5.109443</td>\n",
       "      <td>-0.511881</td>\n",
       "      <td>...</td>\n",
       "      <td>-0.101986</td>\n",
       "      <td>0.314430</td>\n",
       "      <td>0.021144</td>\n",
       "      <td>-0.061124</td>\n",
       "      <td>-0.326959</td>\n",
       "      <td>-0.603046</td>\n",
       "      <td>0.530647</td>\n",
       "      <td>0.339874</td>\n",
       "      <td>0.040091</td>\n",
       "      <td>0.398121</td>\n",
       "    </tr>\n",
       "  </tbody>\n",
       "</table>\n",
       "<p>5 rows × 400 columns</p>\n",
       "</div>"
      ],
      "text/plain": [
       "   post_lsi_0  post_lsi_1  post_lsi_2  post_lsi_3  post_lsi_4  post_lsi_5  \\\n",
       "0    3.828536    0.633560   -1.490601   -0.309393   -0.148547   -0.246853   \n",
       "1    4.362322    0.512693   -1.459977    1.983097   -0.871054   -0.916573   \n",
       "2    4.866837    0.810612    1.073467   -0.588028   -1.392558   -4.053789   \n",
       "3    0.789656    0.135743   -0.020366    0.042346    0.303198    0.530269   \n",
       "4    5.406624   -2.138291   -6.856688    2.847849    0.412751   -1.484722   \n",
       "\n",
       "   post_lsi_6  post_lsi_7  post_lsi_8  post_lsi_9      ...       post_lsi_390  \\\n",
       "0    1.016618    0.834225   -0.186890    0.210056      ...           0.242957   \n",
       "1   -2.331113    0.057649   -1.021594    1.260495      ...           0.005695   \n",
       "2   -0.383829    0.494963    2.520055   -3.845573      ...           0.029837   \n",
       "3   -0.244226   -0.475025    0.432604   -0.126517      ...           0.144476   \n",
       "4   -3.382724    0.734145   -5.109443   -0.511881      ...          -0.101986   \n",
       "\n",
       "   post_lsi_391  post_lsi_392  post_lsi_393  post_lsi_394  post_lsi_395  \\\n",
       "0      0.097501     -0.185518      0.074859      0.338405      0.104274   \n",
       "1      0.287778     -0.103324      0.227939      0.171481     -0.103904   \n",
       "2      0.259457     -0.152136     -0.087605     -0.014549      0.054357   \n",
       "3      0.001220     -0.238231      0.140315      0.005450      0.036857   \n",
       "4      0.314430      0.021144     -0.061124     -0.326959     -0.603046   \n",
       "\n",
       "   post_lsi_396  post_lsi_397  post_lsi_398  post_lsi_399  \n",
       "0      0.271242     -0.108324     -0.058139      0.032553  \n",
       "1      0.442327      0.047107     -0.261836      0.098854  \n",
       "2      0.051598     -0.015356      0.289199     -0.002041  \n",
       "3     -0.067330      0.129358     -0.119102      0.222290  \n",
       "4      0.530647      0.339874      0.040091      0.398121  \n",
       "\n",
       "[5 rows x 400 columns]"
      ]
     },
     "execution_count": 17,
     "metadata": {},
     "output_type": "execute_result"
    }
   ],
   "source": [
    "# this takes 85 s for 20k posts and 20 topics, 154 s for 20k and 100, 950 s for 20k and 400\n",
    "import time\n",
    "start_time = time.time()\n",
    "\n",
    "post_lsi_features = ComputeDocumentLSIs(posts_vec, post_lsi, num_lsi_topics, label_base = 'post_lsi')\n",
    "title_lsi_features = ComputeDocumentLSIs(titles_vec, title_lsi, num_lsi_topics, label_base = 'title_lsi')\n",
    "\n",
    "print(\"--- %s seconds ---\" % (time.time() - start_time))  \n",
    "post_lsi_features.head()"
   ]
  },
  {
   "cell_type": "markdown",
   "metadata": {},
   "source": [
    "Now create the new feature vector."
   ]
  },
  {
   "cell_type": "code",
   "execution_count": 18,
   "metadata": {
    "collapsed": true
   },
   "outputs": [],
   "source": [
    "def AddLSAFeatures(data_old, post_lsi_features, title_lsi_features) :\n",
    "    \"\"\" Add the LSA features to the dataframe, remove the title and post fields.\n",
    "        Need to reset index values so no rows are dropped.\n",
    "    \"\"\"\n",
    "    data_new = data_old.copy()\n",
    "    post_lsi_features = post_lsi_features.set_index(data_new.index)\n",
    "    title_lsi_features = title_lsi_features.set_index(data_new.index)\n",
    "    data_new = data_new.join(post_lsi_features)\n",
    "    data_new = data_new.join(title_lsi_features)\n",
    "    data_new = data_new.drop(['selftext', 'title'], axis=1)\n",
    "    \n",
    "    return data_new"
   ]
  },
  {
   "cell_type": "code",
   "execution_count": 19,
   "metadata": {},
   "outputs": [
    {
     "name": "stdout",
     "output_type": "stream",
     "text": [
      "(20000, 817) (20000, 400)\n"
     ]
    },
    {
     "data": {
      "text/html": [
       "<div>\n",
       "<style>\n",
       "    .dataframe thead tr:only-child th {\n",
       "        text-align: right;\n",
       "    }\n",
       "\n",
       "    .dataframe thead th {\n",
       "        text-align: left;\n",
       "    }\n",
       "\n",
       "    .dataframe tbody tr th {\n",
       "        vertical-align: top;\n",
       "    }\n",
       "</style>\n",
       "<table border=\"1\" class=\"dataframe\">\n",
       "  <thead>\n",
       "    <tr style=\"text-align: right;\">\n",
       "      <th></th>\n",
       "      <th>num_comments</th>\n",
       "      <th>created_dayofweek</th>\n",
       "      <th>created_hour</th>\n",
       "      <th>created_month</th>\n",
       "      <th>created_year</th>\n",
       "      <th>post_char_len</th>\n",
       "      <th>post_num_qs</th>\n",
       "      <th>title_char_len</th>\n",
       "      <th>title_num_qs</th>\n",
       "      <th>post_num_punc</th>\n",
       "      <th>...</th>\n",
       "      <th>title_lsi_390</th>\n",
       "      <th>title_lsi_391</th>\n",
       "      <th>title_lsi_392</th>\n",
       "      <th>title_lsi_393</th>\n",
       "      <th>title_lsi_394</th>\n",
       "      <th>title_lsi_395</th>\n",
       "      <th>title_lsi_396</th>\n",
       "      <th>title_lsi_397</th>\n",
       "      <th>title_lsi_398</th>\n",
       "      <th>title_lsi_399</th>\n",
       "    </tr>\n",
       "  </thead>\n",
       "  <tbody>\n",
       "    <tr>\n",
       "      <th>0</th>\n",
       "      <td>0</td>\n",
       "      <td>4</td>\n",
       "      <td>14</td>\n",
       "      <td>2</td>\n",
       "      <td>2014</td>\n",
       "      <td>747</td>\n",
       "      <td>1</td>\n",
       "      <td>42</td>\n",
       "      <td>0</td>\n",
       "      <td>34</td>\n",
       "      <td>...</td>\n",
       "      <td>-0.013101</td>\n",
       "      <td>0.018861</td>\n",
       "      <td>0.017071</td>\n",
       "      <td>0.072441</td>\n",
       "      <td>-0.170715</td>\n",
       "      <td>0.014562</td>\n",
       "      <td>-0.159632</td>\n",
       "      <td>-0.087567</td>\n",
       "      <td>-0.011338</td>\n",
       "      <td>-0.089088</td>\n",
       "    </tr>\n",
       "    <tr>\n",
       "      <th>1</th>\n",
       "      <td>0</td>\n",
       "      <td>4</td>\n",
       "      <td>14</td>\n",
       "      <td>2</td>\n",
       "      <td>2014</td>\n",
       "      <td>789</td>\n",
       "      <td>5</td>\n",
       "      <td>72</td>\n",
       "      <td>0</td>\n",
       "      <td>43</td>\n",
       "      <td>...</td>\n",
       "      <td>0.024902</td>\n",
       "      <td>0.039929</td>\n",
       "      <td>0.031977</td>\n",
       "      <td>0.027328</td>\n",
       "      <td>-0.022389</td>\n",
       "      <td>-0.001492</td>\n",
       "      <td>0.005747</td>\n",
       "      <td>0.035699</td>\n",
       "      <td>0.079924</td>\n",
       "      <td>-0.021723</td>\n",
       "    </tr>\n",
       "    <tr>\n",
       "      <th>2</th>\n",
       "      <td>1</td>\n",
       "      <td>4</td>\n",
       "      <td>14</td>\n",
       "      <td>2</td>\n",
       "      <td>2014</td>\n",
       "      <td>771</td>\n",
       "      <td>0</td>\n",
       "      <td>40</td>\n",
       "      <td>0</td>\n",
       "      <td>25</td>\n",
       "      <td>...</td>\n",
       "      <td>-0.012352</td>\n",
       "      <td>0.002005</td>\n",
       "      <td>0.008562</td>\n",
       "      <td>0.009517</td>\n",
       "      <td>-0.014396</td>\n",
       "      <td>-0.026986</td>\n",
       "      <td>0.006011</td>\n",
       "      <td>0.006036</td>\n",
       "      <td>0.001092</td>\n",
       "      <td>0.009211</td>\n",
       "    </tr>\n",
       "    <tr>\n",
       "      <th>3</th>\n",
       "      <td>0</td>\n",
       "      <td>4</td>\n",
       "      <td>13</td>\n",
       "      <td>2</td>\n",
       "      <td>2014</td>\n",
       "      <td>337</td>\n",
       "      <td>1</td>\n",
       "      <td>40</td>\n",
       "      <td>1</td>\n",
       "      <td>19</td>\n",
       "      <td>...</td>\n",
       "      <td>-0.134285</td>\n",
       "      <td>0.051516</td>\n",
       "      <td>0.045021</td>\n",
       "      <td>-0.036653</td>\n",
       "      <td>-0.048915</td>\n",
       "      <td>-0.128913</td>\n",
       "      <td>-0.112972</td>\n",
       "      <td>0.017297</td>\n",
       "      <td>0.007641</td>\n",
       "      <td>-0.114715</td>\n",
       "    </tr>\n",
       "    <tr>\n",
       "      <th>4</th>\n",
       "      <td>0</td>\n",
       "      <td>4</td>\n",
       "      <td>12</td>\n",
       "      <td>2</td>\n",
       "      <td>2014</td>\n",
       "      <td>671</td>\n",
       "      <td>0</td>\n",
       "      <td>16</td>\n",
       "      <td>0</td>\n",
       "      <td>0</td>\n",
       "      <td>...</td>\n",
       "      <td>-0.044190</td>\n",
       "      <td>-0.022786</td>\n",
       "      <td>-0.003111</td>\n",
       "      <td>0.047092</td>\n",
       "      <td>0.026543</td>\n",
       "      <td>0.023326</td>\n",
       "      <td>0.016933</td>\n",
       "      <td>-0.027857</td>\n",
       "      <td>0.001742</td>\n",
       "      <td>0.027733</td>\n",
       "    </tr>\n",
       "  </tbody>\n",
       "</table>\n",
       "<p>5 rows × 817 columns</p>\n",
       "</div>"
      ],
      "text/plain": [
       "   num_comments  created_dayofweek  created_hour  created_month  created_year  \\\n",
       "0             0                  4            14              2          2014   \n",
       "1             0                  4            14              2          2014   \n",
       "2             1                  4            14              2          2014   \n",
       "3             0                  4            13              2          2014   \n",
       "4             0                  4            12              2          2014   \n",
       "\n",
       "   post_char_len  post_num_qs  title_char_len  title_num_qs  post_num_punc  \\\n",
       "0            747            1              42             0             34   \n",
       "1            789            5              72             0             43   \n",
       "2            771            0              40             0             25   \n",
       "3            337            1              40             1             19   \n",
       "4            671            0              16             0              0   \n",
       "\n",
       "       ...        title_lsi_390  title_lsi_391  title_lsi_392  title_lsi_393  \\\n",
       "0      ...            -0.013101       0.018861       0.017071       0.072441   \n",
       "1      ...             0.024902       0.039929       0.031977       0.027328   \n",
       "2      ...            -0.012352       0.002005       0.008562       0.009517   \n",
       "3      ...            -0.134285       0.051516       0.045021      -0.036653   \n",
       "4      ...            -0.044190      -0.022786      -0.003111       0.047092   \n",
       "\n",
       "   title_lsi_394  title_lsi_395  title_lsi_396  title_lsi_397  title_lsi_398  \\\n",
       "0      -0.170715       0.014562      -0.159632      -0.087567      -0.011338   \n",
       "1      -0.022389      -0.001492       0.005747       0.035699       0.079924   \n",
       "2      -0.014396      -0.026986       0.006011       0.006036       0.001092   \n",
       "3      -0.048915      -0.128913      -0.112972       0.017297       0.007641   \n",
       "4       0.026543       0.023326       0.016933      -0.027857       0.001742   \n",
       "\n",
       "   title_lsi_399  \n",
       "0      -0.089088  \n",
       "1      -0.021723  \n",
       "2       0.009211  \n",
       "3      -0.114715  \n",
       "4       0.027733  \n",
       "\n",
       "[5 rows x 817 columns]"
      ]
     },
     "execution_count": 19,
     "metadata": {},
     "output_type": "execute_result"
    }
   ],
   "source": [
    "data_clean2 = AddLSAFeatures(data_clean, post_lsi_features, title_lsi_features)\n",
    "print(data_clean2.shape, post_lsi_features.shape)\n",
    "data_clean2.head()"
   ]
  },
  {
   "cell_type": "markdown",
   "metadata": {},
   "source": [
    "# Classification Model"
   ]
  },
  {
   "cell_type": "code",
   "execution_count": 561,
   "metadata": {},
   "outputs": [
    {
     "data": {
      "image/png": "[encoded data removed]",
      "text/plain": [
       "<matplotlib.figure.Figure at 0x7fa683f9c2e8>"
      ]
     },
     "metadata": {},
     "output_type": "display_data"
    }
   ],
   "source": [
    "data_clean2.num_comments.hist(bins=311)\n",
    "plt.yscale('log')\n",
    "plt.xscale('log')"
   ]
  },
  {
   "cell_type": "code",
   "execution_count": 100,
   "metadata": {},
   "outputs": [
    {
     "data": {
      "image/png": "[encoded data removed]",
      "text/plain": [
       "<matplotlib.figure.Figure at 0x7fce942306d8>"
      ]
     },
     "metadata": {},
     "output_type": "display_data"
    }
   ],
   "source": [
    "comment_bins = [0, 1, 2, 4, 400]\n",
    "#comment_bins = [-1, 0.5, 1.5, 3.5, 400]\n",
    "plt.hist(data_clean2.num_comments, bins=comment_bins)\n",
    "plt.xlim([0.5, 8])\n",
    "plt.xlabel('Number of Comments in Bin')\n",
    "plt.ylabel('Count')\n",
    "plt.xscale('log')"
   ]
  },
  {
   "cell_type": "code",
   "execution_count": 23,
   "metadata": {
    "collapsed": true
   },
   "outputs": [],
   "source": [
    "def BinNumComments(df, bins) :\n",
    "    \"\"\" Bin the number of comments into the specified number of bins\n",
    "    \"\"\"\n",
    "    import pandas as pd\n",
    "    df_new = df.copy()\n",
    "    categorized = pd.cut(df_new.num_comments, bins=bins, labels = False, include_lowest = True)\n",
    "    df_new = df_new.assign(comment_category=categorized)\n",
    "       \n",
    "    return df_new.drop('num_comments', axis=1)"
   ]
  },
  {
   "cell_type": "code",
   "execution_count": 101,
   "metadata": {
    "collapsed": true
   },
   "outputs": [
    {
     "data": {
      "text/html": [
       "<div>\n",
       "<style>\n",
       "    .dataframe thead tr:only-child th {\n",
       "        text-align: right;\n",
       "    }\n",
       "\n",
       "    .dataframe thead th {\n",
       "        text-align: left;\n",
       "    }\n",
       "\n",
       "    .dataframe tbody tr th {\n",
       "        vertical-align: top;\n",
       "    }\n",
       "</style>\n",
       "<table border=\"1\" class=\"dataframe\">\n",
       "  <thead>\n",
       "    <tr style=\"text-align: right;\">\n",
       "      <th></th>\n",
       "      <th>created_dayofweek</th>\n",
       "      <th>created_hour</th>\n",
       "      <th>created_month</th>\n",
       "      <th>created_year</th>\n",
       "      <th>post_char_len</th>\n",
       "      <th>post_num_qs</th>\n",
       "      <th>title_char_len</th>\n",
       "      <th>title_num_qs</th>\n",
       "      <th>post_num_punc</th>\n",
       "      <th>title_num_punc</th>\n",
       "      <th>...</th>\n",
       "      <th>title_lsi_391</th>\n",
       "      <th>title_lsi_392</th>\n",
       "      <th>title_lsi_393</th>\n",
       "      <th>title_lsi_394</th>\n",
       "      <th>title_lsi_395</th>\n",
       "      <th>title_lsi_396</th>\n",
       "      <th>title_lsi_397</th>\n",
       "      <th>title_lsi_398</th>\n",
       "      <th>title_lsi_399</th>\n",
       "      <th>comment_category</th>\n",
       "    </tr>\n",
       "  </thead>\n",
       "  <tbody>\n",
       "    <tr>\n",
       "      <th>0</th>\n",
       "      <td>4</td>\n",
       "      <td>14</td>\n",
       "      <td>2</td>\n",
       "      <td>2014</td>\n",
       "      <td>747</td>\n",
       "      <td>1</td>\n",
       "      <td>42</td>\n",
       "      <td>0</td>\n",
       "      <td>34</td>\n",
       "      <td>2</td>\n",
       "      <td>...</td>\n",
       "      <td>0.018861</td>\n",
       "      <td>0.017071</td>\n",
       "      <td>0.072441</td>\n",
       "      <td>-0.170715</td>\n",
       "      <td>0.014562</td>\n",
       "      <td>-0.159632</td>\n",
       "      <td>-0.087567</td>\n",
       "      <td>-0.011338</td>\n",
       "      <td>-0.089088</td>\n",
       "      <td>0</td>\n",
       "    </tr>\n",
       "    <tr>\n",
       "      <th>1</th>\n",
       "      <td>4</td>\n",
       "      <td>14</td>\n",
       "      <td>2</td>\n",
       "      <td>2014</td>\n",
       "      <td>789</td>\n",
       "      <td>5</td>\n",
       "      <td>72</td>\n",
       "      <td>0</td>\n",
       "      <td>43</td>\n",
       "      <td>4</td>\n",
       "      <td>...</td>\n",
       "      <td>0.039929</td>\n",
       "      <td>0.031977</td>\n",
       "      <td>0.027328</td>\n",
       "      <td>-0.022389</td>\n",
       "      <td>-0.001492</td>\n",
       "      <td>0.005747</td>\n",
       "      <td>0.035699</td>\n",
       "      <td>0.079924</td>\n",
       "      <td>-0.021723</td>\n",
       "      <td>0</td>\n",
       "    </tr>\n",
       "    <tr>\n",
       "      <th>2</th>\n",
       "      <td>4</td>\n",
       "      <td>14</td>\n",
       "      <td>2</td>\n",
       "      <td>2014</td>\n",
       "      <td>771</td>\n",
       "      <td>0</td>\n",
       "      <td>40</td>\n",
       "      <td>0</td>\n",
       "      <td>25</td>\n",
       "      <td>2</td>\n",
       "      <td>...</td>\n",
       "      <td>0.002005</td>\n",
       "      <td>0.008562</td>\n",
       "      <td>0.009517</td>\n",
       "      <td>-0.014396</td>\n",
       "      <td>-0.026986</td>\n",
       "      <td>0.006011</td>\n",
       "      <td>0.006036</td>\n",
       "      <td>0.001092</td>\n",
       "      <td>0.009211</td>\n",
       "      <td>0</td>\n",
       "    </tr>\n",
       "    <tr>\n",
       "      <th>3</th>\n",
       "      <td>4</td>\n",
       "      <td>13</td>\n",
       "      <td>2</td>\n",
       "      <td>2014</td>\n",
       "      <td>337</td>\n",
       "      <td>1</td>\n",
       "      <td>40</td>\n",
       "      <td>1</td>\n",
       "      <td>19</td>\n",
       "      <td>1</td>\n",
       "      <td>...</td>\n",
       "      <td>0.051516</td>\n",
       "      <td>0.045021</td>\n",
       "      <td>-0.036653</td>\n",
       "      <td>-0.048915</td>\n",
       "      <td>-0.128913</td>\n",
       "      <td>-0.112972</td>\n",
       "      <td>0.017297</td>\n",
       "      <td>0.007641</td>\n",
       "      <td>-0.114715</td>\n",
       "      <td>0</td>\n",
       "    </tr>\n",
       "    <tr>\n",
       "      <th>4</th>\n",
       "      <td>4</td>\n",
       "      <td>12</td>\n",
       "      <td>2</td>\n",
       "      <td>2014</td>\n",
       "      <td>671</td>\n",
       "      <td>0</td>\n",
       "      <td>16</td>\n",
       "      <td>0</td>\n",
       "      <td>0</td>\n",
       "      <td>0</td>\n",
       "      <td>...</td>\n",
       "      <td>-0.022786</td>\n",
       "      <td>-0.003111</td>\n",
       "      <td>0.047092</td>\n",
       "      <td>0.026543</td>\n",
       "      <td>0.023326</td>\n",
       "      <td>0.016933</td>\n",
       "      <td>-0.027857</td>\n",
       "      <td>0.001742</td>\n",
       "      <td>0.027733</td>\n",
       "      <td>0</td>\n",
       "    </tr>\n",
       "    <tr>\n",
       "      <th>5</th>\n",
       "      <td>4</td>\n",
       "      <td>11</td>\n",
       "      <td>2</td>\n",
       "      <td>2014</td>\n",
       "      <td>729</td>\n",
       "      <td>0</td>\n",
       "      <td>30</td>\n",
       "      <td>1</td>\n",
       "      <td>30</td>\n",
       "      <td>1</td>\n",
       "      <td>...</td>\n",
       "      <td>-0.019436</td>\n",
       "      <td>0.024791</td>\n",
       "      <td>-0.000926</td>\n",
       "      <td>0.006904</td>\n",
       "      <td>-0.036595</td>\n",
       "      <td>0.005975</td>\n",
       "      <td>0.013679</td>\n",
       "      <td>-0.015028</td>\n",
       "      <td>-0.028580</td>\n",
       "      <td>2</td>\n",
       "    </tr>\n",
       "    <tr>\n",
       "      <th>7</th>\n",
       "      <td>4</td>\n",
       "      <td>10</td>\n",
       "      <td>2</td>\n",
       "      <td>2014</td>\n",
       "      <td>2395</td>\n",
       "      <td>0</td>\n",
       "      <td>58</td>\n",
       "      <td>0</td>\n",
       "      <td>73</td>\n",
       "      <td>1</td>\n",
       "      <td>...</td>\n",
       "      <td>-0.003125</td>\n",
       "      <td>0.008174</td>\n",
       "      <td>-0.000003</td>\n",
       "      <td>-0.004750</td>\n",
       "      <td>-0.002226</td>\n",
       "      <td>-0.016211</td>\n",
       "      <td>-0.003436</td>\n",
       "      <td>-0.028263</td>\n",
       "      <td>0.006110</td>\n",
       "      <td>0</td>\n",
       "    </tr>\n",
       "    <tr>\n",
       "      <th>8</th>\n",
       "      <td>4</td>\n",
       "      <td>10</td>\n",
       "      <td>2</td>\n",
       "      <td>2014</td>\n",
       "      <td>146</td>\n",
       "      <td>1</td>\n",
       "      <td>52</td>\n",
       "      <td>0</td>\n",
       "      <td>6</td>\n",
       "      <td>2</td>\n",
       "      <td>...</td>\n",
       "      <td>0.004436</td>\n",
       "      <td>0.006774</td>\n",
       "      <td>-0.007566</td>\n",
       "      <td>-0.015258</td>\n",
       "      <td>-0.005960</td>\n",
       "      <td>-0.019844</td>\n",
       "      <td>-0.004404</td>\n",
       "      <td>0.006608</td>\n",
       "      <td>0.017378</td>\n",
       "      <td>0</td>\n",
       "    </tr>\n",
       "    <tr>\n",
       "      <th>9</th>\n",
       "      <td>4</td>\n",
       "      <td>10</td>\n",
       "      <td>2</td>\n",
       "      <td>2014</td>\n",
       "      <td>6343</td>\n",
       "      <td>0</td>\n",
       "      <td>32</td>\n",
       "      <td>0</td>\n",
       "      <td>116</td>\n",
       "      <td>1</td>\n",
       "      <td>...</td>\n",
       "      <td>0.039875</td>\n",
       "      <td>-0.013115</td>\n",
       "      <td>0.032891</td>\n",
       "      <td>-0.010807</td>\n",
       "      <td>-0.030286</td>\n",
       "      <td>0.009913</td>\n",
       "      <td>-0.009650</td>\n",
       "      <td>0.001028</td>\n",
       "      <td>0.009296</td>\n",
       "      <td>0</td>\n",
       "    </tr>\n",
       "    <tr>\n",
       "      <th>10</th>\n",
       "      <td>4</td>\n",
       "      <td>10</td>\n",
       "      <td>2</td>\n",
       "      <td>2014</td>\n",
       "      <td>1321</td>\n",
       "      <td>0</td>\n",
       "      <td>38</td>\n",
       "      <td>0</td>\n",
       "      <td>43</td>\n",
       "      <td>2</td>\n",
       "      <td>...</td>\n",
       "      <td>-0.003369</td>\n",
       "      <td>0.011222</td>\n",
       "      <td>0.010001</td>\n",
       "      <td>0.001473</td>\n",
       "      <td>0.018258</td>\n",
       "      <td>-0.004797</td>\n",
       "      <td>0.010304</td>\n",
       "      <td>0.005557</td>\n",
       "      <td>0.007022</td>\n",
       "      <td>0</td>\n",
       "    </tr>\n",
       "    <tr>\n",
       "      <th>11</th>\n",
       "      <td>4</td>\n",
       "      <td>9</td>\n",
       "      <td>2</td>\n",
       "      <td>2014</td>\n",
       "      <td>65</td>\n",
       "      <td>0</td>\n",
       "      <td>199</td>\n",
       "      <td>0</td>\n",
       "      <td>11</td>\n",
       "      <td>12</td>\n",
       "      <td>...</td>\n",
       "      <td>-0.032477</td>\n",
       "      <td>0.007362</td>\n",
       "      <td>0.037542</td>\n",
       "      <td>0.101650</td>\n",
       "      <td>-0.112764</td>\n",
       "      <td>0.072798</td>\n",
       "      <td>-0.169532</td>\n",
       "      <td>-0.062236</td>\n",
       "      <td>0.010291</td>\n",
       "      <td>0</td>\n",
       "    </tr>\n",
       "    <tr>\n",
       "      <th>12</th>\n",
       "      <td>4</td>\n",
       "      <td>9</td>\n",
       "      <td>2</td>\n",
       "      <td>2014</td>\n",
       "      <td>1382</td>\n",
       "      <td>1</td>\n",
       "      <td>27</td>\n",
       "      <td>0</td>\n",
       "      <td>49</td>\n",
       "      <td>1</td>\n",
       "      <td>...</td>\n",
       "      <td>0.009291</td>\n",
       "      <td>0.025653</td>\n",
       "      <td>0.007468</td>\n",
       "      <td>0.033483</td>\n",
       "      <td>-0.005876</td>\n",
       "      <td>-0.033344</td>\n",
       "      <td>0.006467</td>\n",
       "      <td>0.009798</td>\n",
       "      <td>0.010886</td>\n",
       "      <td>0</td>\n",
       "    </tr>\n",
       "    <tr>\n",
       "      <th>13</th>\n",
       "      <td>4</td>\n",
       "      <td>9</td>\n",
       "      <td>2</td>\n",
       "      <td>2014</td>\n",
       "      <td>457</td>\n",
       "      <td>1</td>\n",
       "      <td>12</td>\n",
       "      <td>0</td>\n",
       "      <td>22</td>\n",
       "      <td>0</td>\n",
       "      <td>...</td>\n",
       "      <td>0.012266</td>\n",
       "      <td>-0.002399</td>\n",
       "      <td>-0.006255</td>\n",
       "      <td>0.001113</td>\n",
       "      <td>-0.006236</td>\n",
       "      <td>-0.004216</td>\n",
       "      <td>0.002159</td>\n",
       "      <td>0.005700</td>\n",
       "      <td>0.000913</td>\n",
       "      <td>0</td>\n",
       "    </tr>\n",
       "    <tr>\n",
       "      <th>14</th>\n",
       "      <td>4</td>\n",
       "      <td>9</td>\n",
       "      <td>2</td>\n",
       "      <td>2014</td>\n",
       "      <td>1249</td>\n",
       "      <td>0</td>\n",
       "      <td>12</td>\n",
       "      <td>0</td>\n",
       "      <td>50</td>\n",
       "      <td>0</td>\n",
       "      <td>...</td>\n",
       "      <td>0.016798</td>\n",
       "      <td>0.007569</td>\n",
       "      <td>0.064236</td>\n",
       "      <td>0.062006</td>\n",
       "      <td>0.012986</td>\n",
       "      <td>-0.004231</td>\n",
       "      <td>0.025539</td>\n",
       "      <td>-0.068722</td>\n",
       "      <td>0.018282</td>\n",
       "      <td>0</td>\n",
       "    </tr>\n",
       "    <tr>\n",
       "      <th>15</th>\n",
       "      <td>4</td>\n",
       "      <td>8</td>\n",
       "      <td>2</td>\n",
       "      <td>2014</td>\n",
       "      <td>898</td>\n",
       "      <td>1</td>\n",
       "      <td>36</td>\n",
       "      <td>0</td>\n",
       "      <td>19</td>\n",
       "      <td>0</td>\n",
       "      <td>...</td>\n",
       "      <td>0.058721</td>\n",
       "      <td>-0.018219</td>\n",
       "      <td>0.056705</td>\n",
       "      <td>0.019172</td>\n",
       "      <td>0.016725</td>\n",
       "      <td>0.002213</td>\n",
       "      <td>-0.021322</td>\n",
       "      <td>-0.071240</td>\n",
       "      <td>0.121429</td>\n",
       "      <td>0</td>\n",
       "    </tr>\n",
       "    <tr>\n",
       "      <th>16</th>\n",
       "      <td>4</td>\n",
       "      <td>8</td>\n",
       "      <td>2</td>\n",
       "      <td>2014</td>\n",
       "      <td>3363</td>\n",
       "      <td>5</td>\n",
       "      <td>48</td>\n",
       "      <td>0</td>\n",
       "      <td>125</td>\n",
       "      <td>0</td>\n",
       "      <td>...</td>\n",
       "      <td>0.028767</td>\n",
       "      <td>0.020964</td>\n",
       "      <td>-0.018222</td>\n",
       "      <td>-0.029325</td>\n",
       "      <td>-0.004887</td>\n",
       "      <td>-0.020430</td>\n",
       "      <td>-0.012157</td>\n",
       "      <td>-0.003815</td>\n",
       "      <td>-0.034475</td>\n",
       "      <td>1</td>\n",
       "    </tr>\n",
       "    <tr>\n",
       "      <th>17</th>\n",
       "      <td>4</td>\n",
       "      <td>8</td>\n",
       "      <td>2</td>\n",
       "      <td>2014</td>\n",
       "      <td>914</td>\n",
       "      <td>0</td>\n",
       "      <td>17</td>\n",
       "      <td>0</td>\n",
       "      <td>42</td>\n",
       "      <td>2</td>\n",
       "      <td>...</td>\n",
       "      <td>0.006041</td>\n",
       "      <td>-0.006346</td>\n",
       "      <td>-0.005700</td>\n",
       "      <td>0.004146</td>\n",
       "      <td>0.005692</td>\n",
       "      <td>0.000954</td>\n",
       "      <td>0.010471</td>\n",
       "      <td>-0.001536</td>\n",
       "      <td>0.005825</td>\n",
       "      <td>2</td>\n",
       "    </tr>\n",
       "    <tr>\n",
       "      <th>19</th>\n",
       "      <td>4</td>\n",
       "      <td>8</td>\n",
       "      <td>2</td>\n",
       "      <td>2014</td>\n",
       "      <td>2049</td>\n",
       "      <td>2</td>\n",
       "      <td>46</td>\n",
       "      <td>0</td>\n",
       "      <td>90</td>\n",
       "      <td>3</td>\n",
       "      <td>...</td>\n",
       "      <td>-0.006330</td>\n",
       "      <td>0.022167</td>\n",
       "      <td>-0.006021</td>\n",
       "      <td>-0.046515</td>\n",
       "      <td>0.016706</td>\n",
       "      <td>-0.011587</td>\n",
       "      <td>-0.001662</td>\n",
       "      <td>0.016715</td>\n",
       "      <td>0.010848</td>\n",
       "      <td>0</td>\n",
       "    </tr>\n",
       "    <tr>\n",
       "      <th>20</th>\n",
       "      <td>4</td>\n",
       "      <td>7</td>\n",
       "      <td>2</td>\n",
       "      <td>2014</td>\n",
       "      <td>408</td>\n",
       "      <td>0</td>\n",
       "      <td>81</td>\n",
       "      <td>1</td>\n",
       "      <td>6</td>\n",
       "      <td>1</td>\n",
       "      <td>...</td>\n",
       "      <td>-0.001191</td>\n",
       "      <td>0.010953</td>\n",
       "      <td>-0.017050</td>\n",
       "      <td>0.010775</td>\n",
       "      <td>-0.008084</td>\n",
       "      <td>0.005722</td>\n",
       "      <td>-0.015450</td>\n",
       "      <td>-0.014334</td>\n",
       "      <td>-0.005992</td>\n",
       "      <td>3</td>\n",
       "    </tr>\n",
       "    <tr>\n",
       "      <th>21</th>\n",
       "      <td>4</td>\n",
       "      <td>7</td>\n",
       "      <td>2</td>\n",
       "      <td>2014</td>\n",
       "      <td>559</td>\n",
       "      <td>0</td>\n",
       "      <td>3</td>\n",
       "      <td>0</td>\n",
       "      <td>20</td>\n",
       "      <td>0</td>\n",
       "      <td>...</td>\n",
       "      <td>0.009645</td>\n",
       "      <td>0.001944</td>\n",
       "      <td>-0.002845</td>\n",
       "      <td>0.001931</td>\n",
       "      <td>0.009978</td>\n",
       "      <td>0.011594</td>\n",
       "      <td>-0.002836</td>\n",
       "      <td>-0.001775</td>\n",
       "      <td>0.013550</td>\n",
       "      <td>0</td>\n",
       "    </tr>\n",
       "  </tbody>\n",
       "</table>\n",
       "<p>20 rows × 817 columns</p>\n",
       "</div>"
      ],
      "text/plain": [
       "    created_dayofweek  created_hour  created_month  created_year  \\\n",
       "0                   4            14              2          2014   \n",
       "1                   4            14              2          2014   \n",
       "2                   4            14              2          2014   \n",
       "3                   4            13              2          2014   \n",
       "4                   4            12              2          2014   \n",
       "5                   4            11              2          2014   \n",
       "7                   4            10              2          2014   \n",
       "8                   4            10              2          2014   \n",
       "9                   4            10              2          2014   \n",
       "10                  4            10              2          2014   \n",
       "11                  4             9              2          2014   \n",
       "12                  4             9              2          2014   \n",
       "13                  4             9              2          2014   \n",
       "14                  4             9              2          2014   \n",
       "15                  4             8              2          2014   \n",
       "16                  4             8              2          2014   \n",
       "17                  4             8              2          2014   \n",
       "19                  4             8              2          2014   \n",
       "20                  4             7              2          2014   \n",
       "21                  4             7              2          2014   \n",
       "\n",
       "    post_char_len  post_num_qs  title_char_len  title_num_qs  post_num_punc  \\\n",
       "0             747            1              42             0             34   \n",
       "1             789            5              72             0             43   \n",
       "2             771            0              40             0             25   \n",
       "3             337            1              40             1             19   \n",
       "4             671            0              16             0              0   \n",
       "5             729            0              30             1             30   \n",
       "7            2395            0              58             0             73   \n",
       "8             146            1              52             0              6   \n",
       "9            6343            0              32             0            116   \n",
       "10           1321            0              38             0             43   \n",
       "11             65            0             199             0             11   \n",
       "12           1382            1              27             0             49   \n",
       "13            457            1              12             0             22   \n",
       "14           1249            0              12             0             50   \n",
       "15            898            1              36             0             19   \n",
       "16           3363            5              48             0            125   \n",
       "17            914            0              17             0             42   \n",
       "19           2049            2              46             0             90   \n",
       "20            408            0              81             1              6   \n",
       "21            559            0               3             0             20   \n",
       "\n",
       "    title_num_punc        ...         title_lsi_391  title_lsi_392  \\\n",
       "0                2        ...              0.018861       0.017071   \n",
       "1                4        ...              0.039929       0.031977   \n",
       "2                2        ...              0.002005       0.008562   \n",
       "3                1        ...              0.051516       0.045021   \n",
       "4                0        ...             -0.022786      -0.003111   \n",
       "5                1        ...             -0.019436       0.024791   \n",
       "7                1        ...             -0.003125       0.008174   \n",
       "8                2        ...              0.004436       0.006774   \n",
       "9                1        ...              0.039875      -0.013115   \n",
       "10               2        ...             -0.003369       0.011222   \n",
       "11              12        ...             -0.032477       0.007362   \n",
       "12               1        ...              0.009291       0.025653   \n",
       "13               0        ...              0.012266      -0.002399   \n",
       "14               0        ...              0.016798       0.007569   \n",
       "15               0        ...              0.058721      -0.018219   \n",
       "16               0        ...              0.028767       0.020964   \n",
       "17               2        ...              0.006041      -0.006346   \n",
       "19               3        ...             -0.006330       0.022167   \n",
       "20               1        ...             -0.001191       0.010953   \n",
       "21               0        ...              0.009645       0.001944   \n",
       "\n",
       "    title_lsi_393  title_lsi_394  title_lsi_395  title_lsi_396  title_lsi_397  \\\n",
       "0        0.072441      -0.170715       0.014562      -0.159632      -0.087567   \n",
       "1        0.027328      -0.022389      -0.001492       0.005747       0.035699   \n",
       "2        0.009517      -0.014396      -0.026986       0.006011       0.006036   \n",
       "3       -0.036653      -0.048915      -0.128913      -0.112972       0.017297   \n",
       "4        0.047092       0.026543       0.023326       0.016933      -0.027857   \n",
       "5       -0.000926       0.006904      -0.036595       0.005975       0.013679   \n",
       "7       -0.000003      -0.004750      -0.002226      -0.016211      -0.003436   \n",
       "8       -0.007566      -0.015258      -0.005960      -0.019844      -0.004404   \n",
       "9        0.032891      -0.010807      -0.030286       0.009913      -0.009650   \n",
       "10       0.010001       0.001473       0.018258      -0.004797       0.010304   \n",
       "11       0.037542       0.101650      -0.112764       0.072798      -0.169532   \n",
       "12       0.007468       0.033483      -0.005876      -0.033344       0.006467   \n",
       "13      -0.006255       0.001113      -0.006236      -0.004216       0.002159   \n",
       "14       0.064236       0.062006       0.012986      -0.004231       0.025539   \n",
       "15       0.056705       0.019172       0.016725       0.002213      -0.021322   \n",
       "16      -0.018222      -0.029325      -0.004887      -0.020430      -0.012157   \n",
       "17      -0.005700       0.004146       0.005692       0.000954       0.010471   \n",
       "19      -0.006021      -0.046515       0.016706      -0.011587      -0.001662   \n",
       "20      -0.017050       0.010775      -0.008084       0.005722      -0.015450   \n",
       "21      -0.002845       0.001931       0.009978       0.011594      -0.002836   \n",
       "\n",
       "    title_lsi_398  title_lsi_399  comment_category  \n",
       "0       -0.011338      -0.089088                 0  \n",
       "1        0.079924      -0.021723                 0  \n",
       "2        0.001092       0.009211                 0  \n",
       "3        0.007641      -0.114715                 0  \n",
       "4        0.001742       0.027733                 0  \n",
       "5       -0.015028      -0.028580                 2  \n",
       "7       -0.028263       0.006110                 0  \n",
       "8        0.006608       0.017378                 0  \n",
       "9        0.001028       0.009296                 0  \n",
       "10       0.005557       0.007022                 0  \n",
       "11      -0.062236       0.010291                 0  \n",
       "12       0.009798       0.010886                 0  \n",
       "13       0.005700       0.000913                 0  \n",
       "14      -0.068722       0.018282                 0  \n",
       "15      -0.071240       0.121429                 0  \n",
       "16      -0.003815      -0.034475                 1  \n",
       "17      -0.001536       0.005825                 2  \n",
       "19       0.016715       0.010848                 0  \n",
       "20      -0.014334      -0.005992                 3  \n",
       "21      -0.001775       0.013550                 0  \n",
       "\n",
       "[20 rows x 817 columns]"
      ]
     },
     "execution_count": 101,
     "metadata": {},
     "output_type": "execute_result"
    }
   ],
   "source": [
    "comment_bins = [0, 1, 2, 4, 400]\n",
    "data_binned = BinNumComments(data_clean2, comment_bins)\n",
    "data_binned.head(20)"
   ]
  },
  {
   "cell_type": "markdown",
   "metadata": {},
   "source": [
    "## Train Model"
   ]
  },
  {
   "cell_type": "code",
   "execution_count": 129,
   "metadata": {},
   "outputs": [],
   "source": [
    "from sklearn import ensemble, linear_model\n",
    "\n",
    "class BuildClassificationModel() :\n",
    "    \n",
    "    def __init__(self, data_x, data_y, model_type = 'randomforest', test_frac = 0.2, fit_flag = True) :\n",
    "        from sklearn import ensemble, linear_model\n",
    "        from sklearn.model_selection import train_test_split\n",
    "        from sklearn.svm import SVC\n",
    "        \n",
    "        (self.train_x, self.test_x, self.train_y, self.test_y) = train_test_split(\n",
    "                    data_x, data_y, test_size = test_frac)\n",
    "                \n",
    "        if model_type == 'randomforest' :\n",
    "            self.model = ensemble.RandomForestClassifier()\n",
    "        elif model_type == 'gradientboostingclassifier' :\n",
    "            self.model = ensemble.GradientBoostingClassifier()\n",
    "        elif model_type == 'logisticregression' :\n",
    "            self.model = linear_model.LogisticRegression()\n",
    "        elif model_type == 'svc' :\n",
    "            self.model = SVC(kernel='rbf', C=1e3, gamma=0.1)\n",
    "        else :\n",
    "            print('Model type \"{}\" is not defined'.format(model_type))\n",
    "            return\n",
    "        \n",
    "        if fit_flag :\n",
    "            print('{} on {} features.  Training on {} rows, validating on {}.'.format(model_type, self.train_x.shape[1], self.train_x.shape[0], self.test_x.shape[0]))\n",
    "            self.model.fit(self.train_x, self.train_y)\n",
    "        return\n",
    "    \n",
    "    def predict(self) :\n",
    "        print('Accuracy: %.3f' % self.model.score(self.test_x, self.test_y))            \n",
    "\n",
    "    def confusion_matrix(self, bins=None) :\n",
    "        from sklearn.metrics import confusion_matrix\n",
    "        cnf_matrix = confusion_matrix(self.test_y, \n",
    "            self.model.predict(self.test_x))\n",
    "        plt.figure()\n",
    "        if bins :\n",
    "            plot_confusion_matrix(cnf_matrix, classes=bins, normalize=True)\n",
    "        else :\n",
    "            plot_confusion_matrix(cnf_matrix, normalize=True)\n",
    "        \n",
    "def TestClassificationModels(train_x, train_y, models_to_test, log_flag = False, bins = None) :\n",
    "    \"Train model on the models supplied in models_to_test\"\n",
    "    models = []\n",
    "    for model in models_to_test :\n",
    "        model_temp = BuildClassificationModel(train_x, train_y, model_type = model)\n",
    "        model_temp.predict()\n",
    "        models.append(model_temp)\n",
    "        model_temp.confusion_matrix(bins=bins)\n",
    "        print()\n",
    "    return models\n",
    "\n",
    "def plot_confusion_matrix(cm, classes,\n",
    "                          normalize=False,\n",
    "                          title='Confusion matrix',\n",
    "                          cmap=plt.cm.Blues):\n",
    "    \"\"\"\n",
    "    This function prints and plots the confusion matrix.\n",
    "    Normalization can be applied by setting `normalize=True`.\n",
    "    \"\"\"\n",
    "    import itertools\n",
    "    import numpy as np\n",
    "    import matplotlib.pyplot as plt\n",
    "    \n",
    "    if normalize:\n",
    "        cm = cm.astype('float') / cm.sum(axis=1)[:, np.newaxis]\n",
    "        print(\"Normalized confusion matrix\")\n",
    "    else:\n",
    "        print('Confusion matrix, without normalization')\n",
    "\n",
    "    print(cm)\n",
    "\n",
    "    plt.imshow(cm, interpolation='nearest', cmap=cmap)\n",
    "    plt.title(title)\n",
    "    plt.colorbar()\n",
    "    tick_marks = np.arange(len(classes))\n",
    "    plt.xticks(tick_marks, classes, rotation=45)\n",
    "    plt.yticks(tick_marks, classes)\n",
    "\n",
    "    fmt = '.2f' if normalize else 'd'\n",
    "    thresh = cm.max() / 2.\n",
    "    for i, j in itertools.product(range(cm.shape[0]), range(cm.shape[1])):\n",
    "        plt.text(j, i, format(cm[i, j], fmt),\n",
    "                 horizontalalignment=\"center\",\n",
    "                 color=\"white\" if cm[i, j] > thresh else \"black\")\n",
    "\n",
    "    plt.tight_layout()\n",
    "    plt.ylabel('True label')\n",
    "    plt.xlabel('Predicted label')"
   ]
  },
  {
   "cell_type": "markdown",
   "metadata": {},
   "source": [
    "# Analyze models"
   ]
  },
  {
   "cell_type": "code",
   "execution_count": 30,
   "metadata": {
    "collapsed": true
   },
   "outputs": [],
   "source": [
    "train_x = data_binned.drop('comment_category', axis=1)\n",
    "train_y = data_binned.comment_category"
   ]
  },
  {
   "cell_type": "code",
   "execution_count": 31,
   "metadata": {
    "scrolled": false
   },
   "outputs": [
    {
     "name": "stdout",
     "output_type": "stream",
     "text": [
      "randomforest on 816 features.  Training on 16000 rows, validating on 4000.\n",
      "Accuracy: 0.346\n",
      "\n",
      "logisticregression on 816 features.  Training on 16000 rows, validating on 4000.\n",
      "Accuracy: 0.403\n",
      "\n"
     ]
    }
   ],
   "source": [
    "models_to_test = ['randomforest', 'logisticregression']\n",
    "models = TestClassificationModels(train_x, train_y, models_to_test)"
   ]
  },
  {
   "cell_type": "code",
   "execution_count": 37,
   "metadata": {},
   "outputs": [
    {
     "name": "stdout",
     "output_type": "stream",
     "text": [
      "randomforest on 816 features.  Training on 16000 rows, validating on 4000.\n",
      "Accuracy: 0.356\n"
     ]
    }
   ],
   "source": [
    "model_binned_1_ranfor = BuildClassificationModel(train_x, train_y, 'randomforest')\n",
    "model_binned_1_ranfor.predict()"
   ]
  },
  {
   "cell_type": "code",
   "execution_count": 38,
   "metadata": {},
   "outputs": [
    {
     "name": "stdout",
     "output_type": "stream",
     "text": [
      "Normalized confusion matrix\n",
      "[[ 0.69981001  0.07029766  0.07979734  0.150095  ]\n",
      " [ 0.66216216  0.08408408  0.08858859  0.16516517]\n",
      " [ 0.66761364  0.07244318  0.08664773  0.17329545]\n",
      " [ 0.64129401  0.06184586  0.1056137   0.19124643]]\n"
     ]
    },
    {
     "data": {
      "image/png": "[encoded data removed]",
      "text/plain": [
       "<matplotlib.figure.Figure at 0x7fce990c7358>"
      ]
     },
     "metadata": {},
     "output_type": "display_data"
    }
   ],
   "source": [
    "curr_bins = ['0', '1', '2-3', '4+']\n",
    "model_binned_1_ranfor.confusion_matrix(curr_bins)"
   ]
  },
  {
   "cell_type": "code",
   "execution_count": 43,
   "metadata": {},
   "outputs": [
    {
     "name": "stdout",
     "output_type": "stream",
     "text": [
      "1  created_hour \t 0.0019189979507370867\n",
      "4  post_char_len \t 0.0018131030005933187\n",
      "6  title_char_len \t 0.0012905329237180793\n",
      "8  post_num_punc \t 0.0011673289700878148\n",
      "7  title_num_qs \t 0.000990115923451372\n",
      "0  created_dayofweek \t 0.0006120301417461025\n",
      "9  title_num_punc \t 0.00043252097164445417\n",
      "5  post_num_qs \t 0.00039385348783013376\n",
      "2  created_month \t 0.0003592661550269426\n",
      "3  created_year \t 0.0001904221301207147\n"
     ]
    }
   ],
   "source": [
    "feature_importance = model_binned_1_ranfor.model.feature_importances_\n",
    "feature_importance = zip(range(10), data_binned.columns, feature_importance)\n",
    "feature_importance = sorted(feature_importance, key=lambda x: x[2], reverse=True)\n",
    "for (x, y, z) in  feature_importance:\n",
    "    print('{}  {} \\t {}'.format(x, y, z))"
   ]
  },
  {
   "cell_type": "code",
   "execution_count": 61,
   "metadata": {},
   "outputs": [
    {
     "data": {
      "image/png": "[encoded data removed]",
      "text/plain": [
       "<matplotlib.figure.Figure at 0x7fce94f023c8>"
      ]
     },
     "metadata": {},
     "output_type": "display_data"
    }
   ],
   "source": [
    "#data_binned.comment_category.hist(by=data_binned.created_hour)\n",
    "ct = data_binned.created_hour.hist(by=data_binned.comment_category)\n",
    "for x in ct :\n",
    "    for y in x :\n",
    "        y.set_ylim([0, 1300])"
   ]
  },
  {
   "cell_type": "code",
   "execution_count": 63,
   "metadata": {},
   "outputs": [
    {
     "data": {
      "image/png": "[encoded data removed]",
      "text/plain": [
       "<matplotlib.figure.Figure at 0x7fce7e252e80>"
      ]
     },
     "metadata": {},
     "output_type": "display_data"
    }
   ],
   "source": [
    "ct = data_binned.post_char_len.hist(by=data_binned.comment_category)\n",
    "for x in ct :\n",
    "    for y in x :\n",
    "        y.set_yscale('log')\n",
    "        y.set_ylim([0, 10**4])\n",
    "        y.set_xlim([0, 32000])"
   ]
  },
  {
   "cell_type": "code",
   "execution_count": 74,
   "metadata": {},
   "outputs": [
    {
     "data": {
      "image/png": "[encoded data removed]",
      "text/plain": [
       "<matplotlib.figure.Figure at 0x7fce94a753c8>"
      ]
     },
     "metadata": {},
     "output_type": "display_data"
    }
   ],
   "source": [
    "ct = data_binned.title_char_len.hist(by=data_binned.comment_category, bins=20)\n",
    "for x in ct :\n",
    "    for y in x :\n",
    "        y.set_yscale('log')\n",
    "        y.set_ylim([0, 5*10**3])\n",
    "        y.set_xlim([0, 300])"
   ]
  },
  {
   "cell_type": "code",
   "execution_count": 78,
   "metadata": {},
   "outputs": [
    {
     "data": {
      "image/png": "[encoded data removed]",
      "text/plain": [
       "<matplotlib.figure.Figure at 0x7fce94a75da0>"
      ]
     },
     "metadata": {},
     "output_type": "display_data"
    }
   ],
   "source": [
    "ct = data_binned.post_num_qs.hist(by=data_binned.comment_category, bins=20)\n",
    "for x in ct :\n",
    "    for y in x :\n",
    "        y.set_yscale('log')\n",
    "        y.set_ylim([0, 10000])\n",
    "        y.set_xlim([0, 60])"
   ]
  },
  {
   "cell_type": "code",
   "execution_count": 79,
   "metadata": {},
   "outputs": [
    {
     "data": {
      "text/plain": [
       "Index(['created_dayofweek', 'created_hour', 'created_month', 'created_year',\n",
       "       'post_char_len', 'post_num_qs', 'title_char_len', 'title_num_qs',\n",
       "       'post_num_punc', 'title_num_punc',\n",
       "       ...\n",
       "       'title_lsi_391', 'title_lsi_392', 'title_lsi_393', 'title_lsi_394',\n",
       "       'title_lsi_395', 'title_lsi_396', 'title_lsi_397', 'title_lsi_398',\n",
       "       'title_lsi_399', 'comment_category'],\n",
       "      dtype='object', length=817)"
      ]
     },
     "execution_count": 79,
     "metadata": {},
     "output_type": "execute_result"
    }
   ],
   "source": [
    "data_binned.columns"
   ]
  },
  {
   "cell_type": "code",
   "execution_count": 83,
   "metadata": {},
   "outputs": [
    {
     "name": "stdout",
     "output_type": "stream",
     "text": [
      "randomforest on 218 features.  Training on 16000 rows, validating on 4000.\n",
      "Accuracy: 0.332\n"
     ]
    }
   ],
   "source": [
    "cols_to_drop = ['title_lsi_{}'.format(x) for x in range(100, 399)] + ['post_lsi_{}'.format(x) for x in range(100, 399)]\n",
    "train_x = data_binned.drop(['comment_category']+cols_to_drop, axis=1)\n",
    "train_y = data_binned.comment_category\n",
    "\n",
    "model_binned_2_ranfor = BuildClassificationModel(train_x, train_y, 'randomforest')\n",
    "model_binned_2_ranfor.predict()"
   ]
  },
  {
   "cell_type": "code",
   "execution_count": 84,
   "metadata": {},
   "outputs": [
    {
     "name": "stdout",
     "output_type": "stream",
     "text": [
      "Normalized confusion matrix\n",
      "[[ 0.69981001  0.07029766  0.07979734  0.150095  ]\n",
      " [ 0.66216216  0.08408408  0.08858859  0.16516517]\n",
      " [ 0.66761364  0.07244318  0.08664773  0.17329545]\n",
      " [ 0.64129401  0.06184586  0.1056137   0.19124643]]\n"
     ]
    },
    {
     "data": {
      "image/png": "[encoded data removed]",
      "text/plain": [
       "<matplotlib.figure.Figure at 0x7fce949f1710>"
      ]
     },
     "metadata": {},
     "output_type": "display_data"
    }
   ],
   "source": [
    "model_binned_1_ranfor.confusion_matrix(curr_bins)"
   ]
  },
  {
   "cell_type": "code",
   "execution_count": 90,
   "metadata": {},
   "outputs": [
    {
     "name": "stdout",
     "output_type": "stream",
     "text": [
      "randomforest on 78 features.  Training on 16000 rows, validating on 4000.\n",
      "Accuracy: 0.357\n"
     ]
    }
   ],
   "source": [
    "cols_to_drop = ['title_lsi_{}'.format(x) for x in range(30, 399)] + ['post_lsi_{}'.format(x) for x in range(30, 399)]\n",
    "train_x = data_binned.drop(['comment_category']+cols_to_drop, axis=1)\n",
    "train_y = data_binned.comment_category\n",
    "\n",
    "model_binned_3_ranfor = BuildClassificationModel(train_x, train_y, 'randomforest')\n",
    "model_binned_3_ranfor.predict()"
   ]
  },
  {
   "cell_type": "code",
   "execution_count": 91,
   "metadata": {},
   "outputs": [
    {
     "name": "stdout",
     "output_type": "stream",
     "text": [
      "Normalized confusion matrix\n",
      "[[ 0.69981001  0.07029766  0.07979734  0.150095  ]\n",
      " [ 0.66216216  0.08408408  0.08858859  0.16516517]\n",
      " [ 0.66761364  0.07244318  0.08664773  0.17329545]\n",
      " [ 0.64129401  0.06184586  0.1056137   0.19124643]]\n"
     ]
    },
    {
     "data": {
      "image/png": "[encoded data removed]",
      "text/plain": [
       "<matplotlib.figure.Figure at 0x7fce942fa198>"
      ]
     },
     "metadata": {},
     "output_type": "display_data"
    }
   ],
   "source": [
    "model_binned_1_ranfor.confusion_matrix(curr_bins)"
   ]
  },
  {
   "cell_type": "markdown",
   "metadata": {},
   "source": [
    "## Look at different binnings"
   ]
  },
  {
   "cell_type": "code",
   "execution_count": 107,
   "metadata": {},
   "outputs": [
    {
     "data": {
      "text/plain": [
       "<matplotlib.axes._subplots.AxesSubplot at 0x7fce99103ac8>"
      ]
     },
     "execution_count": 107,
     "metadata": {},
     "output_type": "execute_result"
    },
    {
     "data": {
      "image/png": "[encoded data removed]",
      "text/plain": [
       "<matplotlib.figure.Figure at 0x7fce94ebadd8>"
      ]
     },
     "metadata": {},
     "output_type": "display_data"
    }
   ],
   "source": [
    "comment_bins = [0, 1, 2, 3, 5, 8, 400]\n",
    "data_binned_6 = BinNumComments(data_clean2, comment_bins)\n",
    "data_binned_6.comment_category.hist(bins=len(comment_bins)-1)"
   ]
  },
  {
   "cell_type": "code",
   "execution_count": 102,
   "metadata": {
    "collapsed": true
   },
   "outputs": [],
   "source": [
    "train_x = data_binned_6.drop('comment_category', axis=1)\n",
    "train_y = data_binned_6.comment_category"
   ]
  },
  {
   "cell_type": "code",
   "execution_count": 104,
   "metadata": {},
   "outputs": [
    {
     "name": "stdout",
     "output_type": "stream",
     "text": [
      "randomforest on 816 features.  Training on 16000 rows, validating on 4000.\n",
      "Accuracy: 0.339\n",
      "Normalized confusion matrix\n",
      "[[ 0.75107825  0.09242144  0.04313001  0.04990758  0.02772643  0.03573629]\n",
      " [ 0.75180375  0.09090909  0.04040404  0.05483405  0.02164502  0.04040404]\n",
      " [ 0.75        0.0975      0.0325      0.045       0.0175      0.0575    ]\n",
      " [ 0.76171079  0.08757637  0.04684318  0.04276986  0.02443992  0.03665988]\n",
      " [ 0.74174174  0.11711712  0.03003003  0.03603604  0.03003003  0.04504505]\n",
      " [ 0.71304348  0.08695652  0.05652174  0.06304348  0.01956522  0.06086957]]\n",
      "\n",
      "logisticregression on 816 features.  Training on 16000 rows, validating on 4000.\n",
      "Accuracy: 0.384\n",
      "Normalized confusion matrix\n",
      "[[ 0.91340076  0.02654867  0.00758534  0.00948167  0.01201011  0.03097345]\n",
      " [ 0.90327613  0.04056162  0.          0.01560062  0.01872075  0.02184087]\n",
      " [ 0.91503268  0.02396514  0.0043573   0.0087146   0.02178649  0.02614379]\n",
      " [ 0.88353414  0.03012048  0.01606426  0.01004016  0.01004016  0.0502008 ]\n",
      " [ 0.87123288  0.03287671  0.          0.00821918  0.02191781  0.06575342]\n",
      " [ 0.81098901  0.03076923  0.00659341  0.01758242  0.02857143  0.10549451]]\n",
      "\n"
     ]
    },
    {
     "data": {
      "image/png": "[encoded data removed]",
      "text/plain": [
       "<matplotlib.figure.Figure at 0x7fce94575f98>"
      ]
     },
     "metadata": {},
     "output_type": "display_data"
    },
    {
     "data": {
      "image/png": "[encoded data removed]",
      "text/plain": [
       "<matplotlib.figure.Figure at 0x7fce9460dd68>"
      ]
     },
     "metadata": {},
     "output_type": "display_data"
    }
   ],
   "source": [
    "models_to_test = ['randomforest', 'logisticregression']\n",
    "models = TestClassificationModels(train_x, train_y, models_to_test, bins=comment_bins)"
   ]
  },
  {
   "cell_type": "code",
   "execution_count": 113,
   "metadata": {},
   "outputs": [
    {
     "data": {
      "text/plain": [
       "<matplotlib.text.Text at 0x7fce7dd5b630>"
      ]
     },
     "execution_count": 113,
     "metadata": {},
     "output_type": "execute_result"
    },
    {
     "data": {
      "image/png": "[encoded data removed]",
      "text/plain": [
       "<matplotlib.figure.Figure at 0x7fce7db7ef28>"
      ]
     },
     "metadata": {},
     "output_type": "display_data"
    }
   ],
   "source": [
    "comment_bins = [0, 1, 3, 400]\n",
    "data_binned_3 = BinNumComments(data_clean2, comment_bins)\n",
    "data_binned_3.comment_category.hist(bins=len(comment_bins)-1)\n",
    "plt.xlabel('Comment Category')\n",
    "plt.ylabel('Count')"
   ]
  },
  {
   "cell_type": "code",
   "execution_count": 111,
   "metadata": {
    "scrolled": false
   },
   "outputs": [
    {
     "name": "stdout",
     "output_type": "stream",
     "text": [
      "randomforest on 816 features.  Training on 16000 rows, validating on 4000.\n",
      "Accuracy: 0.368\n",
      "Normalized confusion matrix\n",
      "[[ 0.5431566   0.20468557  0.25215783]\n",
      " [ 0.52930233  0.20186047  0.26883721]\n",
      " [ 0.49654643  0.21488872  0.28856485]]\n",
      "\n",
      "logisticregression on 816 features.  Training on 16000 rows, validating on 4000.\n",
      "Accuracy: 0.434\n",
      "Normalized confusion matrix\n",
      "[[ 0.65184721  0.07576706  0.27238572]\n",
      " [ 0.56601942  0.08446602  0.34951456]\n",
      " [ 0.46904588  0.08885652  0.4420976 ]]\n",
      "\n"
     ]
    },
    {
     "data": {
      "image/png": "[encoded data removed]",
      "text/plain": [
       "<matplotlib.figure.Figure at 0x7fce7dd6b0f0>"
      ]
     },
     "metadata": {},
     "output_type": "display_data"
    },
    {
     "data": {
      "image/png": "[encoded data removed]",
      "text/plain": [
       "<matplotlib.figure.Figure at 0x7fce7de67160>"
      ]
     },
     "metadata": {},
     "output_type": "display_data"
    }
   ],
   "source": [
    "train_x = data_binned_3.drop('comment_category', axis=1)\n",
    "train_y = data_binned_3.comment_category\n",
    "\n",
    "models_to_test = ['randomforest', 'logisticregression']\n",
    "models = TestClassificationModels(train_x, train_y, models_to_test, bins=comment_bins)"
   ]
  },
  {
   "cell_type": "code",
   "execution_count": 112,
   "metadata": {
    "scrolled": true
   },
   "outputs": [
    {
     "name": "stdout",
     "output_type": "stream",
     "text": [
      "logisticregression on 816 features.  Training on 16000 rows, validating on 4000.\n",
      "Normalized confusion matrix\n",
      "[[ 0.63029925  0.07418953  0.29551122]\n",
      " [ 0.5526075   0.09515096  0.35224154]\n",
      " [ 0.46124328  0.08595549  0.45280123]]\n"
     ]
    },
    {
     "data": {
      "image/png": "[encoded data removed]",
      "text/plain": [
       "<matplotlib.figure.Figure at 0x7fce7e2ae7f0>"
      ]
     },
     "metadata": {},
     "output_type": "display_data"
    }
   ],
   "source": [
    "model_binned_3_logreg = BuildClassificationModel(train_x, train_y, 'logisticregression')\n",
    "model_binned_3_logreg.confusion_matrix(['0', '1-2', '3+'])"
   ]
  },
  {
   "cell_type": "code",
   "execution_count": 120,
   "metadata": {},
   "outputs": [
    {
     "name": "stdout",
     "output_type": "stream",
     "text": [
      "randomforest on 816 features.  Training on 16000 rows, validating on 4000.\n",
      "Accuracy: 0.551\n",
      "Normalized confusion matrix\n",
      "[[ 0.75279893  0.24720107]\n",
      " [ 0.70401811  0.29598189]]\n",
      "\n",
      "logisticregression on 816 features.  Training on 16000 rows, validating on 4000.\n",
      "Accuracy: 0.577\n",
      "Normalized confusion matrix\n",
      "[[ 0.75324095  0.24675905]\n",
      " [ 0.64662507  0.35337493]]\n",
      "\n"
     ]
    },
    {
     "data": {
      "image/png": "[encoded data removed]",
      "text/plain": [
       "<matplotlib.figure.Figure at 0x7fce9460def0>"
      ]
     },
     "metadata": {},
     "output_type": "display_data"
    },
    {
     "data": {
      "image/png": "[encoded data removed]",
      "text/plain": [
       "<matplotlib.figure.Figure at 0x7fce7dc24da0>"
      ]
     },
     "metadata": {},
     "output_type": "display_data"
    },
    {
     "data": {
      "image/png": "[encoded data removed]",
      "text/plain": [
       "<matplotlib.figure.Figure at 0x7fce9457e160>"
      ]
     },
     "metadata": {},
     "output_type": "display_data"
    }
   ],
   "source": [
    "comment_bins = [0, 2, 400]\n",
    "data_binned_2 = BinNumComments(data_clean2, comment_bins)\n",
    "data_binned_2.comment_category.hist(bins=len(comment_bins)-1)\n",
    "plt.xlabel('Comment Category')\n",
    "plt.ylabel('Count')\n",
    "\n",
    "train_x = data_binned_2.drop('comment_category', axis=1)\n",
    "train_y = data_binned_2.comment_category\n",
    "\n",
    "models_to_test = ['randomforest', 'logisticregression']\n",
    "models = TestClassificationModels(train_x, train_y, models_to_test, bins=comment_bins)"
   ]
  },
  {
   "cell_type": "markdown",
   "metadata": {},
   "source": [
    "Now with 0 vs. everything else."
   ]
  },
  {
   "cell_type": "code",
   "execution_count": 146,
   "metadata": {},
   "outputs": [
    {
     "name": "stdout",
     "output_type": "stream",
     "text": [
      "randomforest on 816 features.  Training on 16000 rows, validating on 4000.\n",
      "Accuracy: 0.535\n",
      "Normalized confusion matrix\n",
      "[[ 0.42028061  0.57971939]\n",
      " [ 0.39103618  0.60896382]]\n",
      "\n",
      "logisticregression on 816 features.  Training on 16000 rows, validating on 4000.\n",
      "Accuracy: 0.601\n",
      "Normalized confusion matrix\n",
      "[[ 0.30577508  0.69422492]\n",
      " [ 0.19278132  0.80721868]]\n",
      "\n"
     ]
    },
    {
     "data": {
      "image/png": "[encoded data removed]",
      "text/plain": [
       "<matplotlib.figure.Figure at 0x7fce7d8392b0>"
      ]
     },
     "metadata": {},
     "output_type": "display_data"
    },
    {
     "data": {
      "image/png": "[encoded data removed]",
      "text/plain": [
       "<matplotlib.figure.Figure at 0x7fce7d79bf60>"
      ]
     },
     "metadata": {},
     "output_type": "display_data"
    }
   ],
   "source": [
    "comment_bins = [0, 1, 400]\n",
    "data_binned_2 = BinNumComments(data_clean2, comment_bins)\n",
    "\n",
    "train_x = data_binned_2.drop('comment_category', axis=1)\n",
    "train_y = data_binned_2.comment_category\n",
    "\n",
    "models_to_test = ['randomforest', 'logisticregression']\n",
    "models = TestClassificationModels(train_x, train_y, models_to_test, bins=comment_bins)"
   ]
  },
  {
   "cell_type": "code",
   "execution_count": 118,
   "metadata": {},
   "outputs": [
    {
     "name": "stdout",
     "output_type": "stream",
     "text": [
      "6\n",
      "I think about things too much....\n",
      "I've been thinking so much about life lately, and I just feel like what's the point of making a life for yourself when you will not make a true difference in the world? In the grand scheme of the universe, we represent far less than one percent. We are the greatest beings known to us and yet we find the most retarded reasons to fight over. We put down our brother and sisters because they are different in who they decide to love. Even the belief of spiritual beings or lack thereof. We are all human beings. We should all be equal and together in love and happiness. All this thinking is making me really depressed and I'm scared. I've considered suicide before but I will never actually do it.\n",
      "\n",
      "I am not going to get started on my personal things that also make me depressed. That's a whole nother story...\n",
      "4\n"
     ]
    }
   ],
   "source": [
    "index = 10000\n",
    "print(data_clean.num_comments.iloc[index], data_clean.title.iloc[index],\n",
    "     data_clean.selftext.iloc[index], data_clean.created_hour.iloc[index], sep='\\n');"
   ]
  },
  {
   "cell_type": "code",
   "execution_count": 586,
   "metadata": {},
   "outputs": [
    {
     "name": "stdout",
     "output_type": "stream",
     "text": [
      "Normalized confusion matrix\n",
      "[[ 0.87798896  0.00245248  0.00429185  0.11526671]\n",
      " [ 0.7983871   0.0016129   0.00322581  0.19677419]\n",
      " [ 0.79694019  0.          0.00278164  0.20027816]\n",
      " [ 0.71650485  0.          0.00485437  0.27864078]]\n"
     ]
    },
    {
     "data": {
      "image/png": "[encoded data removed]",
      "text/plain": [
       "<matplotlib.figure.Figure at 0x7fa628be45f8>"
      ]
     },
     "metadata": {},
     "output_type": "display_data"
    }
   ],
   "source": [
    "plt.figure()\n",
    "plot_confusion_matrix(cnf_matrix, classes=['0', '1', '2-3', '4+'], normalize=True)"
   ]
  },
  {
   "cell_type": "markdown",
   "metadata": {},
   "source": [
    "Do grid search for random forest parameters.  The first function is from sklearn example, the following code modified from that."
   ]
  },
  {
   "cell_type": "code",
   "execution_count": 119,
   "metadata": {
    "collapsed": true
   },
   "outputs": [],
   "source": [
    "# Utility function to report best scores\n",
    "def report(results, n_top=3):\n",
    "    for i in range(1, n_top + 1):\n",
    "        candidates = np.flatnonzero(results['rank_test_score'] == i)\n",
    "        for candidate in candidates:\n",
    "            print(\"Model with rank: {0}\".format(i))\n",
    "            print(\"Mean validation score: {0:.3f} (std: {1:.3f})\".format(\n",
    "                  results['mean_test_score'][candidate],\n",
    "                  results['std_test_score'][candidate]))\n",
    "            print(\"Parameters: {0}\".format(results['params'][candidate]))\n",
    "            print(\"\")"
   ]
  },
  {
   "cell_type": "code",
   "execution_count": 124,
   "metadata": {
    "collapsed": true
   },
   "outputs": [],
   "source": [
    "def CreateTrainingData(df, col = 'comment_category') :\n",
    "    \"split dataframe into x and y data, where y is given by col\"\n",
    "    train_x = df.drop([col], axis=1)\n",
    "    train_y = df[col]\n",
    "    return (train_x, train_y)"
   ]
  },
  {
   "cell_type": "code",
   "execution_count": 143,
   "metadata": {},
   "outputs": [],
   "source": [
    "from scipy.stats import randint as sp_randint\n",
    "# specify parameters and distributions to sample from\n",
    "param_dist_rf = {\"max_depth\": [3, None],\n",
    "              \"max_features\": sp_randint(1, 11),\n",
    "              \"min_samples_split\": sp_randint(2, 11),\n",
    "              \"min_samples_leaf\": sp_randint(1, 11),\n",
    "              \"bootstrap\": [True, False],\n",
    "              \"criterion\": [\"gini\", \"entropy\"],\n",
    "              \"class_weight\": ['balanced', 'balanced_subsample', None],\n",
    "              \"n_estimators\": [10, 15, 20],\n",
    "             }"
   ]
  },
  {
   "cell_type": "code",
   "execution_count": 152,
   "metadata": {
    "collapsed": true
   },
   "outputs": [],
   "source": [
    "param_dist_lr = {\"C\": [1e-2, 3e-2, 1e-1, 3e-1, 1, 3, 10, 30, 100, 300],\n",
    "              \"class_weight\": ['balanced', None],\n",
    "             \"penalty\": ['l1', 'l2'],\n",
    "             }"
   ]
  },
  {
   "cell_type": "markdown",
   "metadata": {},
   "source": [
    "### 6 comment bins"
   ]
  },
  {
   "cell_type": "code",
   "execution_count": 150,
   "metadata": {
    "collapsed": true
   },
   "outputs": [],
   "source": [
    "from sklearn.model_selection import RandomizedSearchCV\n",
    "from time import time\n",
    "comment_bins_6 = [0, 1, 2, 3, 5, 8, 400]\n",
    "data_binned_6 = BinNumComments(data_clean2, comment_bins_6)\n",
    "#data_binned_6.comment_category.hist(bins=len(comment_bins_6)-1)\n",
    "(train_x, train_y) = CreateTrainingData(data_binned_6)"
   ]
  },
  {
   "cell_type": "code",
   "execution_count": 144,
   "metadata": {},
   "outputs": [
    {
     "name": "stdout",
     "output_type": "stream",
     "text": [
      "RandomizedSearchCV took 174.27 seconds for 20 candidates parameter settings.\n",
      "Model with rank: 1\n",
      "Mean validation score: 0.401 (std: 0.000)\n",
      "Parameters: {'bootstrap': True, 'class_weight': None, 'criterion': 'gini', 'max_depth': 3, 'max_features': 5, 'min_samples_leaf': 6, 'min_samples_split': 7, 'n_estimators': 15}\n",
      "\n",
      "Model with rank: 1\n",
      "Mean validation score: 0.401 (std: 0.000)\n",
      "Parameters: {'bootstrap': True, 'class_weight': None, 'criterion': 'gini', 'max_depth': 3, 'max_features': 8, 'min_samples_leaf': 1, 'min_samples_split': 3, 'n_estimators': 10}\n",
      "\n",
      "Model with rank: 1\n",
      "Mean validation score: 0.401 (std: 0.000)\n",
      "Parameters: {'bootstrap': True, 'class_weight': None, 'criterion': 'entropy', 'max_depth': 3, 'max_features': 1, 'min_samples_leaf': 4, 'min_samples_split': 7, 'n_estimators': 20}\n",
      "\n",
      "Model with rank: 1\n",
      "Mean validation score: 0.401 (std: 0.000)\n",
      "Parameters: {'bootstrap': True, 'class_weight': None, 'criterion': 'entropy', 'max_depth': 3, 'max_features': 10, 'min_samples_leaf': 4, 'min_samples_split': 2, 'n_estimators': 20}\n",
      "\n"
     ]
    }
   ],
   "source": [
    "model_6bins = BuildClassificationModel(train_x, train_y, 'randomforest', fit_flag=False)\n",
    "n_iter_search = 20\n",
    "random_search = RandomizedSearchCV(model_6bins.model, param_distributions=param_dist_rf, n_iter=n_iter_search)\n",
    "\n",
    "start = time()\n",
    "random_search.fit(train_x, train_y)\n",
    "print(\"RandomizedSearchCV took %.2f seconds for %d candidates\"\n",
    "      \" parameter settings.\" % ((time() - start), n_iter_search))\n",
    "report(random_search.cv_results_)"
   ]
  },
  {
   "cell_type": "markdown",
   "metadata": {},
   "source": [
    "The following cell, with n_iter_search = 20, takes more than 90 minutes to run.  So abort and tyr again with 10 iterations."
   ]
  },
  {
   "cell_type": "code",
   "execution_count": 153,
   "metadata": {},
   "outputs": [
    {
     "ename": "KeyboardInterrupt",
     "evalue": "",
     "output_type": "error",
     "traceback": [
      "\u001b[0;31m---------------------------------------------------------------------------\u001b[0m",
      "\u001b[0;31mKeyboardInterrupt\u001b[0m                         Traceback (most recent call last)",
      "\u001b[0;32m<ipython-input-153-71e9bb1d00e6>\u001b[0m in \u001b[0;36m<module>\u001b[0;34m()\u001b[0m\n\u001b[1;32m      4\u001b[0m \u001b[0;34m\u001b[0m\u001b[0m\n\u001b[1;32m      5\u001b[0m \u001b[0mstart\u001b[0m \u001b[0;34m=\u001b[0m \u001b[0mtime\u001b[0m\u001b[0;34m(\u001b[0m\u001b[0;34m)\u001b[0m\u001b[0;34m\u001b[0m\u001b[0m\n\u001b[0;32m----> 6\u001b[0;31m \u001b[0mrandom_search\u001b[0m\u001b[0;34m.\u001b[0m\u001b[0mfit\u001b[0m\u001b[0;34m(\u001b[0m\u001b[0mtrain_x\u001b[0m\u001b[0;34m,\u001b[0m \u001b[0mtrain_y\u001b[0m\u001b[0;34m)\u001b[0m\u001b[0;34m\u001b[0m\u001b[0m\n\u001b[0m\u001b[1;32m      7\u001b[0m print(\"RandomizedSearchCV took %.2f seconds for %d candidates\"\n\u001b[1;32m      8\u001b[0m       \" parameter settings.\" % ((time() - start), n_iter_search))\n",
      "\u001b[0;32m/home/tobiszuts/anaconda3/lib/python3.6/site-packages/sklearn/model_selection/_search.py\u001b[0m in \u001b[0;36mfit\u001b[0;34m(self, X, y, groups)\u001b[0m\n\u001b[1;32m   1188\u001b[0m                                           \u001b[0mself\u001b[0m\u001b[0;34m.\u001b[0m\u001b[0mn_iter\u001b[0m\u001b[0;34m,\u001b[0m\u001b[0;34m\u001b[0m\u001b[0m\n\u001b[1;32m   1189\u001b[0m                                           random_state=self.random_state)\n\u001b[0;32m-> 1190\u001b[0;31m         \u001b[0;32mreturn\u001b[0m \u001b[0mself\u001b[0m\u001b[0;34m.\u001b[0m\u001b[0m_fit\u001b[0m\u001b[0;34m(\u001b[0m\u001b[0mX\u001b[0m\u001b[0;34m,\u001b[0m \u001b[0my\u001b[0m\u001b[0;34m,\u001b[0m \u001b[0mgroups\u001b[0m\u001b[0;34m,\u001b[0m \u001b[0msampled_params\u001b[0m\u001b[0;34m)\u001b[0m\u001b[0;34m\u001b[0m\u001b[0m\n\u001b[0m",
      "\u001b[0;32m/home/tobiszuts/anaconda3/lib/python3.6/site-packages/sklearn/model_selection/_search.py\u001b[0m in \u001b[0;36m_fit\u001b[0;34m(self, X, y, groups, parameter_iterable)\u001b[0m\n\u001b[1;32m    562\u001b[0m                                   \u001b[0mreturn_times\u001b[0m\u001b[0;34m=\u001b[0m\u001b[0;32mTrue\u001b[0m\u001b[0;34m,\u001b[0m \u001b[0mreturn_parameters\u001b[0m\u001b[0;34m=\u001b[0m\u001b[0;32mTrue\u001b[0m\u001b[0;34m,\u001b[0m\u001b[0;34m\u001b[0m\u001b[0m\n\u001b[1;32m    563\u001b[0m                                   error_score=self.error_score)\n\u001b[0;32m--> 564\u001b[0;31m           \u001b[0;32mfor\u001b[0m \u001b[0mparameters\u001b[0m \u001b[0;32min\u001b[0m \u001b[0mparameter_iterable\u001b[0m\u001b[0;34m\u001b[0m\u001b[0m\n\u001b[0m\u001b[1;32m    565\u001b[0m           for train, test in cv_iter)\n\u001b[1;32m    566\u001b[0m \u001b[0;34m\u001b[0m\u001b[0m\n",
      "\u001b[0;32m/home/tobiszuts/anaconda3/lib/python3.6/site-packages/sklearn/externals/joblib/parallel.py\u001b[0m in \u001b[0;36m__call__\u001b[0;34m(self, iterable)\u001b[0m\n\u001b[1;32m    756\u001b[0m             \u001b[0;31m# was dispatched. In particular this covers the edge\u001b[0m\u001b[0;34m\u001b[0m\u001b[0;34m\u001b[0m\u001b[0m\n\u001b[1;32m    757\u001b[0m             \u001b[0;31m# case of Parallel used with an exhausted iterator.\u001b[0m\u001b[0;34m\u001b[0m\u001b[0;34m\u001b[0m\u001b[0m\n\u001b[0;32m--> 758\u001b[0;31m             \u001b[0;32mwhile\u001b[0m \u001b[0mself\u001b[0m\u001b[0;34m.\u001b[0m\u001b[0mdispatch_one_batch\u001b[0m\u001b[0;34m(\u001b[0m\u001b[0miterator\u001b[0m\u001b[0;34m)\u001b[0m\u001b[0;34m:\u001b[0m\u001b[0;34m\u001b[0m\u001b[0m\n\u001b[0m\u001b[1;32m    759\u001b[0m                 \u001b[0mself\u001b[0m\u001b[0;34m.\u001b[0m\u001b[0m_iterating\u001b[0m \u001b[0;34m=\u001b[0m \u001b[0;32mTrue\u001b[0m\u001b[0;34m\u001b[0m\u001b[0m\n\u001b[1;32m    760\u001b[0m             \u001b[0;32melse\u001b[0m\u001b[0;34m:\u001b[0m\u001b[0;34m\u001b[0m\u001b[0m\n",
      "\u001b[0;32m/home/tobiszuts/anaconda3/lib/python3.6/site-packages/sklearn/externals/joblib/parallel.py\u001b[0m in \u001b[0;36mdispatch_one_batch\u001b[0;34m(self, iterator)\u001b[0m\n\u001b[1;32m    606\u001b[0m                 \u001b[0;32mreturn\u001b[0m \u001b[0;32mFalse\u001b[0m\u001b[0;34m\u001b[0m\u001b[0m\n\u001b[1;32m    607\u001b[0m             \u001b[0;32melse\u001b[0m\u001b[0;34m:\u001b[0m\u001b[0;34m\u001b[0m\u001b[0m\n\u001b[0;32m--> 608\u001b[0;31m                 \u001b[0mself\u001b[0m\u001b[0;34m.\u001b[0m\u001b[0m_dispatch\u001b[0m\u001b[0;34m(\u001b[0m\u001b[0mtasks\u001b[0m\u001b[0;34m)\u001b[0m\u001b[0;34m\u001b[0m\u001b[0m\n\u001b[0m\u001b[1;32m    609\u001b[0m                 \u001b[0;32mreturn\u001b[0m \u001b[0;32mTrue\u001b[0m\u001b[0;34m\u001b[0m\u001b[0m\n\u001b[1;32m    610\u001b[0m \u001b[0;34m\u001b[0m\u001b[0m\n",
      "\u001b[0;32m/home/tobiszuts/anaconda3/lib/python3.6/site-packages/sklearn/externals/joblib/parallel.py\u001b[0m in \u001b[0;36m_dispatch\u001b[0;34m(self, batch)\u001b[0m\n\u001b[1;32m    569\u001b[0m         \u001b[0mdispatch_timestamp\u001b[0m \u001b[0;34m=\u001b[0m \u001b[0mtime\u001b[0m\u001b[0;34m.\u001b[0m\u001b[0mtime\u001b[0m\u001b[0;34m(\u001b[0m\u001b[0;34m)\u001b[0m\u001b[0;34m\u001b[0m\u001b[0m\n\u001b[1;32m    570\u001b[0m         \u001b[0mcb\u001b[0m \u001b[0;34m=\u001b[0m \u001b[0mBatchCompletionCallBack\u001b[0m\u001b[0;34m(\u001b[0m\u001b[0mdispatch_timestamp\u001b[0m\u001b[0;34m,\u001b[0m \u001b[0mlen\u001b[0m\u001b[0;34m(\u001b[0m\u001b[0mbatch\u001b[0m\u001b[0;34m)\u001b[0m\u001b[0;34m,\u001b[0m \u001b[0mself\u001b[0m\u001b[0;34m)\u001b[0m\u001b[0;34m\u001b[0m\u001b[0m\n\u001b[0;32m--> 571\u001b[0;31m         \u001b[0mjob\u001b[0m \u001b[0;34m=\u001b[0m \u001b[0mself\u001b[0m\u001b[0;34m.\u001b[0m\u001b[0m_backend\u001b[0m\u001b[0;34m.\u001b[0m\u001b[0mapply_async\u001b[0m\u001b[0;34m(\u001b[0m\u001b[0mbatch\u001b[0m\u001b[0;34m,\u001b[0m \u001b[0mcallback\u001b[0m\u001b[0;34m=\u001b[0m\u001b[0mcb\u001b[0m\u001b[0;34m)\u001b[0m\u001b[0;34m\u001b[0m\u001b[0m\n\u001b[0m\u001b[1;32m    572\u001b[0m         \u001b[0mself\u001b[0m\u001b[0;34m.\u001b[0m\u001b[0m_jobs\u001b[0m\u001b[0;34m.\u001b[0m\u001b[0mappend\u001b[0m\u001b[0;34m(\u001b[0m\u001b[0mjob\u001b[0m\u001b[0;34m)\u001b[0m\u001b[0;34m\u001b[0m\u001b[0m\n\u001b[1;32m    573\u001b[0m \u001b[0;34m\u001b[0m\u001b[0m\n",
      "\u001b[0;32m/home/tobiszuts/anaconda3/lib/python3.6/site-packages/sklearn/externals/joblib/_parallel_backends.py\u001b[0m in \u001b[0;36mapply_async\u001b[0;34m(self, func, callback)\u001b[0m\n\u001b[1;32m    107\u001b[0m     \u001b[0;32mdef\u001b[0m \u001b[0mapply_async\u001b[0m\u001b[0;34m(\u001b[0m\u001b[0mself\u001b[0m\u001b[0;34m,\u001b[0m \u001b[0mfunc\u001b[0m\u001b[0;34m,\u001b[0m \u001b[0mcallback\u001b[0m\u001b[0;34m=\u001b[0m\u001b[0;32mNone\u001b[0m\u001b[0;34m)\u001b[0m\u001b[0;34m:\u001b[0m\u001b[0;34m\u001b[0m\u001b[0m\n\u001b[1;32m    108\u001b[0m         \u001b[0;34m\"\"\"Schedule a func to be run\"\"\"\u001b[0m\u001b[0;34m\u001b[0m\u001b[0m\n\u001b[0;32m--> 109\u001b[0;31m         \u001b[0mresult\u001b[0m \u001b[0;34m=\u001b[0m \u001b[0mImmediateResult\u001b[0m\u001b[0;34m(\u001b[0m\u001b[0mfunc\u001b[0m\u001b[0;34m)\u001b[0m\u001b[0;34m\u001b[0m\u001b[0m\n\u001b[0m\u001b[1;32m    110\u001b[0m         \u001b[0;32mif\u001b[0m \u001b[0mcallback\u001b[0m\u001b[0;34m:\u001b[0m\u001b[0;34m\u001b[0m\u001b[0m\n\u001b[1;32m    111\u001b[0m             \u001b[0mcallback\u001b[0m\u001b[0;34m(\u001b[0m\u001b[0mresult\u001b[0m\u001b[0;34m)\u001b[0m\u001b[0;34m\u001b[0m\u001b[0m\n",
      "\u001b[0;32m/home/tobiszuts/anaconda3/lib/python3.6/site-packages/sklearn/externals/joblib/_parallel_backends.py\u001b[0m in \u001b[0;36m__init__\u001b[0;34m(self, batch)\u001b[0m\n\u001b[1;32m    324\u001b[0m         \u001b[0;31m# Don't delay the application, to avoid keeping the input\u001b[0m\u001b[0;34m\u001b[0m\u001b[0;34m\u001b[0m\u001b[0m\n\u001b[1;32m    325\u001b[0m         \u001b[0;31m# arguments in memory\u001b[0m\u001b[0;34m\u001b[0m\u001b[0;34m\u001b[0m\u001b[0m\n\u001b[0;32m--> 326\u001b[0;31m         \u001b[0mself\u001b[0m\u001b[0;34m.\u001b[0m\u001b[0mresults\u001b[0m \u001b[0;34m=\u001b[0m \u001b[0mbatch\u001b[0m\u001b[0;34m(\u001b[0m\u001b[0;34m)\u001b[0m\u001b[0;34m\u001b[0m\u001b[0m\n\u001b[0m\u001b[1;32m    327\u001b[0m \u001b[0;34m\u001b[0m\u001b[0m\n\u001b[1;32m    328\u001b[0m     \u001b[0;32mdef\u001b[0m \u001b[0mget\u001b[0m\u001b[0;34m(\u001b[0m\u001b[0mself\u001b[0m\u001b[0;34m)\u001b[0m\u001b[0;34m:\u001b[0m\u001b[0;34m\u001b[0m\u001b[0m\n",
      "\u001b[0;32m/home/tobiszuts/anaconda3/lib/python3.6/site-packages/sklearn/externals/joblib/parallel.py\u001b[0m in \u001b[0;36m__call__\u001b[0;34m(self)\u001b[0m\n\u001b[1;32m    129\u001b[0m \u001b[0;34m\u001b[0m\u001b[0m\n\u001b[1;32m    130\u001b[0m     \u001b[0;32mdef\u001b[0m \u001b[0m__call__\u001b[0m\u001b[0;34m(\u001b[0m\u001b[0mself\u001b[0m\u001b[0;34m)\u001b[0m\u001b[0;34m:\u001b[0m\u001b[0;34m\u001b[0m\u001b[0m\n\u001b[0;32m--> 131\u001b[0;31m         \u001b[0;32mreturn\u001b[0m \u001b[0;34m[\u001b[0m\u001b[0mfunc\u001b[0m\u001b[0;34m(\u001b[0m\u001b[0;34m*\u001b[0m\u001b[0margs\u001b[0m\u001b[0;34m,\u001b[0m \u001b[0;34m**\u001b[0m\u001b[0mkwargs\u001b[0m\u001b[0;34m)\u001b[0m \u001b[0;32mfor\u001b[0m \u001b[0mfunc\u001b[0m\u001b[0;34m,\u001b[0m \u001b[0margs\u001b[0m\u001b[0;34m,\u001b[0m \u001b[0mkwargs\u001b[0m \u001b[0;32min\u001b[0m \u001b[0mself\u001b[0m\u001b[0;34m.\u001b[0m\u001b[0mitems\u001b[0m\u001b[0;34m]\u001b[0m\u001b[0;34m\u001b[0m\u001b[0m\n\u001b[0m\u001b[1;32m    132\u001b[0m \u001b[0;34m\u001b[0m\u001b[0m\n\u001b[1;32m    133\u001b[0m     \u001b[0;32mdef\u001b[0m \u001b[0m__len__\u001b[0m\u001b[0;34m(\u001b[0m\u001b[0mself\u001b[0m\u001b[0;34m)\u001b[0m\u001b[0;34m:\u001b[0m\u001b[0;34m\u001b[0m\u001b[0m\n",
      "\u001b[0;32m/home/tobiszuts/anaconda3/lib/python3.6/site-packages/sklearn/externals/joblib/parallel.py\u001b[0m in \u001b[0;36m<listcomp>\u001b[0;34m(.0)\u001b[0m\n\u001b[1;32m    129\u001b[0m \u001b[0;34m\u001b[0m\u001b[0m\n\u001b[1;32m    130\u001b[0m     \u001b[0;32mdef\u001b[0m \u001b[0m__call__\u001b[0m\u001b[0;34m(\u001b[0m\u001b[0mself\u001b[0m\u001b[0;34m)\u001b[0m\u001b[0;34m:\u001b[0m\u001b[0;34m\u001b[0m\u001b[0m\n\u001b[0;32m--> 131\u001b[0;31m         \u001b[0;32mreturn\u001b[0m \u001b[0;34m[\u001b[0m\u001b[0mfunc\u001b[0m\u001b[0;34m(\u001b[0m\u001b[0;34m*\u001b[0m\u001b[0margs\u001b[0m\u001b[0;34m,\u001b[0m \u001b[0;34m**\u001b[0m\u001b[0mkwargs\u001b[0m\u001b[0;34m)\u001b[0m \u001b[0;32mfor\u001b[0m \u001b[0mfunc\u001b[0m\u001b[0;34m,\u001b[0m \u001b[0margs\u001b[0m\u001b[0;34m,\u001b[0m \u001b[0mkwargs\u001b[0m \u001b[0;32min\u001b[0m \u001b[0mself\u001b[0m\u001b[0;34m.\u001b[0m\u001b[0mitems\u001b[0m\u001b[0;34m]\u001b[0m\u001b[0;34m\u001b[0m\u001b[0m\n\u001b[0m\u001b[1;32m    132\u001b[0m \u001b[0;34m\u001b[0m\u001b[0m\n\u001b[1;32m    133\u001b[0m     \u001b[0;32mdef\u001b[0m \u001b[0m__len__\u001b[0m\u001b[0;34m(\u001b[0m\u001b[0mself\u001b[0m\u001b[0;34m)\u001b[0m\u001b[0;34m:\u001b[0m\u001b[0;34m\u001b[0m\u001b[0m\n",
      "\u001b[0;32m/home/tobiszuts/anaconda3/lib/python3.6/site-packages/sklearn/model_selection/_validation.py\u001b[0m in \u001b[0;36m_fit_and_score\u001b[0;34m(estimator, X, y, scorer, train, test, verbose, parameters, fit_params, return_train_score, return_parameters, return_n_test_samples, return_times, error_score)\u001b[0m\n\u001b[1;32m    236\u001b[0m             \u001b[0mestimator\u001b[0m\u001b[0;34m.\u001b[0m\u001b[0mfit\u001b[0m\u001b[0;34m(\u001b[0m\u001b[0mX_train\u001b[0m\u001b[0;34m,\u001b[0m \u001b[0;34m**\u001b[0m\u001b[0mfit_params\u001b[0m\u001b[0;34m)\u001b[0m\u001b[0;34m\u001b[0m\u001b[0m\n\u001b[1;32m    237\u001b[0m         \u001b[0;32melse\u001b[0m\u001b[0;34m:\u001b[0m\u001b[0;34m\u001b[0m\u001b[0m\n\u001b[0;32m--> 238\u001b[0;31m             \u001b[0mestimator\u001b[0m\u001b[0;34m.\u001b[0m\u001b[0mfit\u001b[0m\u001b[0;34m(\u001b[0m\u001b[0mX_train\u001b[0m\u001b[0;34m,\u001b[0m \u001b[0my_train\u001b[0m\u001b[0;34m,\u001b[0m \u001b[0;34m**\u001b[0m\u001b[0mfit_params\u001b[0m\u001b[0;34m)\u001b[0m\u001b[0;34m\u001b[0m\u001b[0m\n\u001b[0m\u001b[1;32m    239\u001b[0m \u001b[0;34m\u001b[0m\u001b[0m\n\u001b[1;32m    240\u001b[0m     \u001b[0;32mexcept\u001b[0m \u001b[0mException\u001b[0m \u001b[0;32mas\u001b[0m \u001b[0me\u001b[0m\u001b[0;34m:\u001b[0m\u001b[0;34m\u001b[0m\u001b[0m\n",
      "\u001b[0;32m/home/tobiszuts/anaconda3/lib/python3.6/site-packages/sklearn/linear_model/logistic.py\u001b[0m in \u001b[0;36mfit\u001b[0;34m(self, X, y, sample_weight)\u001b[0m\n\u001b[1;32m   1184\u001b[0m                 \u001b[0mself\u001b[0m\u001b[0;34m.\u001b[0m\u001b[0mclass_weight\u001b[0m\u001b[0;34m,\u001b[0m \u001b[0mself\u001b[0m\u001b[0;34m.\u001b[0m\u001b[0mpenalty\u001b[0m\u001b[0;34m,\u001b[0m \u001b[0mself\u001b[0m\u001b[0;34m.\u001b[0m\u001b[0mdual\u001b[0m\u001b[0;34m,\u001b[0m \u001b[0mself\u001b[0m\u001b[0;34m.\u001b[0m\u001b[0mverbose\u001b[0m\u001b[0;34m,\u001b[0m\u001b[0;34m\u001b[0m\u001b[0m\n\u001b[1;32m   1185\u001b[0m                 \u001b[0mself\u001b[0m\u001b[0;34m.\u001b[0m\u001b[0mmax_iter\u001b[0m\u001b[0;34m,\u001b[0m \u001b[0mself\u001b[0m\u001b[0;34m.\u001b[0m\u001b[0mtol\u001b[0m\u001b[0;34m,\u001b[0m \u001b[0mself\u001b[0m\u001b[0;34m.\u001b[0m\u001b[0mrandom_state\u001b[0m\u001b[0;34m,\u001b[0m\u001b[0;34m\u001b[0m\u001b[0m\n\u001b[0;32m-> 1186\u001b[0;31m                 sample_weight=sample_weight)\n\u001b[0m\u001b[1;32m   1187\u001b[0m             \u001b[0mself\u001b[0m\u001b[0;34m.\u001b[0m\u001b[0mn_iter_\u001b[0m \u001b[0;34m=\u001b[0m \u001b[0mnp\u001b[0m\u001b[0;34m.\u001b[0m\u001b[0marray\u001b[0m\u001b[0;34m(\u001b[0m\u001b[0;34m[\u001b[0m\u001b[0mn_iter_\u001b[0m\u001b[0;34m]\u001b[0m\u001b[0;34m)\u001b[0m\u001b[0;34m\u001b[0m\u001b[0m\n\u001b[1;32m   1188\u001b[0m             \u001b[0;32mreturn\u001b[0m \u001b[0mself\u001b[0m\u001b[0;34m\u001b[0m\u001b[0m\n",
      "\u001b[0;32m/home/tobiszuts/anaconda3/lib/python3.6/site-packages/sklearn/svm/base.py\u001b[0m in \u001b[0;36m_fit_liblinear\u001b[0;34m(X, y, C, fit_intercept, intercept_scaling, class_weight, penalty, dual, verbose, max_iter, tol, random_state, multi_class, loss, epsilon, sample_weight)\u001b[0m\n\u001b[1;32m    910\u001b[0m         \u001b[0mX\u001b[0m\u001b[0;34m,\u001b[0m \u001b[0my_ind\u001b[0m\u001b[0;34m,\u001b[0m \u001b[0msp\u001b[0m\u001b[0;34m.\u001b[0m\u001b[0misspmatrix\u001b[0m\u001b[0;34m(\u001b[0m\u001b[0mX\u001b[0m\u001b[0;34m)\u001b[0m\u001b[0;34m,\u001b[0m \u001b[0msolver_type\u001b[0m\u001b[0;34m,\u001b[0m \u001b[0mtol\u001b[0m\u001b[0;34m,\u001b[0m \u001b[0mbias\u001b[0m\u001b[0;34m,\u001b[0m \u001b[0mC\u001b[0m\u001b[0;34m,\u001b[0m\u001b[0;34m\u001b[0m\u001b[0m\n\u001b[1;32m    911\u001b[0m         \u001b[0mclass_weight_\u001b[0m\u001b[0;34m,\u001b[0m \u001b[0mmax_iter\u001b[0m\u001b[0;34m,\u001b[0m \u001b[0mrnd\u001b[0m\u001b[0;34m.\u001b[0m\u001b[0mrandint\u001b[0m\u001b[0;34m(\u001b[0m\u001b[0mnp\u001b[0m\u001b[0;34m.\u001b[0m\u001b[0miinfo\u001b[0m\u001b[0;34m(\u001b[0m\u001b[0;34m'i'\u001b[0m\u001b[0;34m)\u001b[0m\u001b[0;34m.\u001b[0m\u001b[0mmax\u001b[0m\u001b[0;34m)\u001b[0m\u001b[0;34m,\u001b[0m\u001b[0;34m\u001b[0m\u001b[0m\n\u001b[0;32m--> 912\u001b[0;31m         epsilon, sample_weight)\n\u001b[0m\u001b[1;32m    913\u001b[0m     \u001b[0;31m# Regarding rnd.randint(..) in the above signature:\u001b[0m\u001b[0;34m\u001b[0m\u001b[0;34m\u001b[0m\u001b[0m\n\u001b[1;32m    914\u001b[0m     \u001b[0;31m# seed for srand in range [0..INT_MAX); due to limitations in Numpy\u001b[0m\u001b[0;34m\u001b[0m\u001b[0;34m\u001b[0m\u001b[0m\n",
      "\u001b[0;31mKeyboardInterrupt\u001b[0m: "
     ]
    }
   ],
   "source": [
    "model_6bins = BuildClassificationModel(train_x, train_y, 'logisticregression', fit_flag=False)\n",
    "n_iter_search = 10\n",
    "random_search = RandomizedSearchCV(model_6bins.model, param_distributions=param_dist_lr, n_iter=n_iter_search)\n",
    "\n",
    "start = time()\n",
    "random_search.fit(train_x, train_y)\n",
    "print(\"RandomizedSearchCV took %.2f seconds for %d candidates\"\n",
    "      \" parameter settings.\" % ((time() - start), n_iter_search))\n",
    "report(random_search.cv_results_)"
   ]
  },
  {
   "cell_type": "markdown",
   "metadata": {},
   "source": [
    "### 4 comment bins"
   ]
  },
  {
   "cell_type": "code",
   "execution_count": null,
   "metadata": {
    "collapsed": true
   },
   "outputs": [],
   "source": [
    "comment_bins_4 = [0, 1, 2, 4, 400]\n",
    "data_binned_4 = BinNumComments(data_clean2, comment_bins_4)\n",
    "#data_binned_4.comment_category.hist(bins=len(comment_bins_4)-1)\n",
    "(train_x, train_y) = CreateTrainingData(data_binned_4)"
   ]
  },
  {
   "cell_type": "code",
   "execution_count": 145,
   "metadata": {},
   "outputs": [
    {
     "name": "stdout",
     "output_type": "stream",
     "text": [
      "RandomizedSearchCV took 137.05 seconds for 20 candidates parameter settings.\n",
      "Model with rank: 1\n",
      "Mean validation score: 0.401 (std: 0.000)\n",
      "Parameters: {'bootstrap': False, 'class_weight': None, 'criterion': 'entropy', 'max_depth': 3, 'max_features': 8, 'min_samples_leaf': 3, 'min_samples_split': 9, 'n_estimators': 10}\n",
      "\n",
      "Model with rank: 1\n",
      "Mean validation score: 0.401 (std: 0.000)\n",
      "Parameters: {'bootstrap': False, 'class_weight': None, 'criterion': 'gini', 'max_depth': 3, 'max_features': 1, 'min_samples_leaf': 10, 'min_samples_split': 7, 'n_estimators': 10}\n",
      "\n",
      "Model with rank: 3\n",
      "Mean validation score: 0.401 (std: 0.000)\n",
      "Parameters: {'bootstrap': False, 'class_weight': None, 'criterion': 'gini', 'max_depth': 3, 'max_features': 3, 'min_samples_leaf': 1, 'min_samples_split': 8, 'n_estimators': 10}\n",
      "\n"
     ]
    }
   ],
   "source": [
    "model_4bins = BuildClassificationModel(train_x, train_y, 'randomforest', fit_flag=False)\n",
    "n_iter_search = 20\n",
    "random_search = RandomizedSearchCV(model_4bins.model, param_distributions=param_dist_rf, n_iter=n_iter_search)\n",
    "\n",
    "start = time()\n",
    "random_search.fit(train_x, train_y)\n",
    "print(\"RandomizedSearchCV took %.2f seconds for %d candidates\"\n",
    "      \" parameter settings.\" % ((time() - start), n_iter_search))\n",
    "report(random_search.cv_results_)"
   ]
  },
  {
   "cell_type": "code",
   "execution_count": null,
   "metadata": {
    "collapsed": true
   },
   "outputs": [],
   "source": [
    "model_4bins = BuildClassificationModel(train_x, train_y, 'randomforest', fit_flag=False)\n",
    "n_iter_search = 20\n",
    "random_search = RandomizedSearchCV(model_4bins.model, param_distributions=param_dist_lr, n_iter=n_iter_search)\n",
    "\n",
    "start = time()\n",
    "random_search.fit(train_x, train_y)\n",
    "print(\"RandomizedSearchCV took %.2f seconds for %d candidates\"\n",
    "      \" parameter settings.\" % ((time() - start), n_iter_search))\n",
    "report(random_search.cv_results_)"
   ]
  },
  {
   "cell_type": "markdown",
   "metadata": {},
   "source": [
    "### 3 comment bins"
   ]
  },
  {
   "cell_type": "code",
   "execution_count": null,
   "metadata": {
    "collapsed": true
   },
   "outputs": [],
   "source": [
    "comment_bins_3 = [0, 1, 3, 400]\n",
    "data_binned_3 = BinNumComments(data_clean2, comment_bins_3)\n",
    "data_binned_3.comment_category.hist(bins=len(comment_bins_3)-1)"
   ]
  },
  {
   "cell_type": "code",
   "execution_count": 147,
   "metadata": {},
   "outputs": [
    {
     "name": "stdout",
     "output_type": "stream",
     "text": [
      "RandomizedSearchCV took 117.89 seconds for 20 candidates parameter settings.\n",
      "Model with rank: 1\n",
      "Mean validation score: 0.599 (std: 0.001)\n",
      "Parameters: {'bootstrap': False, 'class_weight': None, 'criterion': 'entropy', 'max_depth': 3, 'max_features': 7, 'min_samples_leaf': 4, 'min_samples_split': 4, 'n_estimators': 10}\n",
      "\n",
      "Model with rank: 2\n",
      "Mean validation score: 0.599 (std: 0.000)\n",
      "Parameters: {'bootstrap': True, 'class_weight': None, 'criterion': 'entropy', 'max_depth': 3, 'max_features': 4, 'min_samples_leaf': 7, 'min_samples_split': 2, 'n_estimators': 10}\n",
      "\n",
      "Model with rank: 3\n",
      "Mean validation score: 0.587 (std: 0.008)\n",
      "Parameters: {'bootstrap': True, 'class_weight': None, 'criterion': 'gini', 'max_depth': None, 'max_features': 4, 'min_samples_leaf': 9, 'min_samples_split': 2, 'n_estimators': 15}\n",
      "\n"
     ]
    },
    {
     "data": {
      "image/png": "[encoded data removed]",
      "text/plain": [
       "<matplotlib.figure.Figure at 0x7fce94ec8748>"
      ]
     },
     "metadata": {},
     "output_type": "display_data"
    }
   ],
   "source": [
    "model_3bins = BuildClassificationModel(train_x, train_y, 'randomforest', fit_flag=False)\n",
    "n_iter_search = 20\n",
    "random_search = RandomizedSearchCV(model_3bins.model, param_distributions=param_dist_rf, n_iter=n_iter_search)\n",
    "\n",
    "start = time()\n",
    "random_search.fit(train_x, train_y)\n",
    "print(\"RandomizedSearchCV took %.2f seconds for %d candidates\"\n",
    "      \" parameter settings.\" % ((time() - start), n_iter_search))\n",
    "report(random_search.cv_results_)"
   ]
  },
  {
   "cell_type": "code",
   "execution_count": null,
   "metadata": {
    "collapsed": true
   },
   "outputs": [],
   "source": [
    "model_3bins = BuildClassificationModel(train_x, train_y, 'randomforest', fit_flag=False)\n",
    "n_iter_search = 20\n",
    "random_search = RandomizedSearchCV(model_3bins.model, param_distributions=param_dist_lr, n_iter=n_iter_search)\n",
    "\n",
    "start = time()\n",
    "random_search.fit(train_x, train_y)\n",
    "print(\"RandomizedSearchCV took %.2f seconds for %d candidates\"\n",
    "      \" parameter settings.\" % ((time() - start), n_iter_search))\n",
    "report(random_search.cv_results_)"
   ]
  },
  {
   "cell_type": "markdown",
   "metadata": {},
   "source": [
    "### 2 comment bins"
   ]
  },
  {
   "cell_type": "code",
   "execution_count": null,
   "metadata": {
    "collapsed": true
   },
   "outputs": [],
   "source": [
    "comment_bins_2 = [0, 2, 400]\n",
    "data_binned_2 = BinNumComments(data_clean2, comment_bins_2)\n",
    "#data_binned_2.comment_category.hist(bins=len(comment_bins_2)-1)"
   ]
  },
  {
   "cell_type": "code",
   "execution_count": 148,
   "metadata": {},
   "outputs": [
    {
     "name": "stdout",
     "output_type": "stream",
     "text": [
      "RandomizedSearchCV took 104.80 seconds for 20 candidates parameter settings.\n",
      "Model with rank: 1\n",
      "Mean validation score: 0.600 (std: 0.001)\n",
      "Parameters: {'bootstrap': False, 'class_weight': None, 'criterion': 'entropy', 'max_depth': 3, 'max_features': 7, 'min_samples_leaf': 7, 'min_samples_split': 5, 'n_estimators': 10}\n",
      "\n",
      "Model with rank: 2\n",
      "Mean validation score: 0.599 (std: 0.000)\n",
      "Parameters: {'bootstrap': False, 'class_weight': None, 'criterion': 'gini', 'max_depth': 3, 'max_features': 8, 'min_samples_leaf': 6, 'min_samples_split': 8, 'n_estimators': 20}\n",
      "\n",
      "Model with rank: 3\n",
      "Mean validation score: 0.599 (std: 0.000)\n",
      "Parameters: {'bootstrap': False, 'class_weight': None, 'criterion': 'gini', 'max_depth': 3, 'max_features': 4, 'min_samples_leaf': 10, 'min_samples_split': 5, 'n_estimators': 10}\n",
      "\n"
     ]
    }
   ],
   "source": [
    "model_2bins = BuildClassificationModel(train_x, train_y, 'randomforest', fit_flag=False)\n",
    "n_iter_search = 20\n",
    "random_search = RandomizedSearchCV(model_2bins.model, param_distributions_rf=param_dist, n_iter=n_iter_search)\n",
    "\n",
    "start = time()\n",
    "random_search.fit(train_x, train_y)\n",
    "print(\"RandomizedSearchCV took %.2f seconds for %d candidates\"\n",
    "      \" parameter settings.\" % ((time() - start), n_iter_search))\n",
    "report(random_search.cv_results_)"
   ]
  },
  {
   "cell_type": "code",
   "execution_count": null,
   "metadata": {
    "collapsed": true
   },
   "outputs": [],
   "source": [
    "model_2bins = BuildClassificationModel(train_x, train_y, 'randomforest', fit_flag=False)\n",
    "n_iter_search = 20\n",
    "random_search = RandomizedSearchCV(model_2bins.model, param_distributions_lr=param_dist, n_iter=n_iter_search)\n",
    "\n",
    "start = time()\n",
    "random_search.fit(train_x, train_y)\n",
    "print(\"RandomizedSearchCV took %.2f seconds for %d candidates\"\n",
    "      \" parameter settings.\" % ((time() - start), n_iter_search))\n",
    "report(random_search.cv_results_)"
   ]
  },
  {
   "cell_type": "markdown",
   "metadata": {},
   "source": [
    "# Sentiment analysis\n",
    "\n",
    "Use the Vader sentiment analysis from NLTK."
   ]
  },
  {
   "cell_type": "code",
   "execution_count": 162,
   "metadata": {
    "scrolled": true
   },
   "outputs": [
    {
     "name": "stdout",
     "output_type": "stream",
     "text": [
      "0:\n",
      "{'neg': 0.0, 'neu': 0.706, 'pos': 0.294, 'compound': 0.3612}\n",
      "\tI feel like my brain doesn't work anymore.\n",
      "{'neg': 0.207, 'neu': 0.769, 'pos': 0.025, 'compound': -0.9712}\n",
      "\tI can't think straight, I can't concentrate, I feel like I have brain damage and my IQ is dropping. I forget everything in a second; tell me your name and a minute later it's gone. \n",
      "\n",
      "I'm in college, and that's a joke; I failed most of my classes last semester, and I'm on the verge of failing the 2 I'm taking this semester. I decided to go to school only half time this semester, and I can't even do that. And it's only community college - who fails community college? I want to drop out. \n",
      "\n",
      "I can't do this anymore. I can't even have conversations with people anymore because I can't think of anything to say. I've been screwing up at work because I keep missing simple things. I don't know what to do. It's like I can feel my brain wasting away.\n",
      "\n",
      "1:\n",
      "{'neg': 0.206, 'neu': 0.794, 'pos': 0.0, 'compound': -0.5216}\n",
      "\tShe's the girl i was always looking for... But she does not love me back\n",
      "{'neg': 0.125, 'neu': 0.559, 'pos': 0.317, 'compound': 0.99}\n",
      "\tThere is this amazing girl that i've known since 2012. She was the girl I was looking for. She's very  athletic, smart, beautiful, kind, adventurous, and funny. I love her, i miss her within 10 seconds, and if I do not see her, I feel like my whole day is waste. I tried everything to make her love me back, but no such luck. Part of me wants to get rid of this already, those painful nights because I think of her, and I can't stop it.\n",
      "It's so painful... I feel desperate. She is my first love, And they say its hard killing the feeling of first love. What do I do? Im just a guy who has the gift of writing essays, semi-handsome, kind, and smart. I want her so bad. Should I Try to make her lover back? If so, how? Or do I need to move on? If I should, how can I do it? Please help me...\n",
      "\n",
      "2:\n",
      "{'neg': 0.0, 'neu': 1.0, 'pos': 0.0, 'compound': 0.0}\n",
      "\tI don't have anyone and I don't know why\n",
      "{'neg': 0.152, 'neu': 0.63, 'pos': 0.218, 'compound': 0.9226}\n",
      "\tI've been struggling with depression since high school (I'm a senior in college now) and one of my biggest problems has been the fact that I don't have any close friends. I talk to some people in school but there's no one that I hang out with or that I can talk to about a problem. \n",
      "\n",
      "In the past I've easily made friends with some guys (I'm a girl) but quickly found out that they wanted something else besides friendship. I want to have at least just one close girl friend. I've been trying to make friends that are girls but nothing sticks. I don't know what's wrong with me. I don't know how to make friends, maybe I'm not good enough to have friends.\n",
      "\n",
      "I just want someone to turn to when things get bad, someone to hang out with and be my friend through good and bad.\n",
      "\n",
      "3:\n",
      "{'neg': 0.333, 'neu': 0.667, 'pos': 0.0, 'compound': -0.5423}\n",
      "\thow often do you guys inflict self harm?\n",
      "{'neg': 0.119, 'neu': 0.853, 'pos': 0.028, 'compound': -0.7227}\n",
      "\ti burn myself..... i heat up a knife and hold it to my skin till it stops sizzling. i have dont this nine times in total. mostly on my thighs because it is easier to conceal. but how often do you guys do similar things? depression is hard and we all have our ways of dealing with it. but sometimes this tunnel just seems endless.........\n",
      "\n",
      "4:\n",
      "{'neg': 0.362, 'neu': 0.638, 'pos': 0.0, 'compound': -0.1779}\n",
      "\tAll I do is hide\n",
      "{'neg': 0.308, 'neu': 0.539, 'pos': 0.153, 'compound': -0.9501}\n",
      "\t        I’m scared\n",
      "        Of myself\n",
      "        Of my feelings\n",
      "        I want to feel\n",
      "        I need to feel\n",
      "        But all I do is fall\n",
      "        All I do is hide\n",
      "\n",
      "        I have felt\n",
      "        I want to feel\n",
      "        I never want to feel again\n",
      "        All I do is hide\n",
      "\n",
      "        The darkness is comforting\n",
      "        The darkness is destroying\n",
      "        The pain is healing\n",
      "        The pain is painful\n",
      "        All I do is hide\n",
      "\n",
      "        The feelings feel good\n",
      "        The numbness feels good\n",
      "        I can’t decide\n",
      "        Nothing helps\n",
      "        All I do is hide\n",
      "\n",
      "        I want to cry\n",
      "        I want to fly\n",
      "        All I do is hide\n",
      "\n",
      "        I feel\n",
      "        I don’t feel\n",
      "        I hide\n",
      "\n",
      "5:\n",
      "{'neg': 0.437, 'neu': 0.563, 'pos': 0.0, 'compound': -0.4767}\n",
      "\tDoes anyone ever feel selfish?\n",
      "{'neg': 0.156, 'neu': 0.585, 'pos': 0.259, 'compound': 0.916}\n",
      "\tI do. \n",
      "My life is almost perfect. I'm 21, and have moved out. I live in a lovely little house in a nice area with my amazing boyfriend. I have loving family and good friends. I'm going to a great university studying a subject I love. I have no big money problems, I'm surrounded by expensive gadgets, and nice things.\n",
      "\n",
      "But I still feel miserable. I have no reason to be unhappy, but I am. I want so badly to love who I am and what I have, but I don't. I don't feel passionate about anything anymore. Half the time I just feel nothingness. And I don't know why. I feel like I don't deserve this life, like it should be given to someone else who'll appreciate it more. \n",
      "\n",
      "I feel so selfish. And that just makes me hate myself more. \n",
      "\n",
      "6:\n",
      "{'neg': 0.0, 'neu': 0.787, 'pos': 0.213, 'compound': 0.4019}\n",
      "\tI wish i had some of the things that the people here have.\n",
      "{'neg': 0.142, 'neu': 0.671, 'pos': 0.186, 'compound': 0.9843}\n",
      "\tI'm sitting here, at 5:22 AM before i need to go to work, but i can barely get out of bed. Here's the thing: I see a lot of people here who have a lot of really nice things and people in their lives, i.e. boyfriends/girlfriends, lots of friends, loving family, a nice job, a car, and everything.\n",
      "\n",
      " This has nothing to do with depression or anything like that, but i wish i had all that. I have no girlfriend (last girlfriend i had i dated for three weeks, she broke up with me because she \"didn't have those feelings for me anymore\") all of my friends live 45 minutes away and don't want to give me rides so we can hang out, i have a decent job but it's just a temp job, i'm living paycheck to paycheck, my parents kicked me out and disowned me, my car i drove in high school died and i have to take the bus to work, etc. \n",
      "\n",
      "Basically, i have no one in my life as an anchor, a friend, or just someone to love. The fact that i have clinicial depression, anxiety and borderline personality disorder just makes all the losses i have in my life that much worse. I honestly feel like if i had decent job security, friends and a girlfriend i could handle my depression so much better, but for now literally all i do is work for ten hours, then come home and compulsively cut myself and watch anime, then go to bed and do it all over again. Oh yeah and eat nothing but take out food and soda because i'm too lazy to cook for myself and it's too cold to walk to the grocery store.\n",
      "\n",
      "My parents kicked me out because i had sex with the aforementioned girl i dated for three weeks. (Fundamentalist Christians, no sex before marriage) After i was kicked out she broke up with me, getting rid of the one remaining constants i had in my life. even though we only dated for three weeks, i fell hard and fast like i do with pretty much everything else.\n",
      "\n",
      "All i want are these: My family to love me again, a car to get to work (fuck public transit, i hate getting anxiety ridden at 6 AM) friends who love me for me, getting hired on full time at my job instead of just being a temp, and very possibly a significant other who won't get sick of me within the month. Oh, and to break my habit of compulsive self harm and the desire to throw myself into traffic everytime i'm at the bus stop. I've already attempted suicide twice and honestly, if my life doesn't get better, i can easily see it happening a third time.\n",
      "\n",
      "7:\n",
      "{'neg': 0.176, 'neu': 0.824, 'pos': 0.0, 'compound': -0.128}\n",
      "\tI started cutting myself again and I don't know why.\n",
      "{'neg': 0.072, 'neu': 0.852, 'pos': 0.075, 'compound': 0.0258}\n",
      "\tIts been fifteen years since I've done this to myself, now I have fresh cuts all up my arm. I'm a almost thirty year old man, why am I doing this?\n",
      "\n",
      "8:\n",
      "{'neg': 0.0, 'neu': 1.0, 'pos': 0.0, 'compound': 0.0}\n",
      "\tNeed to try to express my story.\n",
      "{'neg': 0.129, 'neu': 0.725, 'pos': 0.146, 'compound': 0.9778}\n",
      "\tForgive me if this post is written poorly, or otherwise devoid of proper formatting, as I am on my phone.\n",
      "\n",
      "\n",
      "So, I lay here on my bed ,3:20am cst, tired from my job ,but unable to sleep. I was reading a few posts and decided to share a part of my story.\n",
      "\n",
      "\n",
      "Forewarning: This post is not about religion or meant to be a discussion of it, but it has a lot to do with my depression so that is why it will. E so prevalent in this telling.\n",
      "\n",
      "\n",
      "I begin by saying I am a 21 yr old male currently working in a restaurant and living with my parents. I have lived on my own since I was 18 and only moved back in with the parents this month, due to crazy bitch landlord evicting me and my roommate (her grandson no less) with no prior notice and then swiftly renting it out to others.\n",
      "\n",
      "\n",
      "My depression began in 5th grade when a girl I had a huge crush on rejected me openly and loudly in front of the entire class when I asked her out. Now it wasn't really bad by any means then but the seed was planted there. Middle school exasperated the emotional distress all kids undergo as they hit puberty and what not.\n",
      "\n",
      "\n",
      "Jump ahead again and I am a sophomore at this point who is top ten in the school grades wise, on the football team, get along with literally every crowd, but because of what happened in 5th grade I cannot talk to girls with any semblance of my real personality or without blushing visibly. On the outside I am a happy guy, and known to make people laugh. Inside I am depressed deeply anxious about the most random things and utterly addicted to video games. Like seriously. It's all I could ever do or thing about. My escape was a tv screen I could control.\n",
      "\n",
      "\n",
      "During this time I reconnect with a childhood fried who I happen to have a class with. He has become a deeply religious and very genuinely caring person. We get along, he invites me to church, I go and , never really being religious before, get \"saved\" and immediately seriously change my life. I become even more deeply devoted that he is and soon my entire video game collection is thrown out and replaced with pretty much my bible and newfound church friends.\n",
      "\n",
      "\n",
      "During the next two years my confidence grows, I become more comfortable with myself based on biblical ideals I held in my heart and mind. I even get my first girlfriend EVER at the age of 17. Although it doesn't last long it gives me SERIOUS hope that I can grow up and be with a woman. I begin a very very close relationship with a girl in my grade, very attractive, and she goes to the Same church as me and is just as devoted as I am to Christ. \n",
      "\n",
      "\n",
      "We and 3 other members of the youth group all graduate the same year and all 5 of us feel as if God has called us into the ministry. We had been going to this great youth conference about 4 hours away for the past 2 years and good news they just opened a school of ministry. I spend 2 years down there and got really close to this blossoming young woman.\n",
      "\n",
      "\n",
      "Halfway through my 2nd year of the 2 year program I begin having doubts in my faith as I read and study more scripture. Also, I become a lot more forward in my feelings towards the girl, I think it is going so well and we are literally talking or texting at most all parts of today. \n",
      "\n",
      "\n",
      "I ask her out, find out she doesn't even like me like that. I feel very much deliberately led on as I had been flirting with her for 3 years now and we only grew closer. The only reason I hadn't asked earlier was because I wanted a relationship to be very serious and committed if I went into one and felt I needed time to really mature and grow some before I asked her.\n",
      "\n",
      "\n",
      "School ends I am now very much doubting my faith for my own reasons not pertaining to this incident and yet all the time this fact that she does not feel ANY attraction to me is bearing down on me and my mental state. I was so invested into our friendship, I mean as much as we were together we had practically dated without the kissing an such for about 6 months. I feel the depression come back on strong after losing my faith and my \"girl\" within basically the same 2 month window. I renounce to myself my religion and drawing away from all my ministry school friends. \n",
      "\n",
      "\n",
      "I move back to my hometown, meet up with old friends and move in with my now former roommate. Get a computer and fall back into gaming mode. Hardcore. If I wasn't at work I was either drinking, which I recently had picked up or playing games or doing both. \n",
      "\n",
      "\n",
      "I start to have panic attacks and some nights don't sleep at all for fear of bad dreams or just inability to shut my brain up. This is worse than it ever was as a kid. My life has been shattered, the last 4 years if my life devoted to something I no longer can believe in. My plans and goals ruined. My hopes for romance CRUSHED. I have fallen back into a lesser state of nervousness around trying to have decent conversations with women. While not nearly as bad sometimes I just freeze up for lack of confidence. All my identity was wrapped up in religion and I feel as if my ambitions and work for 4 years of my life was suddenly ripped from my heart and shattered like glass on concrete. I got evicted then and now it's worse. I'm constantly up till 5 or 6 am. Thank whatever deity that may be I work nights. Sometimes I have terrible nightmares that I haven't had in years. My life is shit right now.\n",
      "\n",
      "\n",
      "Thank you for persevering if any of you made it this far. I do plan to go to counseling as I am lucky enough to have health insurance. I also do have plans to attend college for computer science or psychology this fall. But right now I needed to express myself to get through some inner hell this week. Just wanted to share my story.\n",
      "\n",
      "\n",
      "TL;DR rejected my women as child growing up. Fun religion in highschool. Get very close with woman of my dreams in ministry school. For personal reasons begin to doubt faith which has literally become my entire life for 4 years. Same time I make move on girl with which was then super close with. Rejects me. I feel led on. For seperate reasons reject faith. Now depressed, life shattered man seekin new goals in life and a way to reconnect with myself and other people. Got evicted from house and temporarily living with parents for first time since high school. Having nightmares and drinking more nights than not. Just wanted to share my story with people who can relate.\n",
      "\n",
      "\n",
      "9:\n",
      "{'neg': 0.365, 'neu': 0.635, 'pos': 0.0, 'compound': -0.3182}\n",
      "\tMy personal struggle with depression..\n",
      "{'neg': 0.113, 'neu': 0.805, 'pos': 0.083, 'compound': -0.7686}\n",
      "\tHey all. I felt like getting this off my chest would help me sleep better. But I wanted to share my own personal battle against depression/anxiety. See, I'm a very strong willed and stubborn person and I always have been and I think that's the only reason I'm still alive. I face my depression head on. Show it I'm not going to let it hold me down. I run/bike/lift 5 days a week, I hang with friends, I make sure I'm always eating the proper nutrition even when I have no appetite, and I get to work 30 minutes early every day despite me wanting nothing more than to just say fuck it and quit my job. During the day I distract myself with my battle, it empowers me and I push through and am able to be somewhat happy/fulfilled. But there's a dark side... Literally. When it gets dark out, when my family all goes to bed, my friends stop texting Me, and the sun goes away, my Pandora's box opens. I'm left alone with my insomnia, racing thoughts and anxiety. It's like I spend all day climbing this enormous mountain and right before I reach the top I get kicked back off to the bottom and am forced to restart the next day. It really sucks.. My depression lays dormant and I can deal with life during the day but when I'm left alone with no distractions it bares it's teeth and rips me apart until the sun comes back up. \n",
      "\n"
     ]
    }
   ],
   "source": [
    "from nltk.sentiment.vader import SentimentIntensityAnalyzer as SIA\n",
    "sia = SIA()\n",
    "\n",
    "for x in range(10) :\n",
    "    title_sia = sia.polarity_scores(titles_raw[x])\n",
    "    post_sia = sia.polarity_scores(posts_raw[x])\n",
    "    \n",
    "    print('{}:\\n{}\\n\\t{}\\n{}\\n\\t{}\\n'.format(x, title_sia, \n",
    "                        titles_raw[x], post_sia, posts_raw[x]))"
   ]
  },
  {
   "cell_type": "code",
   "execution_count": 227,
   "metadata": {},
   "outputs": [],
   "source": [
    "def AddSentimentScore(df, posts_raw, titles_raw) :\n",
    "    \"\"\"Add Vader sentiment scores, all outputs (compound, positive, \n",
    "        negative, and neutral) to the specified dataframe\n",
    "    \"\"\"\n",
    "    from nltk.sentiment.vader import SentimentIntensityAnalyzer as SIA\n",
    "    sia_ps = SIA().polarity_scores\n",
    "    \n",
    "    posts_sent = []\n",
    "    for post in posts_raw : \n",
    "        temp = sia_ps(post)\n",
    "        posts_sent.append([temp[k] for k in sorted(temp.keys())])\n",
    "            \n",
    "    titles_sent = []\n",
    "    for title in titles_raw :\n",
    "        temp = sia_ps(title)\n",
    "        titles_sent.append([temp[k] for k in sorted(temp.keys())])\n",
    "    \n",
    "    df_new = df.copy()\n",
    "    df_new['title_compound'] = [t[0] for t in titles_sent]\n",
    "    df_new['title_neg'] = [t[1] for t in titles_sent]\n",
    "    df_new['title_neu'] = [t[2] for t in titles_sent]\n",
    "    df_new['title_pos'] = [t[3] for t in titles_sent]\n",
    "    \n",
    "    df_new['post_compound'] = [t[0] for t in posts_sent]\n",
    "    df_new['post_neg'] = [t[1] for t in posts_sent]\n",
    "    df_new['post_neu'] = [t[2] for t in posts_sent]\n",
    "    df_new['post_pos'] = [t[3] for t in posts_sent]\n",
    "    \n",
    "    return df_new       "
   ]
  },
  {
   "cell_type": "code",
   "execution_count": 318,
   "metadata": {},
   "outputs": [],
   "source": [
    "data_sentiment = AddSentimentScore(data_clean, posts_raw, titles_raw)"
   ]
  },
  {
   "cell_type": "code",
   "execution_count": 231,
   "metadata": {
    "collapsed": true
   },
   "outputs": [
    {
     "data": {
      "text/html": [
       "<div>\n",
       "<style>\n",
       "    .dataframe thead tr:only-child th {\n",
       "        text-align: right;\n",
       "    }\n",
       "\n",
       "    .dataframe thead th {\n",
       "        text-align: left;\n",
       "    }\n",
       "\n",
       "    .dataframe tbody tr th {\n",
       "        vertical-align: top;\n",
       "    }\n",
       "</style>\n",
       "<table border=\"1\" class=\"dataframe\">\n",
       "  <thead>\n",
       "    <tr style=\"text-align: right;\">\n",
       "      <th></th>\n",
       "      <th>created_dayofweek</th>\n",
       "      <th>created_hour</th>\n",
       "      <th>created_month</th>\n",
       "      <th>created_year</th>\n",
       "      <th>post_char_len</th>\n",
       "      <th>post_num_qs</th>\n",
       "      <th>title_char_len</th>\n",
       "      <th>title_num_qs</th>\n",
       "      <th>post_num_punc</th>\n",
       "      <th>title_num_punc</th>\n",
       "      <th>...</th>\n",
       "      <th>title_lsi_399</th>\n",
       "      <th>comment_category</th>\n",
       "      <th>title_compound</th>\n",
       "      <th>title_neg</th>\n",
       "      <th>title_neu</th>\n",
       "      <th>title_pos</th>\n",
       "      <th>post_compound</th>\n",
       "      <th>post_neg</th>\n",
       "      <th>post_neu</th>\n",
       "      <th>post_pos</th>\n",
       "    </tr>\n",
       "  </thead>\n",
       "  <tbody>\n",
       "    <tr>\n",
       "      <th>0</th>\n",
       "      <td>4</td>\n",
       "      <td>14</td>\n",
       "      <td>2</td>\n",
       "      <td>2014</td>\n",
       "      <td>747</td>\n",
       "      <td>1</td>\n",
       "      <td>42</td>\n",
       "      <td>0</td>\n",
       "      <td>34</td>\n",
       "      <td>2</td>\n",
       "      <td>...</td>\n",
       "      <td>-0.089088</td>\n",
       "      <td>0</td>\n",
       "      <td>0.3612</td>\n",
       "      <td>0.000</td>\n",
       "      <td>0.706</td>\n",
       "      <td>0.294</td>\n",
       "      <td>-0.9712</td>\n",
       "      <td>0.207</td>\n",
       "      <td>0.769</td>\n",
       "      <td>0.025</td>\n",
       "    </tr>\n",
       "    <tr>\n",
       "      <th>1</th>\n",
       "      <td>4</td>\n",
       "      <td>14</td>\n",
       "      <td>2</td>\n",
       "      <td>2014</td>\n",
       "      <td>789</td>\n",
       "      <td>5</td>\n",
       "      <td>72</td>\n",
       "      <td>0</td>\n",
       "      <td>43</td>\n",
       "      <td>4</td>\n",
       "      <td>...</td>\n",
       "      <td>-0.021723</td>\n",
       "      <td>0</td>\n",
       "      <td>-0.5216</td>\n",
       "      <td>0.206</td>\n",
       "      <td>0.794</td>\n",
       "      <td>0.000</td>\n",
       "      <td>0.9900</td>\n",
       "      <td>0.125</td>\n",
       "      <td>0.559</td>\n",
       "      <td>0.317</td>\n",
       "    </tr>\n",
       "    <tr>\n",
       "      <th>2</th>\n",
       "      <td>4</td>\n",
       "      <td>14</td>\n",
       "      <td>2</td>\n",
       "      <td>2014</td>\n",
       "      <td>771</td>\n",
       "      <td>0</td>\n",
       "      <td>40</td>\n",
       "      <td>0</td>\n",
       "      <td>25</td>\n",
       "      <td>2</td>\n",
       "      <td>...</td>\n",
       "      <td>0.009211</td>\n",
       "      <td>0</td>\n",
       "      <td>0.0000</td>\n",
       "      <td>0.000</td>\n",
       "      <td>1.000</td>\n",
       "      <td>0.000</td>\n",
       "      <td>0.9226</td>\n",
       "      <td>0.152</td>\n",
       "      <td>0.630</td>\n",
       "      <td>0.218</td>\n",
       "    </tr>\n",
       "    <tr>\n",
       "      <th>3</th>\n",
       "      <td>4</td>\n",
       "      <td>13</td>\n",
       "      <td>2</td>\n",
       "      <td>2014</td>\n",
       "      <td>337</td>\n",
       "      <td>1</td>\n",
       "      <td>40</td>\n",
       "      <td>1</td>\n",
       "      <td>19</td>\n",
       "      <td>1</td>\n",
       "      <td>...</td>\n",
       "      <td>-0.114715</td>\n",
       "      <td>0</td>\n",
       "      <td>-0.5423</td>\n",
       "      <td>0.333</td>\n",
       "      <td>0.667</td>\n",
       "      <td>0.000</td>\n",
       "      <td>-0.7227</td>\n",
       "      <td>0.119</td>\n",
       "      <td>0.853</td>\n",
       "      <td>0.028</td>\n",
       "    </tr>\n",
       "    <tr>\n",
       "      <th>4</th>\n",
       "      <td>4</td>\n",
       "      <td>12</td>\n",
       "      <td>2</td>\n",
       "      <td>2014</td>\n",
       "      <td>671</td>\n",
       "      <td>0</td>\n",
       "      <td>16</td>\n",
       "      <td>0</td>\n",
       "      <td>0</td>\n",
       "      <td>0</td>\n",
       "      <td>...</td>\n",
       "      <td>0.027733</td>\n",
       "      <td>0</td>\n",
       "      <td>-0.1779</td>\n",
       "      <td>0.362</td>\n",
       "      <td>0.638</td>\n",
       "      <td>0.000</td>\n",
       "      <td>-0.9501</td>\n",
       "      <td>0.308</td>\n",
       "      <td>0.539</td>\n",
       "      <td>0.153</td>\n",
       "    </tr>\n",
       "  </tbody>\n",
       "</table>\n",
       "<p>5 rows × 825 columns</p>\n",
       "</div>"
      ],
      "text/plain": [
       "   created_dayofweek  created_hour  created_month  created_year  \\\n",
       "0                  4            14              2          2014   \n",
       "1                  4            14              2          2014   \n",
       "2                  4            14              2          2014   \n",
       "3                  4            13              2          2014   \n",
       "4                  4            12              2          2014   \n",
       "\n",
       "   post_char_len  post_num_qs  title_char_len  title_num_qs  post_num_punc  \\\n",
       "0            747            1              42             0             34   \n",
       "1            789            5              72             0             43   \n",
       "2            771            0              40             0             25   \n",
       "3            337            1              40             1             19   \n",
       "4            671            0              16             0              0   \n",
       "\n",
       "   title_num_punc    ...     title_lsi_399  comment_category  title_compound  \\\n",
       "0               2    ...         -0.089088                 0          0.3612   \n",
       "1               4    ...         -0.021723                 0         -0.5216   \n",
       "2               2    ...          0.009211                 0          0.0000   \n",
       "3               1    ...         -0.114715                 0         -0.5423   \n",
       "4               0    ...          0.027733                 0         -0.1779   \n",
       "\n",
       "   title_neg  title_neu  title_pos  post_compound  post_neg  post_neu  \\\n",
       "0      0.000      0.706      0.294        -0.9712     0.207     0.769   \n",
       "1      0.206      0.794      0.000         0.9900     0.125     0.559   \n",
       "2      0.000      1.000      0.000         0.9226     0.152     0.630   \n",
       "3      0.333      0.667      0.000        -0.7227     0.119     0.853   \n",
       "4      0.362      0.638      0.000        -0.9501     0.308     0.539   \n",
       "\n",
       "   post_pos  \n",
       "0     0.025  \n",
       "1     0.317  \n",
       "2     0.218  \n",
       "3     0.028  \n",
       "4     0.153  \n",
       "\n",
       "[5 rows x 825 columns]"
      ]
     },
     "execution_count": 231,
     "metadata": {},
     "output_type": "execute_result"
    }
   ],
   "source": [
    "columns = ['title_compound', 'title_neg', 'title_neu', 'title_pos', \n",
    "           'post_compound', 'post_neg', 'post_neu', 'post_pos']\n",
    "data_new = data_binned_4.copy()\n",
    "for col in columns :\n",
    "    data_new[col] = data_sentiment[col]\n",
    "data_new.head()"
   ]
  },
  {
   "cell_type": "code",
   "execution_count": 232,
   "metadata": {},
   "outputs": [
    {
     "name": "stdout",
     "output_type": "stream",
     "text": [
      "randomforest on 824 features.  Training on 16000 rows, validating on 4000.\n",
      "Accuracy: 0.359\n",
      "Normalized confusion matrix\n",
      "[[ 0.69559826  0.0700558   0.0799752   0.15437074]\n",
      " [ 0.676783    0.07738998  0.08497724  0.16084977]\n",
      " [ 0.63028649  0.08594816  0.08049113  0.20327422]\n",
      " [ 0.62211055  0.08341709  0.08944724  0.20502513]]\n",
      "\n",
      "logisticregression on 824 features.  Training on 16000 rows, validating on 4000.\n",
      "Accuracy: 0.405\n",
      "Normalized confusion matrix\n",
      "[[ 0.79340938  0.02217997  0.02661597  0.15779468]\n",
      " [ 0.73030303  0.02272727  0.03030303  0.21666667]\n",
      " [ 0.74212034  0.02292264  0.0243553   0.21060172]\n",
      " [ 0.62969925  0.02067669  0.03383459  0.31578947]]\n",
      "\n"
     ]
    },
    {
     "data": {
      "image/png": "[encoded data removed]",
      "text/plain": [
       "<matplotlib.figure.Figure at 0x7fce7d844be0>"
      ]
     },
     "metadata": {},
     "output_type": "display_data"
    },
    {
     "data": {
      "image/png": "[encoded data removed]",
      "text/plain": [
       "<matplotlib.figure.Figure at 0x7fce7d78d588>"
      ]
     },
     "metadata": {},
     "output_type": "display_data"
    }
   ],
   "source": [
    "(train_x, train_y) = CreateTrainingData(data_new)\n",
    "models_to_test = ['randomforest', 'logisticregression']\n",
    "models = TestClassificationModels(train_x, train_y, models_to_test, bins=comment_bins)"
   ]
  },
  {
   "cell_type": "markdown",
   "metadata": {},
   "source": [
    "# Limit to first few posts\n",
    "\n",
    "Restrict data to only the first several posts of each author."
   ]
  },
  {
   "cell_type": "code",
   "execution_count": 241,
   "metadata": {
    "collapsed": true
   },
   "outputs": [],
   "source": [
    "data_temp = pd.DataFrame( pickle.load( open(file_load, 'rb')) )"
   ]
  },
  {
   "cell_type": "code",
   "execution_count": 272,
   "metadata": {
    "scrolled": true
   },
   "outputs": [],
   "source": [
    "authors = {}\n",
    "def compile_author_posts(row, authors) :\n",
    "    \"map function that compiles the times each author poster in a separate dictionary\"\n",
    "    if row.author in authors :\n",
    "        authors[row.author].append(row.created_utc)\n",
    "    else :\n",
    "        authors[row.author] = [row.created_utc]\n",
    "    return\n",
    "\n",
    "delete_me = data_temp.apply(compile_author_posts, args=(authors,), axis=1)"
   ]
  },
  {
   "cell_type": "code",
   "execution_count": 289,
   "metadata": {},
   "outputs": [
    {
     "name": "stdout",
     "output_type": "stream",
     "text": [
      "[deleted] 26506\n"
     ]
    }
   ],
   "source": [
    "num_posts = []\n",
    "for (key, value) in authors.items() :\n",
    "    if key == '[deleted]' :\n",
    "        print(key, len(value))\n",
    "    elif len(value) > 100 :\n",
    "        print(key, len(value), value)\n",
    "    else :\n",
    "        num_posts.append(len(value))"
   ]
  },
  {
   "cell_type": "markdown",
   "metadata": {},
   "source": [
    "Verify that this gives the same results as when computing it directly from the dataframe."
   ]
  },
  {
   "cell_type": "code",
   "execution_count": 288,
   "metadata": {},
   "outputs": [
    {
     "data": {
      "text/plain": [
       "<matplotlib.text.Text at 0x7fce7d6770b8>"
      ]
     },
     "execution_count": 288,
     "metadata": {},
     "output_type": "execute_result"
    },
    {
     "data": {
      "image/png": "[encoded data removed]",
      "text/plain": [
       "<matplotlib.figure.Figure at 0x7fce7e2a55f8>"
      ]
     },
     "metadata": {},
     "output_type": "display_data"
    }
   ],
   "source": [
    "fig, axes = plt.subplots(1, 2, figsize = (10,4))\n",
    "\n",
    "plt.hist(num_posts)#, ax = axes[0])\n",
    "axes[1].set_yscale('log')\n",
    "axes[1].set_xlabel('Number of Posts per User')\n",
    "axes[1].set_ylabel('Count')\n",
    "axes[1].grid('on')\n",
    "\n",
    "data_temp.author.value_counts()[1:].hist(ax = axes[0])\n",
    "axes[0].set_yscale('log')\n",
    "axes[0].set_xlabel('Number of Posts per User')\n",
    "axes[0].set_ylabel('Count')"
   ]
  },
  {
   "cell_type": "code",
   "execution_count": 291,
   "metadata": {},
   "outputs": [
    {
     "data": {
      "text/plain": [
       "1"
      ]
     },
     "execution_count": 291,
     "metadata": {},
     "output_type": "execute_result"
    }
   ],
   "source": [
    "test = [1234, 3245345, 29384524590]\n",
    "test.index(3245345)"
   ]
  },
  {
   "cell_type": "code",
   "execution_count": 294,
   "metadata": {
    "collapsed": true
   },
   "outputs": [],
   "source": [
    "def flag_valid_posts(row, authors) :\n",
    "    \"Create a new column with how many posts the author has written so far\"\n",
    "    num_prev = authors[row.author].index(row.created_utc)\n",
    "    return num_prev\n",
    "\n",
    "data_temp['num_posts_so_far'] = data_temp.apply(flag_valid_posts, args=(authors,), axis=1)"
   ]
  },
  {
   "cell_type": "code",
   "execution_count": 319,
   "metadata": {},
   "outputs": [
    {
     "data": {
      "text/plain": [
       "57133"
      ]
     },
     "execution_count": 319,
     "metadata": {},
     "output_type": "execute_result"
    }
   ],
   "source": [
    "len(data_temp[data_temp['num_posts_so_far']<4])"
   ]
  },
  {
   "cell_type": "code",
   "execution_count": 317,
   "metadata": {},
   "outputs": [],
   "source": [
    "temp = data_binned_4.join(data_temp.num_posts_so_far, how='left')"
   ]
  },
  {
   "cell_type": "code",
   "execution_count": 320,
   "metadata": {
    "collapsed": true
   },
   "outputs": [],
   "source": [
    "columns = ['title_compound', 'title_neg', 'title_neu', 'title_pos', \n",
    "           'post_compound', 'post_neg', 'post_neu', 'post_pos']\n",
    "data_new = temp.copy()\n",
    "for col in columns :\n",
    "    data_new[col] = data_sentiment[col]"
   ]
  },
  {
   "cell_type": "markdown",
   "metadata": {},
   "source": [
    "Run models on only first posts."
   ]
  },
  {
   "cell_type": "code",
   "execution_count": 321,
   "metadata": {},
   "outputs": [
    {
     "name": "stdout",
     "output_type": "stream",
     "text": [
      "randomforest on 825 features.  Training on 9653 rows, validating on 2414.\n",
      "Accuracy: 0.305\n",
      "Normalized confusion matrix\n",
      "[[ 0.55223881  0.09414466  0.11940299  0.23421355]\n",
      " [ 0.54198473  0.08905852  0.08396947  0.28498728]\n",
      " [ 0.54273504  0.11965812  0.10897436  0.22863248]\n",
      " [ 0.53519062  0.09384164  0.12316716  0.24780059]]\n",
      "\n",
      "logisticregression on 825 features.  Training on 9653 rows, validating on 2414.\n",
      "Accuracy: 0.374\n",
      "Normalized confusion matrix\n",
      "[[ 0.65906499  0.04104903  0.0695553   0.23033067]\n",
      " [ 0.59653465  0.03712871  0.07178218  0.29455446]\n",
      " [ 0.54356846  0.03526971  0.08921162  0.33195021]\n",
      " [ 0.48387097  0.02764977  0.07834101  0.41013825]]\n",
      "\n"
     ]
    },
    {
     "data": {
      "image/png": "[encoded data removed]",
      "text/plain": [
       "<matplotlib.figure.Figure at 0x7fce7d7182b0>"
      ]
     },
     "metadata": {},
     "output_type": "display_data"
    },
    {
     "data": {
      "image/png": "[encoded data removed]",
      "text/plain": [
       "<matplotlib.figure.Figure at 0x7fce7e2598d0>"
      ]
     },
     "metadata": {},
     "output_type": "display_data"
    }
   ],
   "source": [
    "data_new2 = data_new[data_new.num_posts_so_far < 1]\n",
    "\n",
    "(train_x, train_y) = CreateTrainingData(data_new)\n",
    "models_to_test = ['randomforest', 'logisticregression']\n",
    "models = TestClassificationModels(train_x, train_y, models_to_test, bins=comment_bins)"
   ]
  },
  {
   "cell_type": "code",
   "execution_count": 322,
   "metadata": {},
   "outputs": [
    {
     "name": "stdout",
     "output_type": "stream",
     "text": [
      "randomforest on 825 features.  Training on 9653 rows, validating on 2414.\n",
      "Accuracy: 0.309\n",
      "Normalized confusion matrix\n",
      "[[ 0.57562077  0.10609481  0.11173815  0.20654628]\n",
      " [ 0.54881266  0.09234828  0.10026385  0.2585752 ]\n",
      " [ 0.60208333  0.08125     0.10833333  0.20833333]\n",
      " [ 0.5426009   0.10313901  0.13153961  0.22272048]]\n",
      "\n",
      "logisticregression on 825 features.  Training on 9653 rows, validating on 2414.\n",
      "Accuracy: 0.383\n",
      "Normalized confusion matrix\n",
      "[[ 0.64432432  0.03459459  0.06162162  0.25945946]\n",
      " [ 0.57446809  0.04521277  0.05319149  0.32712766]\n",
      " [ 0.52024291  0.04251012  0.09311741  0.34412955]\n",
      " [ 0.47011309  0.0371567   0.06300485  0.42972536]]\n",
      "\n"
     ]
    },
    {
     "data": {
      "image/png": "[encoded data removed]",
      "text/plain": [
       "<matplotlib.figure.Figure at 0x7fce75c2c6a0>"
      ]
     },
     "metadata": {},
     "output_type": "display_data"
    },
    {
     "data": {
      "image/png": "[encoded data removed]",
      "text/plain": [
       "<matplotlib.figure.Figure at 0x7fce76203b70>"
      ]
     },
     "metadata": {},
     "output_type": "display_data"
    }
   ],
   "source": [
    "data_new2 = data_new[data_new.num_posts_so_far < 2]\n",
    "\n",
    "(train_x, train_y) = CreateTrainingData(data_new)\n",
    "models_to_test = ['randomforest', 'logisticregression']\n",
    "models = TestClassificationModels(train_x, train_y, models_to_test, bins=comment_bins)"
   ]
  },
  {
   "cell_type": "code",
   "execution_count": 323,
   "metadata": {},
   "outputs": [
    {
     "name": "stdout",
     "output_type": "stream",
     "text": [
      "randomforest on 825 features.  Training on 9653 rows, validating on 2414.\n",
      "Accuracy: 0.325\n",
      "Normalized confusion matrix\n",
      "[[ 0.58628319  0.0840708   0.11615044  0.21349558]\n",
      " [ 0.58524173  0.09669211  0.11704835  0.20101781]\n",
      " [ 0.56277056  0.11038961  0.12121212  0.20562771]\n",
      " [ 0.54198473  0.08854962  0.12519084  0.24427481]]\n",
      "\n",
      "logisticregression on 825 features.  Training on 9653 rows, validating on 2414.\n",
      "Accuracy: 0.368\n",
      "Normalized confusion matrix\n",
      "[[ 0.6556213   0.04497041  0.06035503  0.23905325]\n",
      " [ 0.62383178  0.02803738  0.05841121  0.28971963]\n",
      " [ 0.53579176  0.04338395  0.06724512  0.35357918]\n",
      " [ 0.45294118  0.04705882  0.07058824  0.42941176]]\n",
      "\n"
     ]
    },
    {
     "data": {
      "image/png": "[encoded data removed]",
      "text/plain": [
       "<matplotlib.figure.Figure at 0x7fce75a80588>"
      ]
     },
     "metadata": {},
     "output_type": "display_data"
    },
    {
     "data": {
      "image/png": "[encoded data removed]",
      "text/plain": [
       "<matplotlib.figure.Figure at 0x7fce763ebba8>"
      ]
     },
     "metadata": {},
     "output_type": "display_data"
    }
   ],
   "source": [
    "data_new2 = data_new[data_new.num_posts_so_far < 4]\n",
    "\n",
    "(train_x, train_y) = CreateTrainingData(data_new)\n",
    "models_to_test = ['randomforest', 'logisticregression']\n",
    "models = TestClassificationModels(train_x, train_y, models_to_test, bins=comment_bins)"
   ]
  },
  {
   "cell_type": "code",
   "execution_count": 332,
   "metadata": {},
   "outputs": [
    {
     "name": "stdout",
     "output_type": "stream",
     "text": [
      "randomforest on 825 features.  Training on 9653 rows, validating on 2414.\n",
      "Accuracy: 0.329\n",
      "Normalized confusion matrix\n",
      "[[ 0.62840909  0.09090909  0.11477273  0.16590909]\n",
      " [ 0.55773956  0.11793612  0.12039312  0.2039312 ]\n",
      " [ 0.57823129  0.09750567  0.12244898  0.20181406]\n",
      " [ 0.56268222  0.10495627  0.12973761  0.20262391]]\n",
      "\n",
      "logisticregression on 825 features.  Training on 9653 rows, validating on 2414.\n",
      "Accuracy: 0.357\n",
      "Normalized confusion matrix\n",
      "[[ 0.67502987  0.04778973  0.07287933  0.20430108]\n",
      " [ 0.57831325  0.04819277  0.05542169  0.31807229]\n",
      " [ 0.53941909  0.07676349  0.07053942  0.31327801]\n",
      " [ 0.50588235  0.05588235  0.08088235  0.35735294]]\n",
      "\n"
     ]
    },
    {
     "data": {
      "image/png": "[encoded data removed]",
      "text/plain": [
       "<matplotlib.figure.Figure at 0x7fce7df86748>"
      ]
     },
     "metadata": {},
     "output_type": "display_data"
    },
    {
     "data": {
      "image/png": "[encoded data removed]",
      "text/plain": [
       "<matplotlib.figure.Figure at 0x7fce7d962e48>"
      ]
     },
     "metadata": {},
     "output_type": "display_data"
    }
   ],
   "source": [
    "data_new2 = data_new[data_new.num_posts_so_far > 7]\n",
    "\n",
    "(train_x, train_y) = CreateTrainingData(data_new)\n",
    "models_to_test = ['randomforest', 'logisticregression']\n",
    "models = TestClassificationModels(train_x, train_y, models_to_test, bins=comment_bins)"
   ]
  },
  {
   "cell_type": "markdown",
   "metadata": {},
   "source": [
    "Plot learning curve, to see if the results are getting better with more data.  [This code](http://scikit-learn.org/stable/auto_examples/model_selection/plot_learning_curve.html) taken from sklearn documentation."
   ]
  },
  {
   "cell_type": "code",
   "execution_count": 324,
   "metadata": {
    "collapsed": true
   },
   "outputs": [],
   "source": [
    "from sklearn.datasets import load_digits\n",
    "from sklearn.model_selection import learning_curve\n",
    "from sklearn.model_selection import ShuffleSplit\n",
    "\n",
    "\n",
    "def plot_learning_curve(estimator, title, X, y, ylim=None, cv=None,\n",
    "                        n_jobs=1, train_sizes=np.linspace(.1, 1.0, 5)):\n",
    "    \"\"\"\n",
    "    Generate a simple plot of the test and training learning curve.\n",
    "\n",
    "    Parameters\n",
    "    ----------\n",
    "    estimator : object type that implements the \"fit\" and \"predict\" methods\n",
    "        An object of that type which is cloned for each validation.\n",
    "\n",
    "    title : string\n",
    "        Title for the chart.\n",
    "\n",
    "    X : array-like, shape (n_samples, n_features)\n",
    "        Training vector, where n_samples is the number of samples and\n",
    "        n_features is the number of features.\n",
    "\n",
    "    y : array-like, shape (n_samples) or (n_samples, n_features), optional\n",
    "        Target relative to X for classification or regression;\n",
    "        None for unsupervised learning.\n",
    "\n",
    "    ylim : tuple, shape (ymin, ymax), optional\n",
    "        Defines minimum and maximum yvalues plotted.\n",
    "\n",
    "    cv : int, cross-validation generator or an iterable, optional\n",
    "        Determines the cross-validation splitting strategy.\n",
    "        Possible inputs for cv are:\n",
    "          - None, to use the default 3-fold cross-validation,\n",
    "          - integer, to specify the number of folds.\n",
    "          - An object to be used as a cross-validation generator.\n",
    "          - An iterable yielding train/test splits.\n",
    "\n",
    "        For integer/None inputs, if ``y`` is binary or multiclass,\n",
    "        :class:`StratifiedKFold` used. If the estimator is not a classifier\n",
    "        or if ``y`` is neither binary nor multiclass, :class:`KFold` is used.\n",
    "\n",
    "        Refer :ref:`User Guide <cross_validation>` for the various\n",
    "        cross-validators that can be used here.\n",
    "\n",
    "    n_jobs : integer, optional\n",
    "        Number of jobs to run in parallel (default 1).\n",
    "    \"\"\"\n",
    "    plt.figure()\n",
    "    plt.title(title)\n",
    "    if ylim is not None:\n",
    "        plt.ylim(*ylim)\n",
    "    plt.xlabel(\"Training examples\")\n",
    "    plt.ylabel(\"Score\")\n",
    "    train_sizes, train_scores, test_scores = learning_curve(\n",
    "        estimator, X, y, cv=cv, n_jobs=n_jobs, train_sizes=train_sizes)\n",
    "    train_scores_mean = np.mean(train_scores, axis=1)\n",
    "    train_scores_std = np.std(train_scores, axis=1)\n",
    "    test_scores_mean = np.mean(test_scores, axis=1)\n",
    "    test_scores_std = np.std(test_scores, axis=1)\n",
    "    plt.grid()\n",
    "\n",
    "    plt.fill_between(train_sizes, train_scores_mean - train_scores_std,\n",
    "                     train_scores_mean + train_scores_std, alpha=0.1,\n",
    "                     color=\"r\")\n",
    "    plt.fill_between(train_sizes, test_scores_mean - test_scores_std,\n",
    "                     test_scores_mean + test_scores_std, alpha=0.1, color=\"g\")\n",
    "    plt.plot(train_sizes, train_scores_mean, 'o-', color=\"r\",\n",
    "             label=\"Training score\")\n",
    "    plt.plot(train_sizes, test_scores_mean, 'o-', color=\"g\",\n",
    "             label=\"Cross-validation score\")\n",
    "\n",
    "    plt.legend(loc=\"best\")\n",
    "    return plt"
   ]
  },
  {
   "cell_type": "markdown",
   "metadata": {},
   "source": [
    "Learning rate shows that more data does not solve this problem: it's basically flat across here.  In other words, a hard problem.  This was also flat for 4 bins."
   ]
  },
  {
   "cell_type": "code",
   "execution_count": 331,
   "metadata": {},
   "outputs": [
    {
     "data": {
      "image/png": "[encoded data removed]",
      "text/plain": [
       "<matplotlib.figure.Figure at 0x7fce763176a0>"
      ]
     },
     "metadata": {},
     "output_type": "display_data"
    }
   ],
   "source": [
    "from sklearn import ensemble\n",
    "\n",
    "data_new2 = data_new[data_new.num_posts_so_far < 1]\n",
    "(train_x, train_y) = CreateTrainingData(data_new)\n",
    "\n",
    "title = \"Learning Curves (Random Forest)\"\n",
    "# Cross validation with 100 iterations to get smoother mean test and train\n",
    "# score curves, each time with 20% data randomly selected as a validation set.\n",
    "cv = ShuffleSplit(n_splits=10, test_size=0.2, random_state=0)\n",
    "\n",
    "estimator = ensemble.RandomForestClassifier()\n",
    "plot_learning_curve(estimator, title, train_x, train_y, ylim=(0, 1.01), \n",
    "                    cv=cv, n_jobs=1, train_sizes=np.linspace(0.1, 1.0, 5))\n",
    "\n",
    "plt.show()"
   ]
  }
 ],
 "metadata": {
  "kernelspec": {
   "display_name": "Python 3",
   "language": "python",
   "name": "python3"
  },
  "language_info": {
   "codemirror_mode": {
    "name": "ipython",
    "version": 3
   },
   "file_extension": ".py",
   "mimetype": "text/x-python",
   "name": "python",
   "nbconvert_exporter": "python",
   "pygments_lexer": "ipython3",
   "version": "3.6.1"
  }
 },
 "nbformat": 4,
 "nbformat_minor": 2
}
