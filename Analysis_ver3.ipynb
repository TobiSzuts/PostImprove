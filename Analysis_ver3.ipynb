{
 "cells": [
  {
   "cell_type": "markdown",
   "metadata": {},
   "source": [
    "# Analysis ver3"
   ]
  },
  {
   "cell_type": "markdown",
   "metadata": {},
   "source": [
    "This is a derived and cleaned up version of Analysis_ver2, with a pipeline for the first version of the webapp."
   ]
  },
  {
   "cell_type": "code",
   "execution_count": 1,
   "metadata": {
    "collapsed": true
   },
   "outputs": [],
   "source": [
    "%matplotlib inline"
   ]
  },
  {
   "cell_type": "code",
   "execution_count": 2,
   "metadata": {},
   "outputs": [
    {
     "name": "stdout",
     "output_type": "stream",
     "text": [
      "/media/tobiszuts/Windows/Data/Work/Insight/project\n"
     ]
    }
   ],
   "source": [
    "cd /home/tobiszuts/insight/project"
   ]
  },
  {
   "cell_type": "code",
   "execution_count": 4,
   "metadata": {},
   "outputs": [],
   "source": [
    "import pickle\n",
    "import pandas as pd\n",
    "import numpy as np\n",
    "import matplotlib.pyplot as plt"
   ]
  },
  {
   "cell_type": "markdown",
   "metadata": {},
   "source": [
    "# Data cleaning\n",
    "\n",
    "Get the data and start processing."
   ]
  },
  {
   "cell_type": "code",
   "execution_count": 5,
   "metadata": {},
   "outputs": [],
   "source": [
    "file_load = \"Reddit_depression.p\"\n",
    "results = pickle.load( open(file_load, 'rb'))"
   ]
  },
  {
   "cell_type": "markdown",
   "metadata": {},
   "source": [
    "## Create Features"
   ]
  },
  {
   "cell_type": "code",
   "execution_count": 39,
   "metadata": {},
   "outputs": [],
   "source": [
    "def PreProcessData(raw_data) :\n",
    "    \"\"\" This processes the post data, and can be used as \n",
    "    a template for the upload data.\n",
    "    \"\"\"\n",
    "    import pandas as pd\n",
    "    \n",
    "    data_raw = pd.DataFrame(raw_data)\n",
    "    # some of these columns aren't being used to create features yet\n",
    "    extract_keys = ['id', 'author', 'score', 'num_comments', 'downs', 'ups', \n",
    "                'created_utc', 'title', 'selftext']\n",
    "    data = data_raw[sorted(extract_keys)].copy()\n",
    "    \n",
    "    # remove all rows without any valid text\n",
    "    data = data[data.selftext.map(len) > 0]\n",
    "            \n",
    "    dates = pd.to_datetime(data.created_utc, unit=\"s\")\n",
    "    data['created_dayofweek'] = dates.dt.dayofweek\n",
    "    data['created_hour'] = dates.dt.hour\n",
    "    data['created_month'] = dates.dt.month\n",
    "    data['created_year'] = dates.dt.year\n",
    "    cut_off_year = 2011\n",
    "    data = data[ data.created_year > cut_off_year]\n",
    "    print('Removing all posts before 2011.')\n",
    "    \n",
    "    data['post_char_len'] = data.selftext.apply(lambda x: len(x))\n",
    "    data['post_num_qs'] = data.selftext.apply(lambda x: x.count('?'))\n",
    "    data['title_char_len'] = data.title.apply(lambda x: len(x))\n",
    "    data['title_num_qs'] = data.title.apply(lambda x: x.count('?'))\n",
    "    \n",
    "    def CountPostPunctuation(row) :\n",
    "        # count the number of punctuation in the selftext\n",
    "        import string\n",
    "        punc_set = set(string.punctuation)\n",
    "        num_punc = 0\n",
    "        for char in row['selftext'] :\n",
    "            if char in punc_set :\n",
    "                num_punc += 1\n",
    "        return num_punc\n",
    "    def CountTitlePunctuation(row) :\n",
    "        # count the number of punctuation in the selftext\n",
    "        import string\n",
    "        punc_set = set(string.punctuation)\n",
    "        num_punc = 0\n",
    "        for char in row['title'] :\n",
    "            if char in punc_set :\n",
    "                num_punc += 1\n",
    "        return num_punc\n",
    "\n",
    "    data['post_num_punc'] = data.apply(CountPostPunctuation, axis=1)\n",
    "    data['title_num_punc'] = data.apply(CountTitlePunctuation, axis=1)\n",
    "    data['post_perc_punc'] = data.post_num_punc / data.post_char_len\n",
    "    data['title_perc_punc'] = data.title_num_punc / data.title_char_len\n",
    "    data.post_perc_punc = data.post_perc_punc.fillna(0)\n",
    "    print('Earliest post = {}'.format(pd.to_datetime(data.created_utc.min(), unit=\"s\")))\n",
    "\n",
    "    # get rid of columns that aren't needed for the model\n",
    "    drop_cols = ['created_utc', 'author', 'downs', 'ups', 'score', 'id']\n",
    "    #print(data.head())\n",
    "        \n",
    "    return data.drop(drop_cols, axis=1)"
   ]
  },
  {
   "cell_type": "markdown",
   "metadata": {},
   "source": [
    "The following function takes about 5 minutes to run on the whole data set, maybe 20 seconds on 20k posts."
   ]
  },
  {
   "cell_type": "code",
   "execution_count": 40,
   "metadata": {},
   "outputs": [
    {
     "name": "stdout",
     "output_type": "stream",
     "text": [
      "Removing all posts before 2011.\n",
      "Earliest post = 2012-01-01 00:41:48\n",
      "There are 73724 posts after processing.\n"
     ]
    },
    {
     "data": {
      "text/html": [
       "<div>\n",
       "<style>\n",
       "    .dataframe thead tr:only-child th {\n",
       "        text-align: right;\n",
       "    }\n",
       "\n",
       "    .dataframe thead th {\n",
       "        text-align: left;\n",
       "    }\n",
       "\n",
       "    .dataframe tbody tr th {\n",
       "        vertical-align: top;\n",
       "    }\n",
       "</style>\n",
       "<table border=\"1\" class=\"dataframe\">\n",
       "  <thead>\n",
       "    <tr style=\"text-align: right;\">\n",
       "      <th></th>\n",
       "      <th>num_comments</th>\n",
       "      <th>selftext</th>\n",
       "      <th>title</th>\n",
       "      <th>created_dayofweek</th>\n",
       "      <th>created_hour</th>\n",
       "      <th>created_month</th>\n",
       "      <th>created_year</th>\n",
       "      <th>post_char_len</th>\n",
       "      <th>post_num_qs</th>\n",
       "      <th>title_char_len</th>\n",
       "      <th>title_num_qs</th>\n",
       "      <th>post_num_punc</th>\n",
       "      <th>title_num_punc</th>\n",
       "      <th>post_perc_punc</th>\n",
       "      <th>title_perc_punc</th>\n",
       "    </tr>\n",
       "  </thead>\n",
       "  <tbody>\n",
       "    <tr>\n",
       "      <th>0</th>\n",
       "      <td>0</td>\n",
       "      <td>I can't think straight, I can't concentrate, I...</td>\n",
       "      <td>I feel like my brain doesn't work anymore.</td>\n",
       "      <td>4</td>\n",
       "      <td>14</td>\n",
       "      <td>2</td>\n",
       "      <td>2014</td>\n",
       "      <td>747</td>\n",
       "      <td>1</td>\n",
       "      <td>42</td>\n",
       "      <td>0</td>\n",
       "      <td>34</td>\n",
       "      <td>2</td>\n",
       "      <td>0.045515</td>\n",
       "      <td>0.047619</td>\n",
       "    </tr>\n",
       "    <tr>\n",
       "      <th>1</th>\n",
       "      <td>0</td>\n",
       "      <td>There is this amazing girl that i've known sin...</td>\n",
       "      <td>She's the girl i was always looking for... But...</td>\n",
       "      <td>4</td>\n",
       "      <td>14</td>\n",
       "      <td>2</td>\n",
       "      <td>2014</td>\n",
       "      <td>789</td>\n",
       "      <td>5</td>\n",
       "      <td>72</td>\n",
       "      <td>0</td>\n",
       "      <td>43</td>\n",
       "      <td>4</td>\n",
       "      <td>0.054499</td>\n",
       "      <td>0.055556</td>\n",
       "    </tr>\n",
       "    <tr>\n",
       "      <th>2</th>\n",
       "      <td>1</td>\n",
       "      <td>I've been struggling with depression since hig...</td>\n",
       "      <td>I don't have anyone and I don't know why</td>\n",
       "      <td>4</td>\n",
       "      <td>14</td>\n",
       "      <td>2</td>\n",
       "      <td>2014</td>\n",
       "      <td>771</td>\n",
       "      <td>0</td>\n",
       "      <td>40</td>\n",
       "      <td>0</td>\n",
       "      <td>25</td>\n",
       "      <td>2</td>\n",
       "      <td>0.032425</td>\n",
       "      <td>0.050000</td>\n",
       "    </tr>\n",
       "    <tr>\n",
       "      <th>3</th>\n",
       "      <td>0</td>\n",
       "      <td>i burn myself..... i heat up a knife and hold ...</td>\n",
       "      <td>how often do you guys inflict self harm?</td>\n",
       "      <td>4</td>\n",
       "      <td>13</td>\n",
       "      <td>2</td>\n",
       "      <td>2014</td>\n",
       "      <td>337</td>\n",
       "      <td>1</td>\n",
       "      <td>40</td>\n",
       "      <td>1</td>\n",
       "      <td>19</td>\n",
       "      <td>1</td>\n",
       "      <td>0.056380</td>\n",
       "      <td>0.025000</td>\n",
       "    </tr>\n",
       "    <tr>\n",
       "      <th>4</th>\n",
       "      <td>0</td>\n",
       "      <td>I’m scared\\n        Of myself\\n       ...</td>\n",
       "      <td>All I do is hide</td>\n",
       "      <td>4</td>\n",
       "      <td>12</td>\n",
       "      <td>2</td>\n",
       "      <td>2014</td>\n",
       "      <td>671</td>\n",
       "      <td>0</td>\n",
       "      <td>16</td>\n",
       "      <td>0</td>\n",
       "      <td>0</td>\n",
       "      <td>0</td>\n",
       "      <td>0.000000</td>\n",
       "      <td>0.000000</td>\n",
       "    </tr>\n",
       "  </tbody>\n",
       "</table>\n",
       "</div>"
      ],
      "text/plain": [
       "   num_comments                                           selftext  \\\n",
       "0             0  I can't think straight, I can't concentrate, I...   \n",
       "1             0  There is this amazing girl that i've known sin...   \n",
       "2             1  I've been struggling with depression since hig...   \n",
       "3             0  i burn myself..... i heat up a knife and hold ...   \n",
       "4             0          I’m scared\\n        Of myself\\n       ...   \n",
       "\n",
       "                                               title  created_dayofweek  \\\n",
       "0         I feel like my brain doesn't work anymore.                  4   \n",
       "1  She's the girl i was always looking for... But...                  4   \n",
       "2           I don't have anyone and I don't know why                  4   \n",
       "3           how often do you guys inflict self harm?                  4   \n",
       "4                                   All I do is hide                  4   \n",
       "\n",
       "   created_hour  created_month  created_year  post_char_len  post_num_qs  \\\n",
       "0            14              2          2014            747            1   \n",
       "1            14              2          2014            789            5   \n",
       "2            14              2          2014            771            0   \n",
       "3            13              2          2014            337            1   \n",
       "4            12              2          2014            671            0   \n",
       "\n",
       "   title_char_len  title_num_qs  post_num_punc  title_num_punc  \\\n",
       "0              42             0             34               2   \n",
       "1              72             0             43               4   \n",
       "2              40             0             25               2   \n",
       "3              40             1             19               1   \n",
       "4              16             0              0               0   \n",
       "\n",
       "   post_perc_punc  title_perc_punc  \n",
       "0        0.045515         0.047619  \n",
       "1        0.054499         0.055556  \n",
       "2        0.032425         0.050000  \n",
       "3        0.056380         0.025000  \n",
       "4        0.000000         0.000000  "
      ]
     },
     "execution_count": 40,
     "metadata": {},
     "output_type": "execute_result"
    }
   ],
   "source": [
    "data_clean = PreProcessData(results)\n",
    "print('There are {} posts after processing.'.format(len(data_clean)))\n",
    "data_clean.head()"
   ]
  },
  {
   "cell_type": "markdown",
   "metadata": {
    "collapsed": true
   },
   "source": [
    "# NLP pre-processing\n",
    "\n",
    "Create the corpus from the text post.  Limit to 20,000 to make processing easier."
   ]
  },
  {
   "cell_type": "code",
   "execution_count": 239,
   "metadata": {},
   "outputs": [
    {
     "data": {
      "text/plain": [
       "Int64Index([    0,     1,     2,     3,     4,     5,     7,     8,     9,\n",
       "               10,\n",
       "            ...\n",
       "            21208, 21209, 21210, 21211, 21212, 21213, 21214, 21215, 21216,\n",
       "            21217],\n",
       "           dtype='int64', length=20000)"
      ]
     },
     "execution_count": 239,
     "metadata": {},
     "output_type": "execute_result"
    }
   ],
   "source": [
    "data_clean = data_clean[:20000]"
   ]
  },
  {
   "cell_type": "markdown",
   "metadata": {},
   "source": [
    "All processing in one function."
   ]
  },
  {
   "cell_type": "code",
   "execution_count": 42,
   "metadata": {
    "collapsed": true
   },
   "outputs": [],
   "source": [
    "from gensim import corpora, models, similarities\n",
    "\n",
    "def CreateCorpus(raw_text) :\n",
    "    \"\"\" Create a corpus from an array of documents (each document\n",
    "        a string).  It expects it as a python object, not a pandas\n",
    "        one.  Returns an array of tokenized texts and the corpus dictionary.\n",
    "    \"\"\"\n",
    "    from gensim import corpora, models, similarities\n",
    "    from nltk.tokenize import WordPunctTokenizer\n",
    "    import string\n",
    "    from nltk.stem.snowball import SnowballStemmer\n",
    "    from nltk.corpus import stopwords\n",
    "\n",
    "    stop_words = set(stopwords.words('english'))\n",
    "    punctuation = set(string.punctuation)\n",
    "    word_punct_tokenizer = WordPunctTokenizer()\n",
    "    stemmer = SnowballStemmer(\"english\", ignore_stopwords=True)\n",
    "    \n",
    "    texts_proc = []\n",
    "    for text in raw_text :\n",
    "        words = word_punct_tokenizer.tokenize(text)\n",
    "        words = [w for w in words if (w not in stop_words)]\n",
    "        texts_proc.append([stemmer.stem(w.lower()) for w in words \n",
    "                                if not all(c in punctuation for c in w)])\n",
    "        \n",
    "    # create dictionary\n",
    "    corpus_dictionary = corpora.Dictionary(texts_proc)\n",
    "    corpus_dictionary.filter_extremes(no_below=3, no_above=0.5)\n",
    "    print(corpus_dictionary)\n",
    "    \n",
    "    return texts_proc, corpus_dictionary"
   ]
  },
  {
   "cell_type": "code",
   "execution_count": 43,
   "metadata": {},
   "outputs": [
    {
     "name": "stdout",
     "output_type": "stream",
     "text": [
      "Dictionary(11384 unique tokens: ['think', 'straight', 'concentr', 'feel', 'like']...)\n"
     ]
    }
   ],
   "source": [
    "# takes ~5 minutes to run\n",
    "posts_raw = list(data_clean.selftext)\n",
    "titles_raw = list(data_clean.title)\n",
    "(all_tokenized, all_dictionary) = CreateCorpus(posts_raw + titles_raw)\n",
    "posts_tokenized = all_tokenized[:len(posts_raw)]\n",
    "titles_tokenized = all_tokenized[len(posts_raw):]"
   ]
  },
  {
   "cell_type": "markdown",
   "metadata": {},
   "source": [
    "Previously (with stop words, no stemming, and extra punctuation, and all 90k posts), dictionary had 80k terms.  With all that filtering, it now has 20k terms.  With only 20k posts, it has 11k terms."
   ]
  },
  {
   "cell_type": "code",
   "execution_count": 44,
   "metadata": {},
   "outputs": [],
   "source": [
    "posts_vec = [all_dictionary.doc2bow(post) for post in posts_tokenized]\n",
    "titles_vec = [all_dictionary.doc2bow(post) for post in titles_tokenized]"
   ]
  },
  {
   "cell_type": "markdown",
   "metadata": {},
   "source": [
    "Create a couple more features.  Note that the word tokenization here is pretty basic, just splitting on white space, and could definitely be improved."
   ]
  },
  {
   "cell_type": "code",
   "execution_count": 46,
   "metadata": {
    "collapsed": true
   },
   "outputs": [],
   "source": [
    "def AddWordFeatures(dataframe, posts_raw, posts_vec, titles_raw, titles_vec) :\n",
    "    \"\"\" Add some word related features to the dataframe.\n",
    "        Arguments: X_raw is the raw data without any process.  X_vec is the vectorized\n",
    "        version of that, which has stop words and punctuation removed.\n",
    "    \"\"\"\n",
    "    dataframe_new = dataframe.copy()\n",
    "    dataframe_new = dataframe_new.assign(post_word_len1 = [len(post.split()) for post in posts_raw] )\n",
    "    dataframe_new = dataframe_new.assign(post_word_len2 = [len(post) for post in posts_vec] )\n",
    "    \n",
    "    dataframe_new = dataframe_new.assign(title_word_len1 = [len(post.split()) for post in titles_raw] )\n",
    "    dataframe_new = dataframe_new.assign(title_word_len2 = [len(post) for post in titles_vec] )\n",
    "    return dataframe_new"
   ]
  },
  {
   "cell_type": "code",
   "execution_count": 49,
   "metadata": {},
   "outputs": [],
   "source": [
    "data_clean = AddWordFeatures(data_clean, posts_raw, posts_vec, titles_raw, titles_vec)"
   ]
  },
  {
   "cell_type": "code",
   "execution_count": 50,
   "metadata": {},
   "outputs": [
    {
     "data": {
      "text/html": [
       "<div>\n",
       "<style>\n",
       "    .dataframe thead tr:only-child th {\n",
       "        text-align: right;\n",
       "    }\n",
       "\n",
       "    .dataframe thead th {\n",
       "        text-align: left;\n",
       "    }\n",
       "\n",
       "    .dataframe tbody tr th {\n",
       "        vertical-align: top;\n",
       "    }\n",
       "</style>\n",
       "<table border=\"1\" class=\"dataframe\">\n",
       "  <thead>\n",
       "    <tr style=\"text-align: right;\">\n",
       "      <th></th>\n",
       "      <th>num_comments</th>\n",
       "      <th>selftext</th>\n",
       "      <th>title</th>\n",
       "      <th>created_dayofweek</th>\n",
       "      <th>created_hour</th>\n",
       "      <th>created_month</th>\n",
       "      <th>created_year</th>\n",
       "      <th>post_char_len</th>\n",
       "      <th>post_num_qs</th>\n",
       "      <th>title_char_len</th>\n",
       "      <th>title_num_qs</th>\n",
       "      <th>post_num_punc</th>\n",
       "      <th>title_num_punc</th>\n",
       "      <th>post_perc_punc</th>\n",
       "      <th>title_perc_punc</th>\n",
       "      <th>post_word_len1</th>\n",
       "      <th>post_word_len2</th>\n",
       "      <th>title_word_len1</th>\n",
       "      <th>title_word_len2</th>\n",
       "    </tr>\n",
       "  </thead>\n",
       "  <tbody>\n",
       "    <tr>\n",
       "      <th>0</th>\n",
       "      <td>0</td>\n",
       "      <td>I can't think straight, I can't concentrate, I...</td>\n",
       "      <td>I feel like my brain doesn't work anymore.</td>\n",
       "      <td>4</td>\n",
       "      <td>14</td>\n",
       "      <td>2</td>\n",
       "      <td>2014</td>\n",
       "      <td>747</td>\n",
       "      <td>1</td>\n",
       "      <td>42</td>\n",
       "      <td>0</td>\n",
       "      <td>34</td>\n",
       "      <td>2</td>\n",
       "      <td>0.045515</td>\n",
       "      <td>0.047619</td>\n",
       "      <td>143</td>\n",
       "      <td>50</td>\n",
       "      <td>8</td>\n",
       "      <td>5</td>\n",
       "    </tr>\n",
       "    <tr>\n",
       "      <th>1</th>\n",
       "      <td>0</td>\n",
       "      <td>There is this amazing girl that i've known sin...</td>\n",
       "      <td>She's the girl i was always looking for... But...</td>\n",
       "      <td>4</td>\n",
       "      <td>14</td>\n",
       "      <td>2</td>\n",
       "      <td>2014</td>\n",
       "      <td>789</td>\n",
       "      <td>5</td>\n",
       "      <td>72</td>\n",
       "      <td>0</td>\n",
       "      <td>43</td>\n",
       "      <td>4</td>\n",
       "      <td>0.054499</td>\n",
       "      <td>0.055556</td>\n",
       "      <td>162</td>\n",
       "      <td>63</td>\n",
       "      <td>15</td>\n",
       "      <td>7</td>\n",
       "    </tr>\n",
       "    <tr>\n",
       "      <th>2</th>\n",
       "      <td>1</td>\n",
       "      <td>I've been struggling with depression since hig...</td>\n",
       "      <td>I don't have anyone and I don't know why</td>\n",
       "      <td>4</td>\n",
       "      <td>14</td>\n",
       "      <td>2</td>\n",
       "      <td>2014</td>\n",
       "      <td>771</td>\n",
       "      <td>0</td>\n",
       "      <td>40</td>\n",
       "      <td>0</td>\n",
       "      <td>25</td>\n",
       "      <td>2</td>\n",
       "      <td>0.032425</td>\n",
       "      <td>0.050000</td>\n",
       "      <td>149</td>\n",
       "      <td>44</td>\n",
       "      <td>9</td>\n",
       "      <td>2</td>\n",
       "    </tr>\n",
       "    <tr>\n",
       "      <th>3</th>\n",
       "      <td>0</td>\n",
       "      <td>i burn myself..... i heat up a knife and hold ...</td>\n",
       "      <td>how often do you guys inflict self harm?</td>\n",
       "      <td>4</td>\n",
       "      <td>13</td>\n",
       "      <td>2</td>\n",
       "      <td>2014</td>\n",
       "      <td>337</td>\n",
       "      <td>1</td>\n",
       "      <td>40</td>\n",
       "      <td>1</td>\n",
       "      <td>19</td>\n",
       "      <td>1</td>\n",
       "      <td>0.056380</td>\n",
       "      <td>0.025000</td>\n",
       "      <td>65</td>\n",
       "      <td>27</td>\n",
       "      <td>8</td>\n",
       "      <td>5</td>\n",
       "    </tr>\n",
       "    <tr>\n",
       "      <th>4</th>\n",
       "      <td>0</td>\n",
       "      <td>I’m scared\\n        Of myself\\n       ...</td>\n",
       "      <td>All I do is hide</td>\n",
       "      <td>4</td>\n",
       "      <td>12</td>\n",
       "      <td>2</td>\n",
       "      <td>2014</td>\n",
       "      <td>671</td>\n",
       "      <td>0</td>\n",
       "      <td>16</td>\n",
       "      <td>0</td>\n",
       "      <td>0</td>\n",
       "      <td>0</td>\n",
       "      <td>0.000000</td>\n",
       "      <td>0.000000</td>\n",
       "      <td>103</td>\n",
       "      <td>25</td>\n",
       "      <td>5</td>\n",
       "      <td>2</td>\n",
       "    </tr>\n",
       "  </tbody>\n",
       "</table>\n",
       "</div>"
      ],
      "text/plain": [
       "   num_comments                                           selftext  \\\n",
       "0             0  I can't think straight, I can't concentrate, I...   \n",
       "1             0  There is this amazing girl that i've known sin...   \n",
       "2             1  I've been struggling with depression since hig...   \n",
       "3             0  i burn myself..... i heat up a knife and hold ...   \n",
       "4             0          I’m scared\\n        Of myself\\n       ...   \n",
       "\n",
       "                                               title  created_dayofweek  \\\n",
       "0         I feel like my brain doesn't work anymore.                  4   \n",
       "1  She's the girl i was always looking for... But...                  4   \n",
       "2           I don't have anyone and I don't know why                  4   \n",
       "3           how often do you guys inflict self harm?                  4   \n",
       "4                                   All I do is hide                  4   \n",
       "\n",
       "   created_hour  created_month  created_year  post_char_len  post_num_qs  \\\n",
       "0            14              2          2014            747            1   \n",
       "1            14              2          2014            789            5   \n",
       "2            14              2          2014            771            0   \n",
       "3            13              2          2014            337            1   \n",
       "4            12              2          2014            671            0   \n",
       "\n",
       "   title_char_len  title_num_qs  post_num_punc  title_num_punc  \\\n",
       "0              42             0             34               2   \n",
       "1              72             0             43               4   \n",
       "2              40             0             25               2   \n",
       "3              40             1             19               1   \n",
       "4              16             0              0               0   \n",
       "\n",
       "   post_perc_punc  title_perc_punc  post_word_len1  post_word_len2  \\\n",
       "0        0.045515         0.047619             143              50   \n",
       "1        0.054499         0.055556             162              63   \n",
       "2        0.032425         0.050000             149              44   \n",
       "3        0.056380         0.025000              65              27   \n",
       "4        0.000000         0.000000             103              25   \n",
       "\n",
       "   title_word_len1  title_word_len2  \n",
       "0                8                5  \n",
       "1               15                7  \n",
       "2                9                2  \n",
       "3                8                5  \n",
       "4                5                2  "
      ]
     },
     "execution_count": 50,
     "metadata": {},
     "output_type": "execute_result"
    }
   ],
   "source": [
    "data_clean.head()"
   ]
  },
  {
   "cell_type": "markdown",
   "metadata": {},
   "source": [
    "## Latent Semantic Analysis\n",
    "\n",
    "This is effectively PCA on the tfidf vectors to cluster them.  Use the Gensim implementation."
   ]
  },
  {
   "cell_type": "code",
   "execution_count": 53,
   "metadata": {},
   "outputs": [
    {
     "name": "stdout",
     "output_type": "stream",
     "text": [
      "Dictionary(11384 unique tokens: ['think', 'straight', 'concentr', 'feel', 'like']...)\n"
     ]
    }
   ],
   "source": [
    "from gensim.models import lsimodel\n",
    "num_lsi_topics = 100\n",
    "print(all_dictionary)"
   ]
  },
  {
   "cell_type": "code",
   "execution_count": 55,
   "metadata": {
    "collapsed": true
   },
   "outputs": [],
   "source": [
    "post_lsi = lsimodel.LsiModel(posts_vec, num_topics=num_lsi_topics, id2word=all_dictionary)\n",
    "title_lsi = lsimodel.LsiModel(titles_vec, num_topics=num_lsi_topics, id2word=all_dictionary)"
   ]
  },
  {
   "cell_type": "code",
   "execution_count": 221,
   "metadata": {
    "collapsed": true
   },
   "outputs": [],
   "source": [
    "def ComputeDocumentLSIs(documents, lsi, N, label_base = 'lsi') : \n",
    "    \" Compute the LSI representation of every document in the corpus\"\n",
    "    baseline = [0 for x in range(N)]\n",
    "    col_labels = ['{}_{}'.format(label_base, x) for x in range(N)]\n",
    "    new_features = pd.DataFrame([], columns=col_labels)\n",
    "    for (x, text) in enumerate(documents) :\n",
    "        if len(text) > 0:\n",
    "            lsi_temp = lsi[text]\n",
    "            if len(lsi_temp) == N :\n",
    "                temp = [y for (z,y) in lsi_temp]\n",
    "                new_features.loc[x] = temp\n",
    "            else :\n",
    "                #print(x, len(temp))\n",
    "                new_features.loc[x] = baseline\n",
    "        else :\n",
    "            new_features.loc[x] = baseline\n",
    "    return new_features"
   ]
  },
  {
   "cell_type": "markdown",
   "metadata": {},
   "source": [
    "The following has a funny issue: the title LSI features sometimes get returned as a vector with fewer dimensions than N.  For N=100, it goes as low as 93, primarily when the number of words, after stemming, is either 1 or 2."
   ]
  },
  {
   "cell_type": "code",
   "execution_count": 222,
   "metadata": {},
   "outputs": [
    {
     "name": "stdout",
     "output_type": "stream",
     "text": [
      "--- 81.038747549057 seconds ---\n"
     ]
    },
    {
     "data": {
      "text/html": [
       "<div>\n",
       "<style>\n",
       "    .dataframe thead tr:only-child th {\n",
       "        text-align: right;\n",
       "    }\n",
       "\n",
       "    .dataframe thead th {\n",
       "        text-align: left;\n",
       "    }\n",
       "\n",
       "    .dataframe tbody tr th {\n",
       "        vertical-align: top;\n",
       "    }\n",
       "</style>\n",
       "<table border=\"1\" class=\"dataframe\">\n",
       "  <thead>\n",
       "    <tr style=\"text-align: right;\">\n",
       "      <th></th>\n",
       "      <th>post_lsi_0</th>\n",
       "      <th>post_lsi_1</th>\n",
       "      <th>post_lsi_2</th>\n",
       "      <th>post_lsi_3</th>\n",
       "      <th>post_lsi_4</th>\n",
       "      <th>post_lsi_5</th>\n",
       "      <th>post_lsi_6</th>\n",
       "      <th>post_lsi_7</th>\n",
       "      <th>post_lsi_8</th>\n",
       "      <th>post_lsi_9</th>\n",
       "      <th>...</th>\n",
       "      <th>post_lsi_90</th>\n",
       "      <th>post_lsi_91</th>\n",
       "      <th>post_lsi_92</th>\n",
       "      <th>post_lsi_93</th>\n",
       "      <th>post_lsi_94</th>\n",
       "      <th>post_lsi_95</th>\n",
       "      <th>post_lsi_96</th>\n",
       "      <th>post_lsi_97</th>\n",
       "      <th>post_lsi_98</th>\n",
       "      <th>post_lsi_99</th>\n",
       "    </tr>\n",
       "  </thead>\n",
       "  <tbody>\n",
       "    <tr>\n",
       "      <th>0</th>\n",
       "      <td>3.828536</td>\n",
       "      <td>0.633567</td>\n",
       "      <td>-1.490526</td>\n",
       "      <td>0.309397</td>\n",
       "      <td>0.148669</td>\n",
       "      <td>-0.246799</td>\n",
       "      <td>-1.016607</td>\n",
       "      <td>-0.834773</td>\n",
       "      <td>-0.186845</td>\n",
       "      <td>-0.209967</td>\n",
       "      <td>...</td>\n",
       "      <td>0.226927</td>\n",
       "      <td>0.574702</td>\n",
       "      <td>0.387737</td>\n",
       "      <td>-1.072824</td>\n",
       "      <td>-0.096625</td>\n",
       "      <td>0.493620</td>\n",
       "      <td>-0.987974</td>\n",
       "      <td>0.330356</td>\n",
       "      <td>-0.070084</td>\n",
       "      <td>0.534049</td>\n",
       "    </tr>\n",
       "    <tr>\n",
       "      <th>1</th>\n",
       "      <td>4.362322</td>\n",
       "      <td>0.512692</td>\n",
       "      <td>-1.460036</td>\n",
       "      <td>-1.982631</td>\n",
       "      <td>0.871212</td>\n",
       "      <td>-0.916897</td>\n",
       "      <td>2.330993</td>\n",
       "      <td>-0.057221</td>\n",
       "      <td>-1.021560</td>\n",
       "      <td>-1.260017</td>\n",
       "      <td>...</td>\n",
       "      <td>-0.827410</td>\n",
       "      <td>0.323106</td>\n",
       "      <td>0.003248</td>\n",
       "      <td>0.552172</td>\n",
       "      <td>0.363975</td>\n",
       "      <td>0.020534</td>\n",
       "      <td>-0.016296</td>\n",
       "      <td>-0.122331</td>\n",
       "      <td>-0.772490</td>\n",
       "      <td>-0.571292</td>\n",
       "    </tr>\n",
       "    <tr>\n",
       "      <th>2</th>\n",
       "      <td>4.866837</td>\n",
       "      <td>0.810607</td>\n",
       "      <td>1.073454</td>\n",
       "      <td>0.588158</td>\n",
       "      <td>1.392050</td>\n",
       "      <td>-4.053803</td>\n",
       "      <td>0.384133</td>\n",
       "      <td>-0.495249</td>\n",
       "      <td>2.520379</td>\n",
       "      <td>3.844680</td>\n",
       "      <td>...</td>\n",
       "      <td>0.109633</td>\n",
       "      <td>-0.160761</td>\n",
       "      <td>-1.016772</td>\n",
       "      <td>0.555200</td>\n",
       "      <td>0.033806</td>\n",
       "      <td>0.267345</td>\n",
       "      <td>-0.236921</td>\n",
       "      <td>-0.445109</td>\n",
       "      <td>0.216186</td>\n",
       "      <td>0.523627</td>\n",
       "    </tr>\n",
       "    <tr>\n",
       "      <th>3</th>\n",
       "      <td>0.789656</td>\n",
       "      <td>0.135739</td>\n",
       "      <td>-0.020395</td>\n",
       "      <td>-0.042441</td>\n",
       "      <td>-0.303137</td>\n",
       "      <td>0.530142</td>\n",
       "      <td>0.244047</td>\n",
       "      <td>0.474679</td>\n",
       "      <td>0.432723</td>\n",
       "      <td>0.126136</td>\n",
       "      <td>...</td>\n",
       "      <td>-0.286686</td>\n",
       "      <td>-0.180194</td>\n",
       "      <td>0.101938</td>\n",
       "      <td>-0.197686</td>\n",
       "      <td>-0.159458</td>\n",
       "      <td>-0.025053</td>\n",
       "      <td>-0.161170</td>\n",
       "      <td>-0.280319</td>\n",
       "      <td>-0.036334</td>\n",
       "      <td>-0.131410</td>\n",
       "    </tr>\n",
       "    <tr>\n",
       "      <th>4</th>\n",
       "      <td>5.406624</td>\n",
       "      <td>-2.138297</td>\n",
       "      <td>-6.856583</td>\n",
       "      <td>-2.847832</td>\n",
       "      <td>-0.412536</td>\n",
       "      <td>-1.484465</td>\n",
       "      <td>3.382475</td>\n",
       "      <td>-0.734081</td>\n",
       "      <td>-5.109708</td>\n",
       "      <td>0.511395</td>\n",
       "      <td>...</td>\n",
       "      <td>0.414142</td>\n",
       "      <td>0.095096</td>\n",
       "      <td>-0.683781</td>\n",
       "      <td>-0.088795</td>\n",
       "      <td>0.174772</td>\n",
       "      <td>0.223542</td>\n",
       "      <td>0.404003</td>\n",
       "      <td>0.718277</td>\n",
       "      <td>0.053148</td>\n",
       "      <td>0.311652</td>\n",
       "    </tr>\n",
       "  </tbody>\n",
       "</table>\n",
       "<p>5 rows × 100 columns</p>\n",
       "</div>"
      ],
      "text/plain": [
       "   post_lsi_0  post_lsi_1  post_lsi_2  post_lsi_3  post_lsi_4  post_lsi_5  \\\n",
       "0    3.828536    0.633567   -1.490526    0.309397    0.148669   -0.246799   \n",
       "1    4.362322    0.512692   -1.460036   -1.982631    0.871212   -0.916897   \n",
       "2    4.866837    0.810607    1.073454    0.588158    1.392050   -4.053803   \n",
       "3    0.789656    0.135739   -0.020395   -0.042441   -0.303137    0.530142   \n",
       "4    5.406624   -2.138297   -6.856583   -2.847832   -0.412536   -1.484465   \n",
       "\n",
       "   post_lsi_6  post_lsi_7  post_lsi_8  post_lsi_9     ...       post_lsi_90  \\\n",
       "0   -1.016607   -0.834773   -0.186845   -0.209967     ...          0.226927   \n",
       "1    2.330993   -0.057221   -1.021560   -1.260017     ...         -0.827410   \n",
       "2    0.384133   -0.495249    2.520379    3.844680     ...          0.109633   \n",
       "3    0.244047    0.474679    0.432723    0.126136     ...         -0.286686   \n",
       "4    3.382475   -0.734081   -5.109708    0.511395     ...          0.414142   \n",
       "\n",
       "   post_lsi_91  post_lsi_92  post_lsi_93  post_lsi_94  post_lsi_95  \\\n",
       "0     0.574702     0.387737    -1.072824    -0.096625     0.493620   \n",
       "1     0.323106     0.003248     0.552172     0.363975     0.020534   \n",
       "2    -0.160761    -1.016772     0.555200     0.033806     0.267345   \n",
       "3    -0.180194     0.101938    -0.197686    -0.159458    -0.025053   \n",
       "4     0.095096    -0.683781    -0.088795     0.174772     0.223542   \n",
       "\n",
       "   post_lsi_96  post_lsi_97  post_lsi_98  post_lsi_99  \n",
       "0    -0.987974     0.330356    -0.070084     0.534049  \n",
       "1    -0.016296    -0.122331    -0.772490    -0.571292  \n",
       "2    -0.236921    -0.445109     0.216186     0.523627  \n",
       "3    -0.161170    -0.280319    -0.036334    -0.131410  \n",
       "4     0.404003     0.718277     0.053148     0.311652  \n",
       "\n",
       "[5 rows x 100 columns]"
      ]
     },
     "execution_count": 222,
     "metadata": {},
     "output_type": "execute_result"
    }
   ],
   "source": [
    "# this takes 85 s for 20k posts and 20 topics, 154 s for 20k and 100\n",
    "import time\n",
    "start_time = time.time()\n",
    "\n",
    "post_lsi_features = ComputeDocumentLSIs(posts_vec, post_lsi, num_lsi_topics, label_base = 'post_lsi')\n",
    "title_lsi_features = ComputeDocumentLSIs(titles_vec, title_lsi, num_lsi_topics, label_base = 'title_lsi')\n",
    "\n",
    "print(\"--- %s seconds ---\" % (time.time() - start_time))  \n",
    "post_lsi_features.head()"
   ]
  },
  {
   "cell_type": "markdown",
   "metadata": {},
   "source": [
    "Now create the new feature vector."
   ]
  },
  {
   "cell_type": "code",
   "execution_count": 242,
   "metadata": {
    "collapsed": true
   },
   "outputs": [],
   "source": [
    "def AddLSAFeatures(data_old, post_lsi_features, title_lsi_features) :\n",
    "    \"\"\" Add the LSA features to the dataframe, remove the title and post fields.\n",
    "        Need to reset index values so no rows are dropped.\n",
    "    \"\"\"\n",
    "    data_new = data_old.copy()\n",
    "    post_lsi_features = post_lsi_features.set_index(data_new.index)\n",
    "    title_lsi_features = title_lsi_features.set_index(data_new.index)\n",
    "    data_new = data_new.join(post_lsi_features)\n",
    "    data_new = data_new.join(title_lsi_features)\n",
    "    data_new = data_new.drop(['selftext', 'title'], axis=1)\n",
    "    \n",
    "    return data_new"
   ]
  },
  {
   "cell_type": "code",
   "execution_count": 243,
   "metadata": {},
   "outputs": [
    {
     "name": "stdout",
     "output_type": "stream",
     "text": [
      "(20000, 217) (20000, 100)\n"
     ]
    },
    {
     "data": {
      "text/html": [
       "<div>\n",
       "<style>\n",
       "    .dataframe thead tr:only-child th {\n",
       "        text-align: right;\n",
       "    }\n",
       "\n",
       "    .dataframe thead th {\n",
       "        text-align: left;\n",
       "    }\n",
       "\n",
       "    .dataframe tbody tr th {\n",
       "        vertical-align: top;\n",
       "    }\n",
       "</style>\n",
       "<table border=\"1\" class=\"dataframe\">\n",
       "  <thead>\n",
       "    <tr style=\"text-align: right;\">\n",
       "      <th></th>\n",
       "      <th>num_comments</th>\n",
       "      <th>created_dayofweek</th>\n",
       "      <th>created_hour</th>\n",
       "      <th>created_month</th>\n",
       "      <th>created_year</th>\n",
       "      <th>post_char_len</th>\n",
       "      <th>post_num_qs</th>\n",
       "      <th>title_char_len</th>\n",
       "      <th>title_num_qs</th>\n",
       "      <th>post_num_punc</th>\n",
       "      <th>...</th>\n",
       "      <th>title_lsi_90</th>\n",
       "      <th>title_lsi_91</th>\n",
       "      <th>title_lsi_92</th>\n",
       "      <th>title_lsi_93</th>\n",
       "      <th>title_lsi_94</th>\n",
       "      <th>title_lsi_95</th>\n",
       "      <th>title_lsi_96</th>\n",
       "      <th>title_lsi_97</th>\n",
       "      <th>title_lsi_98</th>\n",
       "      <th>title_lsi_99</th>\n",
       "    </tr>\n",
       "  </thead>\n",
       "  <tbody>\n",
       "    <tr>\n",
       "      <th>0</th>\n",
       "      <td>0</td>\n",
       "      <td>4</td>\n",
       "      <td>14</td>\n",
       "      <td>2</td>\n",
       "      <td>2014</td>\n",
       "      <td>747</td>\n",
       "      <td>1</td>\n",
       "      <td>42</td>\n",
       "      <td>0</td>\n",
       "      <td>34</td>\n",
       "      <td>...</td>\n",
       "      <td>-0.116498</td>\n",
       "      <td>-0.095092</td>\n",
       "      <td>-0.081540</td>\n",
       "      <td>0.104373</td>\n",
       "      <td>-0.003097</td>\n",
       "      <td>-0.080213</td>\n",
       "      <td>0.059581</td>\n",
       "      <td>-0.061159</td>\n",
       "      <td>0.010931</td>\n",
       "      <td>-0.080847</td>\n",
       "    </tr>\n",
       "    <tr>\n",
       "      <th>1</th>\n",
       "      <td>0</td>\n",
       "      <td>4</td>\n",
       "      <td>14</td>\n",
       "      <td>2</td>\n",
       "      <td>2014</td>\n",
       "      <td>789</td>\n",
       "      <td>5</td>\n",
       "      <td>72</td>\n",
       "      <td>0</td>\n",
       "      <td>43</td>\n",
       "      <td>...</td>\n",
       "      <td>-0.028816</td>\n",
       "      <td>0.072875</td>\n",
       "      <td>0.049781</td>\n",
       "      <td>0.162898</td>\n",
       "      <td>0.201626</td>\n",
       "      <td>0.041754</td>\n",
       "      <td>0.059803</td>\n",
       "      <td>-0.104414</td>\n",
       "      <td>0.079218</td>\n",
       "      <td>-0.058239</td>\n",
       "    </tr>\n",
       "    <tr>\n",
       "      <th>2</th>\n",
       "      <td>1</td>\n",
       "      <td>4</td>\n",
       "      <td>14</td>\n",
       "      <td>2</td>\n",
       "      <td>2014</td>\n",
       "      <td>771</td>\n",
       "      <td>0</td>\n",
       "      <td>40</td>\n",
       "      <td>0</td>\n",
       "      <td>25</td>\n",
       "      <td>...</td>\n",
       "      <td>0.022695</td>\n",
       "      <td>-0.008500</td>\n",
       "      <td>0.007467</td>\n",
       "      <td>-0.003130</td>\n",
       "      <td>-0.058134</td>\n",
       "      <td>0.004793</td>\n",
       "      <td>-0.033829</td>\n",
       "      <td>-0.009283</td>\n",
       "      <td>-0.013911</td>\n",
       "      <td>0.001754</td>\n",
       "    </tr>\n",
       "    <tr>\n",
       "      <th>3</th>\n",
       "      <td>0</td>\n",
       "      <td>4</td>\n",
       "      <td>13</td>\n",
       "      <td>2</td>\n",
       "      <td>2014</td>\n",
       "      <td>337</td>\n",
       "      <td>1</td>\n",
       "      <td>40</td>\n",
       "      <td>1</td>\n",
       "      <td>19</td>\n",
       "      <td>...</td>\n",
       "      <td>-0.066376</td>\n",
       "      <td>-0.349864</td>\n",
       "      <td>0.039773</td>\n",
       "      <td>-0.034748</td>\n",
       "      <td>-0.173236</td>\n",
       "      <td>-0.161002</td>\n",
       "      <td>0.124001</td>\n",
       "      <td>0.005649</td>\n",
       "      <td>-0.052677</td>\n",
       "      <td>-0.100002</td>\n",
       "    </tr>\n",
       "    <tr>\n",
       "      <th>4</th>\n",
       "      <td>0</td>\n",
       "      <td>4</td>\n",
       "      <td>12</td>\n",
       "      <td>2</td>\n",
       "      <td>2014</td>\n",
       "      <td>671</td>\n",
       "      <td>0</td>\n",
       "      <td>16</td>\n",
       "      <td>0</td>\n",
       "      <td>0</td>\n",
       "      <td>...</td>\n",
       "      <td>0.004772</td>\n",
       "      <td>0.010931</td>\n",
       "      <td>0.007441</td>\n",
       "      <td>-0.000831</td>\n",
       "      <td>0.008094</td>\n",
       "      <td>-0.004701</td>\n",
       "      <td>0.003350</td>\n",
       "      <td>-0.019895</td>\n",
       "      <td>-0.005237</td>\n",
       "      <td>-0.000790</td>\n",
       "    </tr>\n",
       "  </tbody>\n",
       "</table>\n",
       "<p>5 rows × 217 columns</p>\n",
       "</div>"
      ],
      "text/plain": [
       "   num_comments  created_dayofweek  created_hour  created_month  created_year  \\\n",
       "0             0                  4            14              2          2014   \n",
       "1             0                  4            14              2          2014   \n",
       "2             1                  4            14              2          2014   \n",
       "3             0                  4            13              2          2014   \n",
       "4             0                  4            12              2          2014   \n",
       "\n",
       "   post_char_len  post_num_qs  title_char_len  title_num_qs  post_num_punc  \\\n",
       "0            747            1              42             0             34   \n",
       "1            789            5              72             0             43   \n",
       "2            771            0              40             0             25   \n",
       "3            337            1              40             1             19   \n",
       "4            671            0              16             0              0   \n",
       "\n",
       "       ...       title_lsi_90  title_lsi_91  title_lsi_92  title_lsi_93  \\\n",
       "0      ...          -0.116498     -0.095092     -0.081540      0.104373   \n",
       "1      ...          -0.028816      0.072875      0.049781      0.162898   \n",
       "2      ...           0.022695     -0.008500      0.007467     -0.003130   \n",
       "3      ...          -0.066376     -0.349864      0.039773     -0.034748   \n",
       "4      ...           0.004772      0.010931      0.007441     -0.000831   \n",
       "\n",
       "   title_lsi_94  title_lsi_95  title_lsi_96  title_lsi_97  title_lsi_98  \\\n",
       "0     -0.003097     -0.080213      0.059581     -0.061159      0.010931   \n",
       "1      0.201626      0.041754      0.059803     -0.104414      0.079218   \n",
       "2     -0.058134      0.004793     -0.033829     -0.009283     -0.013911   \n",
       "3     -0.173236     -0.161002      0.124001      0.005649     -0.052677   \n",
       "4      0.008094     -0.004701      0.003350     -0.019895     -0.005237   \n",
       "\n",
       "   title_lsi_99  \n",
       "0     -0.080847  \n",
       "1     -0.058239  \n",
       "2      0.001754  \n",
       "3     -0.100002  \n",
       "4     -0.000790  \n",
       "\n",
       "[5 rows x 217 columns]"
      ]
     },
     "execution_count": 243,
     "metadata": {},
     "output_type": "execute_result"
    }
   ],
   "source": [
    "data_clean2 = AddLSAFeatures(data_clean, post_lsi_features, title_lsi_features)\n",
    "print(data_clean2.shape, post_lsi_features.shape)\n",
    "data_clean2.head()"
   ]
  },
  {
   "cell_type": "markdown",
   "metadata": {},
   "source": [
    "# Classification Model"
   ]
  },
  {
   "cell_type": "code",
   "execution_count": 561,
   "metadata": {},
   "outputs": [
    {
     "data": {
      "image/png": "[encoded data removed]",
      "text/plain": [
       "<matplotlib.figure.Figure at 0x7fa683f9c2e8>"
      ]
     },
     "metadata": {},
     "output_type": "display_data"
    }
   ],
   "source": [
    "data_clean2.num_comments.hist(bins=311)\n",
    "plt.yscale('log')\n",
    "plt.xscale('log')"
   ]
  },
  {
   "cell_type": "code",
   "execution_count": 574,
   "metadata": {},
   "outputs": [
    {
     "ename": "AttributeError",
     "evalue": "module 'matplotlib.pyplot' has no attribute 'xticklabel'",
     "output_type": "error",
     "traceback": [
      "\u001b[0;31m---------------------------------------------------------------------------\u001b[0m",
      "\u001b[0;31mAttributeError\u001b[0m                            Traceback (most recent call last)",
      "\u001b[0;32m<ipython-input-574-8729d52622ad>\u001b[0m in \u001b[0;36m<module>\u001b[0;34m()\u001b[0m\n\u001b[1;32m      7\u001b[0m \u001b[0mplt\u001b[0m\u001b[0;34m.\u001b[0m\u001b[0mxscale\u001b[0m\u001b[0;34m(\u001b[0m\u001b[0;34m'log'\u001b[0m\u001b[0;34m)\u001b[0m\u001b[0;34m\u001b[0m\u001b[0m\n\u001b[1;32m      8\u001b[0m \u001b[0mplt\u001b[0m\u001b[0;34m.\u001b[0m\u001b[0mxlim\u001b[0m\u001b[0;34m(\u001b[0m\u001b[0;34m[\u001b[0m\u001b[0;36m0.5\u001b[0m\u001b[0;34m,\u001b[0m \u001b[0;36m8\u001b[0m\u001b[0;34m]\u001b[0m\u001b[0;34m)\u001b[0m\u001b[0;34m\u001b[0m\u001b[0m\n\u001b[0;32m----> 9\u001b[0;31m \u001b[0mplt\u001b[0m\u001b[0;34m.\u001b[0m\u001b[0mxticklabel\u001b[0m\u001b[0;34m(\u001b[0m\u001b[0;34m[\u001b[0m\u001b[0;34m'0'\u001b[0m\u001b[0;34m,\u001b[0m \u001b[0;34m'1'\u001b[0m\u001b[0;34m,\u001b[0m \u001b[0;34m'2-3'\u001b[0m\u001b[0;34m,\u001b[0m \u001b[0;34m'4+'\u001b[0m\u001b[0;34m]\u001b[0m\u001b[0;34m)\u001b[0m\u001b[0;34m\u001b[0m\u001b[0m\n\u001b[0m",
      "\u001b[0;31mAttributeError\u001b[0m: module 'matplotlib.pyplot' has no attribute 'xticklabel'"
     ]
    },
    {
     "data": {
      "image/png": "[encoded data removed]",
      "text/plain": [
       "<matplotlib.figure.Figure at 0x7fa62788f668>"
      ]
     },
     "metadata": {},
     "output_type": "display_data"
    }
   ],
   "source": [
    "comment_bins = [0, 1, 2, 4, 400]\n",
    "#comment_bins = [-1, 0.5, 1.5, 3.5, 400]\n",
    "plt.hist(data_clean2.num_comments, bins=comment_bins)\n",
    "plt.xlim([0, 20])\n",
    "plt.xlabel('Number of Comments in Bin')\n",
    "plt.ylabel('Count')\n",
    "plt.xscale('log')\n",
    "plt.xlim([0.5, 8])\n",
    "plt.xticklabel(['0', '1', '2-3', '4+'])"
   ]
  },
  {
   "cell_type": "code",
   "execution_count": 171,
   "metadata": {
    "collapsed": true
   },
   "outputs": [],
   "source": [
    "def BinNumComments(df, bins) :\n",
    "    \"\"\" Bin the number of comments into the specified number of bins\n",
    "    \"\"\"\n",
    "    import pandas as pd\n",
    "    df_new = df.copy()\n",
    "    categorized = pd.cut(df_new.num_comments, bins=bins, labels = False, include_lowest = True)\n",
    "    df_new = df_new.assign(comment_category=categorized)\n",
    "       \n",
    "    return df_new.drop('num_comments', axis=1)"
   ]
  },
  {
   "cell_type": "code",
   "execution_count": 245,
   "metadata": {},
   "outputs": [
    {
     "data": {
      "text/html": [
       "<div>\n",
       "<style>\n",
       "    .dataframe thead tr:only-child th {\n",
       "        text-align: right;\n",
       "    }\n",
       "\n",
       "    .dataframe thead th {\n",
       "        text-align: left;\n",
       "    }\n",
       "\n",
       "    .dataframe tbody tr th {\n",
       "        vertical-align: top;\n",
       "    }\n",
       "</style>\n",
       "<table border=\"1\" class=\"dataframe\">\n",
       "  <thead>\n",
       "    <tr style=\"text-align: right;\">\n",
       "      <th></th>\n",
       "      <th>created_dayofweek</th>\n",
       "      <th>created_hour</th>\n",
       "      <th>created_month</th>\n",
       "      <th>created_year</th>\n",
       "      <th>post_char_len</th>\n",
       "      <th>post_num_qs</th>\n",
       "      <th>title_char_len</th>\n",
       "      <th>title_num_qs</th>\n",
       "      <th>post_num_punc</th>\n",
       "      <th>title_num_punc</th>\n",
       "      <th>...</th>\n",
       "      <th>title_lsi_91</th>\n",
       "      <th>title_lsi_92</th>\n",
       "      <th>title_lsi_93</th>\n",
       "      <th>title_lsi_94</th>\n",
       "      <th>title_lsi_95</th>\n",
       "      <th>title_lsi_96</th>\n",
       "      <th>title_lsi_97</th>\n",
       "      <th>title_lsi_98</th>\n",
       "      <th>title_lsi_99</th>\n",
       "      <th>comment_category</th>\n",
       "    </tr>\n",
       "  </thead>\n",
       "  <tbody>\n",
       "    <tr>\n",
       "      <th>0</th>\n",
       "      <td>4</td>\n",
       "      <td>14</td>\n",
       "      <td>2</td>\n",
       "      <td>2014</td>\n",
       "      <td>747</td>\n",
       "      <td>1</td>\n",
       "      <td>42</td>\n",
       "      <td>0</td>\n",
       "      <td>34</td>\n",
       "      <td>2</td>\n",
       "      <td>...</td>\n",
       "      <td>-0.095092</td>\n",
       "      <td>-0.081540</td>\n",
       "      <td>0.104373</td>\n",
       "      <td>-0.003097</td>\n",
       "      <td>-0.080213</td>\n",
       "      <td>0.059581</td>\n",
       "      <td>-0.061159</td>\n",
       "      <td>0.010931</td>\n",
       "      <td>-0.080847</td>\n",
       "      <td>0</td>\n",
       "    </tr>\n",
       "    <tr>\n",
       "      <th>1</th>\n",
       "      <td>4</td>\n",
       "      <td>14</td>\n",
       "      <td>2</td>\n",
       "      <td>2014</td>\n",
       "      <td>789</td>\n",
       "      <td>5</td>\n",
       "      <td>72</td>\n",
       "      <td>0</td>\n",
       "      <td>43</td>\n",
       "      <td>4</td>\n",
       "      <td>...</td>\n",
       "      <td>0.072875</td>\n",
       "      <td>0.049781</td>\n",
       "      <td>0.162898</td>\n",
       "      <td>0.201626</td>\n",
       "      <td>0.041754</td>\n",
       "      <td>0.059803</td>\n",
       "      <td>-0.104414</td>\n",
       "      <td>0.079218</td>\n",
       "      <td>-0.058239</td>\n",
       "      <td>0</td>\n",
       "    </tr>\n",
       "    <tr>\n",
       "      <th>2</th>\n",
       "      <td>4</td>\n",
       "      <td>14</td>\n",
       "      <td>2</td>\n",
       "      <td>2014</td>\n",
       "      <td>771</td>\n",
       "      <td>0</td>\n",
       "      <td>40</td>\n",
       "      <td>0</td>\n",
       "      <td>25</td>\n",
       "      <td>2</td>\n",
       "      <td>...</td>\n",
       "      <td>-0.008500</td>\n",
       "      <td>0.007467</td>\n",
       "      <td>-0.003130</td>\n",
       "      <td>-0.058134</td>\n",
       "      <td>0.004793</td>\n",
       "      <td>-0.033829</td>\n",
       "      <td>-0.009283</td>\n",
       "      <td>-0.013911</td>\n",
       "      <td>0.001754</td>\n",
       "      <td>0</td>\n",
       "    </tr>\n",
       "    <tr>\n",
       "      <th>3</th>\n",
       "      <td>4</td>\n",
       "      <td>13</td>\n",
       "      <td>2</td>\n",
       "      <td>2014</td>\n",
       "      <td>337</td>\n",
       "      <td>1</td>\n",
       "      <td>40</td>\n",
       "      <td>1</td>\n",
       "      <td>19</td>\n",
       "      <td>1</td>\n",
       "      <td>...</td>\n",
       "      <td>-0.349864</td>\n",
       "      <td>0.039773</td>\n",
       "      <td>-0.034748</td>\n",
       "      <td>-0.173236</td>\n",
       "      <td>-0.161002</td>\n",
       "      <td>0.124001</td>\n",
       "      <td>0.005649</td>\n",
       "      <td>-0.052677</td>\n",
       "      <td>-0.100002</td>\n",
       "      <td>0</td>\n",
       "    </tr>\n",
       "    <tr>\n",
       "      <th>4</th>\n",
       "      <td>4</td>\n",
       "      <td>12</td>\n",
       "      <td>2</td>\n",
       "      <td>2014</td>\n",
       "      <td>671</td>\n",
       "      <td>0</td>\n",
       "      <td>16</td>\n",
       "      <td>0</td>\n",
       "      <td>0</td>\n",
       "      <td>0</td>\n",
       "      <td>...</td>\n",
       "      <td>0.010931</td>\n",
       "      <td>0.007441</td>\n",
       "      <td>-0.000831</td>\n",
       "      <td>0.008094</td>\n",
       "      <td>-0.004701</td>\n",
       "      <td>0.003350</td>\n",
       "      <td>-0.019895</td>\n",
       "      <td>-0.005237</td>\n",
       "      <td>-0.000790</td>\n",
       "      <td>0</td>\n",
       "    </tr>\n",
       "  </tbody>\n",
       "</table>\n",
       "<p>5 rows × 217 columns</p>\n",
       "</div>"
      ],
      "text/plain": [
       "   created_dayofweek  created_hour  created_month  created_year  \\\n",
       "0                  4            14              2          2014   \n",
       "1                  4            14              2          2014   \n",
       "2                  4            14              2          2014   \n",
       "3                  4            13              2          2014   \n",
       "4                  4            12              2          2014   \n",
       "\n",
       "   post_char_len  post_num_qs  title_char_len  title_num_qs  post_num_punc  \\\n",
       "0            747            1              42             0             34   \n",
       "1            789            5              72             0             43   \n",
       "2            771            0              40             0             25   \n",
       "3            337            1              40             1             19   \n",
       "4            671            0              16             0              0   \n",
       "\n",
       "   title_num_punc        ...         title_lsi_91  title_lsi_92  title_lsi_93  \\\n",
       "0               2        ...            -0.095092     -0.081540      0.104373   \n",
       "1               4        ...             0.072875      0.049781      0.162898   \n",
       "2               2        ...            -0.008500      0.007467     -0.003130   \n",
       "3               1        ...            -0.349864      0.039773     -0.034748   \n",
       "4               0        ...             0.010931      0.007441     -0.000831   \n",
       "\n",
       "   title_lsi_94  title_lsi_95  title_lsi_96  title_lsi_97  title_lsi_98  \\\n",
       "0     -0.003097     -0.080213      0.059581     -0.061159      0.010931   \n",
       "1      0.201626      0.041754      0.059803     -0.104414      0.079218   \n",
       "2     -0.058134      0.004793     -0.033829     -0.009283     -0.013911   \n",
       "3     -0.173236     -0.161002      0.124001      0.005649     -0.052677   \n",
       "4      0.008094     -0.004701      0.003350     -0.019895     -0.005237   \n",
       "\n",
       "   title_lsi_99  comment_category  \n",
       "0     -0.080847                 0  \n",
       "1     -0.058239                 0  \n",
       "2      0.001754                 0  \n",
       "3     -0.100002                 0  \n",
       "4     -0.000790                 0  \n",
       "\n",
       "[5 rows x 217 columns]"
      ]
     },
     "execution_count": 245,
     "metadata": {},
     "output_type": "execute_result"
    }
   ],
   "source": [
    "data_binned = BinNumComments(data_clean2, comment_bins)\n",
    "data_binned.head()"
   ]
  },
  {
   "cell_type": "markdown",
   "metadata": {},
   "source": [
    "## Train Model"
   ]
  },
  {
   "cell_type": "code",
   "execution_count": 270,
   "metadata": {},
   "outputs": [],
   "source": [
    "from sklearn import ensemble, linear_model\n",
    "\n",
    "class BuildClassificationModel() :\n",
    "    \n",
    "    def __init__(self, data_x, data_y, model_type = 'randomforest', test_frac = 0.2) :\n",
    "        from sklearn import ensemble, linear_model\n",
    "        from sklearn.model_selection import train_test_split\n",
    "        from sklearn.svm import SVC\n",
    "        \n",
    "        (self.train_x, self.test_x, self.train_y, self.test_y) = train_test_split(\n",
    "                    data_x, data_y, test_size = test_frac)\n",
    "                \n",
    "        if model_type == 'randomforest' :\n",
    "            self.model = ensemble.RandomForestClassifier()\n",
    "        elif model_type == 'gradientboostingclassifier' :\n",
    "            self.model = ensemble.GradientBoostingClassifier()\n",
    "        elif model_type == 'logisticregression' :\n",
    "            self.model = linear_model.LogisticRegression()\n",
    "        elif model_type == 'svc' :\n",
    "            self.model = SVC(kernel='rbf', C=1e3, gamma=0.1)\n",
    "        else :\n",
    "            print('Model type \"{}\" is not defined'.format(model_type))\n",
    "            return\n",
    "\n",
    "        print('{} on {} features.  Training on {} rows, validating on {}.'.format(model_type, self.train_x.shape[1], self.train_x.shape[0], self.test_x.shape[0]))\n",
    "        self.model.fit(self.train_x, self.train_y)\n",
    "        return\n",
    "    \n",
    "    def predict(self) :\n",
    "        print('Accuracy: %.3f' % self.model.score(self.test_x, self.test_y))            \n",
    "\n",
    "        \n",
    "def TestClassificationModels(train_x, train_y, models_to_test, log_flag = False) :\n",
    "    \"Train model on the models supplied in models_to_test\"\n",
    "    models = []\n",
    "    for model in models_to_test :\n",
    "        model_temp = BuildClassificationModel(train_x, train_y, model_type = model)\n",
    "        model_temp.predict()\n",
    "        models.append(model_temp)\n",
    "        print()\n",
    "    return models"
   ]
  },
  {
   "cell_type": "code",
   "execution_count": 272,
   "metadata": {
    "scrolled": false
   },
   "outputs": [
    {
     "name": "stdout",
     "output_type": "stream",
     "text": [
      "randomforest on 216 features.  Training on 16000 rows, validating on 4000.\n",
      "\n",
      "randomforest\n",
      "Accuracy: 0.353\n",
      "gradientboostingclassifier on 216 features.  Training on 16000 rows, validating on 4000.\n",
      "\n",
      "gradientboostingclassifier\n",
      "Accuracy: 0.429\n",
      "logisticregression on 216 features.  Training on 16000 rows, validating on 4000.\n",
      "\n",
      "logisticregression\n",
      "Accuracy: 0.426\n",
      "svc on 216 features.  Training on 16000 rows, validating on 4000.\n",
      "\n",
      "svc\n",
      "Accuracy: 0.412\n"
     ]
    }
   ],
   "source": [
    "models_to_test = ['randomforest', 'gradientboostingclassifier', 'logisticregression', 'svc']\n",
    "train_x = data_binned.drop('comment_category', axis=1)\n",
    "train_y = data_binned.comment_category\n",
    "\n",
    "models = TestClassificationModels(train_x, train_y, models_to_test)"
   ]
  },
  {
   "cell_type": "markdown",
   "metadata": {},
   "source": [
    "# Create pipeline for webapp"
   ]
  },
  {
   "cell_type": "code",
   "execution_count": 274,
   "metadata": {},
   "outputs": [
    {
     "name": "stdout",
     "output_type": "stream",
     "text": [
      "logisticregression on 216 features.  Training on 16000 rows, validating on 4000.\n",
      "Accuracy: 0.430\n"
     ]
    }
   ],
   "source": [
    "model_binned_1_logreg = BuildClassificationModel(train_x, train_y, 'logisticregression')\n",
    "model_binned_1_logreg.predict()"
   ]
  },
  {
   "cell_type": "code",
   "execution_count": null,
   "metadata": {
    "collapsed": true
   },
   "outputs": [],
   "source": [
    "model_binned_1_logreg."
   ]
  },
  {
   "cell_type": "code",
   "execution_count": 580,
   "metadata": {},
   "outputs": [],
   "source": [
    "from sklearn.metrics import confusion_matrix\n",
    "cnf_matrix = confusion_matrix(model_binned_1_logreg.test_y, \n",
    "         model_binned_1_logreg.model.predict(model_binned_1_logreg.test_x))"
   ]
  },
  {
   "cell_type": "code",
   "execution_count": 582,
   "metadata": {
    "collapsed": true
   },
   "outputs": [],
   "source": [
    "def plot_confusion_matrix(cm, classes,\n",
    "                          normalize=False,\n",
    "                          title='Confusion matrix',\n",
    "                          cmap=plt.cm.Blues):\n",
    "    \"\"\"\n",
    "    This function prints and plots the confusion matrix.\n",
    "    Normalization can be applied by setting `normalize=True`.\n",
    "    \"\"\"\n",
    "    import itertools\n",
    "    import numpy as np\n",
    "    import matplotlib.pyplot as plt\n",
    "    \n",
    "    if normalize:\n",
    "        cm = cm.astype('float') / cm.sum(axis=1)[:, np.newaxis]\n",
    "        print(\"Normalized confusion matrix\")\n",
    "    else:\n",
    "        print('Confusion matrix, without normalization')\n",
    "\n",
    "    print(cm)\n",
    "\n",
    "    plt.imshow(cm, interpolation='nearest', cmap=cmap)\n",
    "    plt.title(title)\n",
    "    plt.colorbar()\n",
    "    tick_marks = np.arange(len(classes))\n",
    "    plt.xticks(tick_marks, classes, rotation=45)\n",
    "    plt.yticks(tick_marks, classes)\n",
    "\n",
    "    fmt = '.2f' if normalize else 'd'\n",
    "    thresh = cm.max() / 2.\n",
    "    for i, j in itertools.product(range(cm.shape[0]), range(cm.shape[1])):\n",
    "        plt.text(j, i, format(cm[i, j], fmt),\n",
    "                 horizontalalignment=\"center\",\n",
    "                 color=\"white\" if cm[i, j] > thresh else \"black\")\n",
    "\n",
    "    plt.tight_layout()\n",
    "    plt.ylabel('True label')\n",
    "    plt.xlabel('Predicted label')"
   ]
  },
  {
   "cell_type": "code",
   "execution_count": 586,
   "metadata": {},
   "outputs": [
    {
     "name": "stdout",
     "output_type": "stream",
     "text": [
      "Normalized confusion matrix\n",
      "[[ 0.87798896  0.00245248  0.00429185  0.11526671]\n",
      " [ 0.7983871   0.0016129   0.00322581  0.19677419]\n",
      " [ 0.79694019  0.          0.00278164  0.20027816]\n",
      " [ 0.71650485  0.          0.00485437  0.27864078]]\n"
     ]
    },
    {
     "data": {
      "image/png": "[encoded data removed]",
      "text/plain": [
       "<matplotlib.figure.Figure at 0x7fa628be45f8>"
      ]
     },
     "metadata": {},
     "output_type": "display_data"
    }
   ],
   "source": [
    "plt.figure()\n",
    "plot_confusion_matrix(cnf_matrix, classes=['0', '1', '2-3', '4+'], normalize=True)"
   ]
  },
  {
   "cell_type": "code",
   "execution_count": 275,
   "metadata": {
    "collapsed": true
   },
   "outputs": [],
   "source": [
    "import pickle\n",
    "pickle.dump(model_binned_1_logreg, open('Model_binned_1_logreg_class.p', 'wb'))\n",
    "pickle.dump(model_binned_1_logreg.model, open('Model_binned_1_logreg_model.p', 'wb'))"
   ]
  },
  {
   "cell_type": "code",
   "execution_count": 276,
   "metadata": {
    "collapsed": true
   },
   "outputs": [],
   "source": [
    "class ProcessingVariables() :\n",
    "    \"Class to easily store all variables needed for processing\"\n",
    "    def __init__(self, num_lsi_topics, post_lsi, title_lsi, dictionary, comment_bins) :\n",
    "        self.num_lsi_topics = num_lsi_topics\n",
    "        self.post_lsi = post_lsi\n",
    "        self.title_lsi = title_lsi\n",
    "        self.comment_bins = comment_bins\n",
    "        self.dictionary = dictionary\n",
    "\n",
    "\n",
    "    def extract_all(self) :\n",
    "        return (self.num_lsi_topics, self.post_lsi, \n",
    "                self.title_lsi, self.dictionary, self.comment_bins)"
   ]
  },
  {
   "cell_type": "code",
   "execution_count": 287,
   "metadata": {},
   "outputs": [],
   "source": [
    "model_binned_1_processing = ProcessingVariables(num_lsi_topics, \n",
    "            post_lsi, title_lsi, all_dictionary, comment_bins)\n",
    "pickle.dump(model_binned_1_processing, open('Model_binned_1_processing', 'wb'))"
   ]
  },
  {
   "cell_type": "code",
   "execution_count": 288,
   "metadata": {},
   "outputs": [
    {
     "name": "stdout",
     "output_type": "stream",
     "text": [
      "<class 'int'>\n",
      "<class 'gensim.models.lsimodel.LsiModel'>\n",
      "<class 'gensim.models.lsimodel.LsiModel'>\n",
      "<class 'gensim.corpora.dictionary.Dictionary'>\n",
      "<class 'list'>\n"
     ]
    }
   ],
   "source": [
    "test = pickle.load(open('Model_binned_1_processing', 'rb'))\n",
    "(a, b, c, d, e) = test.extract_all()\n",
    "for t in (a, b, c, d, e) :\n",
    "    print(type(t))"
   ]
  },
  {
   "cell_type": "code",
   "execution_count": 538,
   "metadata": {
    "collapsed": true
   },
   "outputs": [],
   "source": [
    "def SaveProcessingVariables(base_name, num_lsi_topics, post_lsi, title_lsi, dictionary, comment_bins) :\n",
    "    \"function to store all processing variables in separate files\"\n",
    "    \n",
    "    file_name = '{}_num_lsi_topics.p'.format(base_name)\n",
    "    pickle.dump(num_lsi_topics, open(file_name, 'wb'))\n",
    "    \n",
    "    file_name = '{}_post_lsi.p'.format(base_name)\n",
    "    pickle.dump(post_lsi, open(file_name, 'wb'))\n",
    "    \n",
    "    file_name = '{}_title_lsi.p'.format(base_name)\n",
    "    pickle.dump(title_lsi, open(file_name, 'wb'))\n",
    "    \n",
    "    file_name = '{}_dictionary.p'.format(base_name)\n",
    "    pickle.dump(dictionary, open(file_name, 'wb'))\n",
    "    \n",
    "    file_name = '{}_comment_bins.p'.format(base_name)\n",
    "    pickle.dump(comment_bins, open(file_name, 'wb'))\n",
    "    \n",
    "    return"
   ]
  },
  {
   "cell_type": "code",
   "execution_count": 539,
   "metadata": {},
   "outputs": [],
   "source": [
    "SaveProcessingVariables('Model_binned_1', num_lsi_topics, post_lsi, title_lsi, all_dictionary, comment_bins)"
   ]
  },
  {
   "cell_type": "code",
   "execution_count": 350,
   "metadata": {},
   "outputs": [
    {
     "name": "stdout",
     "output_type": "stream",
     "text": [
      "(100, <gensim.models.lsimodel.LsiModel object at 0x7fa627dac0b8>, <gensim.models.lsimodel.LsiModel object at 0x7fa627dac080>, <gensim.corpora.dictionary.Dictionary object at 0x7fa627dacc50>, [0, 1, 2, 4, 400], LogisticRegression(C=1.0, class_weight=None, dual=False, fit_intercept=True,\n",
      "          intercept_scaling=1, max_iter=100, multi_class='ovr', n_jobs=1,\n",
      "          penalty='l2', random_state=None, solver='liblinear', tol=0.0001,\n",
      "          verbose=0, warm_start=False))\n"
     ]
    }
   ],
   "source": [
    "def LoadParameters(model_file_name = 'Model_binned_1_logreg_model.p', \n",
    "                   processing_file_name = 'Model_binned_1_processing') :\n",
    "    \"Load variables needed to process a single post\"\n",
    "    import pickle\n",
    "    temp = pickle.load(open(processing_file_name, 'rb'))\n",
    "    (num_lsi_topics, post_lsi, title_lsi, all_dictionary, \n",
    "         comment_bins) = temp.extract_all()\n",
    "    model = pickle.load(open(model_file_name, 'rb'))\n",
    "    \n",
    "    return (num_lsi_topics, post_lsi, title_lsi, all_dictionary, \n",
    "         comment_bins, model)\n",
    "\n",
    "print(LoadParameters('Model_binned_1_logreg_model.p', 'Model_binned_1_processing'))"
   ]
  },
  {
   "cell_type": "code",
   "execution_count": 369,
   "metadata": {
    "collapsed": true
   },
   "outputs": [],
   "source": [
    "def PreProcessData(title, post, post_time) :\n",
    "    \"\"\" This processes user entered data.  All input parameters are strings.\n",
    "    \"\"\"\n",
    "    import pandas as pd\n",
    "    \n",
    "    date = time.strptime(s, r\"%m/%d/%Y %I:%M:%S %p\")\n",
    "    data = pd.DataFrame({\n",
    "        'title': title, \n",
    "        'selftext': post, \n",
    "        'created_dayofweek': date.tm_wday,\n",
    "        'created_hour': date.tm_hour,\n",
    "        'created_month': date.tm_mon,\n",
    "        'created_year': 2014,\n",
    "        }, index=[0])\n",
    "        \n",
    "    data['post_char_len'] = data.selftext.apply(lambda x: len(x))\n",
    "    data['post_num_qs'] = data.selftext.apply(lambda x: x.count('?'))\n",
    "    data['title_char_len'] = data.title.apply(lambda x: len(x))\n",
    "    data['title_num_qs'] = data.title.apply(lambda x: x.count('?'))\n",
    "    \n",
    "    def CountPostPunctuation(row) :\n",
    "        # count the number of punctuation in the selftext\n",
    "        import string\n",
    "        punc_set = set(string.punctuation)\n",
    "        num_punc = 0\n",
    "        for char in row['selftext'] :\n",
    "            if char in punc_set :\n",
    "                num_punc += 1\n",
    "        return num_punc\n",
    "    def CountTitlePunctuation(row) :\n",
    "        # count the number of punctuation in the selftext\n",
    "        import string\n",
    "        punc_set = set(string.punctuation)\n",
    "        num_punc = 0\n",
    "        for char in row['title'] :\n",
    "            if char in punc_set :\n",
    "                num_punc += 1\n",
    "        return num_punc\n",
    "\n",
    "    data['post_num_punc'] = data.apply(CountPostPunctuation, axis=1)\n",
    "    data['title_num_punc'] = data.apply(CountTitlePunctuation, axis=1)\n",
    "    data['post_perc_punc'] = data.post_num_punc / data.post_char_len\n",
    "    data['title_perc_punc'] = data.title_num_punc / data.title_char_len\n",
    "    data.post_perc_punc = data.post_perc_punc.fillna(0)\n",
    "        \n",
    "    return data"
   ]
  },
  {
   "cell_type": "code",
   "execution_count": 362,
   "metadata": {
    "collapsed": true
   },
   "outputs": [],
   "source": [
    "test = pd.DataFrame({\n",
    "        'title': test_title, \n",
    "        'selftext': test_post\n",
    "        }, index=[0])"
   ]
  },
  {
   "cell_type": "code",
   "execution_count": 484,
   "metadata": {},
   "outputs": [],
   "source": [
    "def ProcessText(df, post, title, dictionary, post_lsi, title_lsi) :\n",
    "    \"\"\" Process text fields to create all features.\n",
    "        Returns an dataframe containing the new features.\n",
    "    \"\"\"\n",
    "\n",
    "    def helper(text, dictionary, lsi) :\n",
    "        \"process just one text\"\n",
    "        #from gensim import corpora, models, similarities\n",
    "        from nltk.tokenize import WordPunctTokenizer\n",
    "        import string\n",
    "        from nltk.stem.snowball import SnowballStemmer\n",
    "        from nltk.corpus import stopwords\n",
    "\n",
    "        stop_words = set(stopwords.words('english'))\n",
    "        punctuation = set(string.punctuation)\n",
    "        word_punct_tokenizer = WordPunctTokenizer()\n",
    "        stemmer = SnowballStemmer(\"english\", ignore_stopwords=True)\n",
    "\n",
    "        words = word_punct_tokenizer.tokenize(text)\n",
    "        words = [w for w in words if (w not in stop_words)]\n",
    "        text_tokenized = [stemmer.stem(word.lower()) for word in words]\n",
    "        text_vec = dictionary.doc2bow(text_tokenized)\n",
    "                \n",
    "        text_features = lsi[text_vec]\n",
    "        if len(text_features) == lsi.num_topics :\n",
    "            text_features = [y for (z,y) in text_features]\n",
    "        else :\n",
    "            text_features = [0 for x in range(lsi.num_topics)]\n",
    "    \n",
    "        return text_tokenized, text_vec, text_features\n",
    "    \n",
    "    (post_tokenized, post_vec, post_features) = helper(post, dictionary, post_lsi) \n",
    "    (title_tokenized, title_vec, title_features) = helper(title, dictionary, title_lsi) \n",
    "    \n",
    "    df_new = df.copy()\n",
    "    df_new = df_new.assign(post_word_len1 = len(post.split()))\n",
    "    df_new = df_new.assign(post_word_len2 = len(post))\n",
    "    df_new = df_new.assign(title_word_len1 = len(title.split()))\n",
    "    df_new = df_new.assign(title_word_len2 = len(title))\n",
    "    \n",
    "    post_col_names = ['post_lsi_{}'.format(x) for x in range(len(post_features))]\n",
    "    post_features = pd.DataFrame(data=[post_features], columns=post_col_names, index=[0])\n",
    "    df_new = df_new.join(post_features)\n",
    "\n",
    "    title_col_names = ['title_lsi_{}'.format(x) for x in range(len(title_features))]\n",
    "    title_features = pd.DataFrame(data=[title_features], columns=title_col_names, index=[0])\n",
    "    df_new = df_new.join(pd.DataFrame(title_features, index=[0]))\n",
    "                           \n",
    "    df_new = df_new.drop(['selftext', 'title'], axis=1)\n",
    "                           \n",
    "    def AddLSAFeatures(data_old, post_lsi_features, title_lsi_features) :\n",
    "        \"\"\" Add the LSA features to the dataframe, remove the title and post fields.\n",
    "            Need to reset index values so no rows are dropped.\n",
    "        \"\"\"\n",
    "        data_new = data_old.copy()\n",
    "        post_lsi_features = post_lsi_features.set_index(data_new.index)\n",
    "        title_lsi_features = title_lsi_features.set_index(data_new.index)\n",
    "        data_new = data_new.join(post_lsi_features)\n",
    "        data_new = data_new.join(title_lsi_features)\n",
    "        data_new = data_new.drop(['selftext', 'title'], axis=1)\n",
    "\n",
    "        return data_new\n",
    "                           \n",
    "\n",
    "    def ComputeDocumentLSIs(documents, lsi, N, label_base = 'lsi') : \n",
    "        \" Compute the LSI representation of every document in the corpus\"\n",
    "        baseline = [0 for x in range(N)]\n",
    "        col_labels = ['{}_{}'.format(label_base, x) for x in range(N)]\n",
    "        new_features = pd.DataFrame([], columns=col_labels)\n",
    "        for (x, text) in enumerate(documents) :\n",
    "            if len(text) > 0:\n",
    "                lsi_temp = lsi[text]\n",
    "                if len(lsi_temp) == N :\n",
    "                    temp = [y for (z,y) in lsi_temp]\n",
    "                    new_features.loc[x] = temp\n",
    "                else :\n",
    "                    #print(x, len(temp))\n",
    "                    new_features.loc[x] = baseline\n",
    "            else :\n",
    "                new_features.loc[x] = baseline\n",
    "        return new_features\n",
    "\n",
    "                           \n",
    "    return df_new"
   ]
  },
  {
   "cell_type": "code",
   "execution_count": 388,
   "metadata": {
    "collapsed": true
   },
   "outputs": [],
   "source": [
    "index = 5\n",
    "test_title = results[index]['title']\n",
    "test_post = results[index]['selftext']\n",
    "test_time = pd.to_datetime(results[index]['created_utc'], unit=\"s\").__str__() + ' AM'"
   ]
  },
  {
   "cell_type": "code",
   "execution_count": 487,
   "metadata": {},
   "outputs": [
    {
     "data": {
      "text/html": [
       "<div>\n",
       "<style>\n",
       "    .dataframe thead tr:only-child th {\n",
       "        text-align: right;\n",
       "    }\n",
       "\n",
       "    .dataframe thead th {\n",
       "        text-align: left;\n",
       "    }\n",
       "\n",
       "    .dataframe tbody tr th {\n",
       "        vertical-align: top;\n",
       "    }\n",
       "</style>\n",
       "<table border=\"1\" class=\"dataframe\">\n",
       "  <thead>\n",
       "    <tr style=\"text-align: right;\">\n",
       "      <th></th>\n",
       "      <th>created_dayofweek</th>\n",
       "      <th>created_hour</th>\n",
       "      <th>created_month</th>\n",
       "      <th>created_year</th>\n",
       "      <th>post_char_len</th>\n",
       "      <th>post_num_qs</th>\n",
       "      <th>title_char_len</th>\n",
       "      <th>title_num_qs</th>\n",
       "      <th>post_num_punc</th>\n",
       "      <th>title_num_punc</th>\n",
       "      <th>...</th>\n",
       "      <th>title_lsi_90</th>\n",
       "      <th>title_lsi_91</th>\n",
       "      <th>title_lsi_92</th>\n",
       "      <th>title_lsi_93</th>\n",
       "      <th>title_lsi_94</th>\n",
       "      <th>title_lsi_95</th>\n",
       "      <th>title_lsi_96</th>\n",
       "      <th>title_lsi_97</th>\n",
       "      <th>title_lsi_98</th>\n",
       "      <th>title_lsi_99</th>\n",
       "    </tr>\n",
       "  </thead>\n",
       "  <tbody>\n",
       "    <tr>\n",
       "      <th>0</th>\n",
       "      <td>2</td>\n",
       "      <td>14</td>\n",
       "      <td>9</td>\n",
       "      <td>2014</td>\n",
       "      <td>729</td>\n",
       "      <td>0</td>\n",
       "      <td>30</td>\n",
       "      <td>1</td>\n",
       "      <td>30</td>\n",
       "      <td>1</td>\n",
       "      <td>...</td>\n",
       "      <td>0.011998</td>\n",
       "      <td>0.077903</td>\n",
       "      <td>-0.002321</td>\n",
       "      <td>0.025899</td>\n",
       "      <td>-0.019282</td>\n",
       "      <td>-0.079719</td>\n",
       "      <td>-0.051448</td>\n",
       "      <td>0.092041</td>\n",
       "      <td>0.09908</td>\n",
       "      <td>-0.076621</td>\n",
       "    </tr>\n",
       "  </tbody>\n",
       "</table>\n",
       "<p>1 rows × 216 columns</p>\n",
       "</div>"
      ],
      "text/plain": [
       "   created_dayofweek  created_hour  created_month  created_year  \\\n",
       "0                  2            14              9          2014   \n",
       "\n",
       "   post_char_len  post_num_qs  title_char_len  title_num_qs  post_num_punc  \\\n",
       "0            729            0              30             1             30   \n",
       "\n",
       "   title_num_punc      ...       title_lsi_90  title_lsi_91  title_lsi_92  \\\n",
       "0               1      ...           0.011998      0.077903     -0.002321   \n",
       "\n",
       "   title_lsi_93  title_lsi_94  title_lsi_95  title_lsi_96  title_lsi_97  \\\n",
       "0      0.025899     -0.019282     -0.079719     -0.051448      0.092041   \n",
       "\n",
       "   title_lsi_98  title_lsi_99  \n",
       "0       0.09908     -0.076621  \n",
       "\n",
       "[1 rows x 216 columns]"
      ]
     },
     "execution_count": 487,
     "metadata": {},
     "output_type": "execute_result"
    }
   ],
   "source": [
    "df1 = PreProcessData(test_title, test_post, test_time)\n",
    "df2 = ProcessText(df1, test_post, test_title, all_dictionary, post_lsi, title_lsi)\n",
    "df2.head()"
   ]
  },
  {
   "cell_type": "code",
   "execution_count": 496,
   "metadata": {
    "scrolled": false
   },
   "outputs": [
    {
     "name": "stdout",
     "output_type": "stream",
     "text": [
      "Percent matching = 100.00%\n"
     ]
    }
   ],
   "source": [
    "i = 0\n",
    "for (x,y) in zip(data_binned.columns, df2.columns) :\n",
    "    if x != y :\n",
    "        print('no match!')\n",
    "    else :\n",
    "        i += 1\n",
    "print('Percent matching = {:.2f}%'.format(i/len(df2.columns)*100))"
   ]
  },
  {
   "cell_type": "code",
   "execution_count": 348,
   "metadata": {},
   "outputs": [
    {
     "data": {
      "text/plain": [
       "'2014-02-14 11:53:59'"
      ]
     },
     "execution_count": 348,
     "metadata": {},
     "output_type": "execute_result"
    }
   ],
   "source": [
    "test = pd.to_datetime(test_utc, unit=\"s\").__str__()\n",
    "test"
   ]
  },
  {
   "cell_type": "code",
   "execution_count": 386,
   "metadata": {},
   "outputs": [
    {
     "data": {
      "text/plain": [
       "5"
      ]
     },
     "execution_count": 386,
     "metadata": {},
     "output_type": "execute_result"
    }
   ],
   "source": [
    "index"
   ]
  },
  {
   "cell_type": "code",
   "execution_count": 506,
   "metadata": {
    "collapsed": true
   },
   "outputs": [],
   "source": [
    "def ClassifyPost(title, post, time_stamp) :\n",
    "    \"\"\"Takes post information and classifies it according to the model.\n",
    "    \"\"\"\n",
    "    \n",
    "    (num_lsi_topics, post_lsi, title_lsi, all_dictionary, \n",
    "         comment_bins, model) = LoadParameters()\n",
    "    \n",
    "    df = PreProcessData(title, post, time_stamp)\n",
    "    df = ProcessText(df, post, title, all_dictionary, post_lsi, title_lsi)\n",
    "    \n",
    "    #print(df.head())\n",
    "    \n",
    "    # model.predict(df)\n",
    "    return model.predict(df)[0]"
   ]
  },
  {
   "cell_type": "markdown",
   "metadata": {},
   "source": [
    "Now it's just a matter of feeding the information into the function and letting it go!"
   ]
  },
  {
   "cell_type": "code",
   "execution_count": 512,
   "metadata": {},
   "outputs": [
    {
     "name": "stdout",
     "output_type": "stream",
     "text": [
      "1\n"
     ]
    }
   ],
   "source": [
    "print(ClassifyPost(test_title, test_post, test_time))"
   ]
  },
  {
   "cell_type": "code",
   "execution_count": 521,
   "metadata": {},
   "outputs": [
    {
     "data": {
      "text/plain": [
       "0"
      ]
     },
     "execution_count": 521,
     "metadata": {},
     "output_type": "execute_result"
    }
   ],
   "source": [
    "data_binned.comment_category.iloc[6]"
   ]
  },
  {
   "cell_type": "code",
   "execution_count": 532,
   "metadata": {},
   "outputs": [
    {
     "name": "stdout",
     "output_type": "stream",
     "text": [
      "0; model [0], post 1\n",
      "0; model [0], post 1\n",
      "0; model [0], post 1\n",
      "0; model [0], post 3\n",
      "0; model [0], post 0\n",
      "2; model [3], post 1\n",
      "0; model [0], post 3\n",
      "0; model [0], post 1\n",
      "0; model [0], post 3\n",
      "0; model [0], post 0\n"
     ]
    }
   ],
   "source": [
    "data_x = data_binned.drop('comment_category', axis=1)\n",
    "for index in range(10) :\n",
    "    test_title = results[index]['title']\n",
    "    test_post = results[index]['selftext']\n",
    "    test_time = pd.to_datetime(results[index]['created_utc'], unit=\"s\").__str__()\n",
    "\n",
    "    prediction = ClassifyPost(test_title, test_post, test_time)\n",
    "    raw_prediction = model_binned_1_logreg.model.predict(data_x.iloc[index].values.reshape(1, -1))\n",
    "    print('{}; model {}, post {}'.format(data_binned.comment_category.iloc[index],\n",
    "                                         raw_prediction, \n",
    "                                         prediction, ))"
   ]
  },
  {
   "cell_type": "code",
   "execution_count": 534,
   "metadata": {},
   "outputs": [
    {
     "data": {
      "text/plain": [
       "1.0"
      ]
     },
     "execution_count": 534,
     "metadata": {},
     "output_type": "execute_result"
    }
   ],
   "source": [
    "model_binned_1_logreg.model.C"
   ]
  }
 ],
 "metadata": {
  "kernelspec": {
   "display_name": "Python 3",
   "language": "python",
   "name": "python3"
  },
  "language_info": {
   "codemirror_mode": {
    "name": "ipython",
    "version": 3
   },
   "file_extension": ".py",
   "mimetype": "text/x-python",
   "name": "python",
   "nbconvert_exporter": "python",
   "pygments_lexer": "ipython3",
   "version": "3.6.1"
  }
 },
 "nbformat": 4,
 "nbformat_minor": 2
}
